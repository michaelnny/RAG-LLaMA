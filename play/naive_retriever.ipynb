{
  "cells": [
    {
      "cell_type": "markdown",
      "metadata": {},
      "source": [
        "Naive retrieval without reranking"
      ]
    },
    {
      "cell_type": "code",
      "execution_count": 1,
      "metadata": {},
      "outputs": [],
      "source": [
        "# simple hack to support import module from parent directory\n",
        "import sys\n",
        "sys.path.append('../')\n",
        "\n",
        "from rag_llama.core.retrievers import NaiveRetriever"
      ]
    },
    {
      "cell_type": "code",
      "execution_count": 2,
      "metadata": {},
      "outputs": [
        {
          "name": "stdout",
          "output_type": "stream",
          "text": [
            "Loading sentence-transformers/all-MiniLM-L6-v2 model and tokenizer from HuggingFace...\n"
          ]
        }
      ],
      "source": [
        "naive_retriever = NaiveRetriever(embed_file='../data/Tesla_manual_embeddings.pk')"
      ]
    },
    {
      "cell_type": "code",
      "execution_count": 3,
      "metadata": {},
      "outputs": [],
      "source": [
        "def find_top_matches(question: str, top_k=3):\n",
        "    top_matches = naive_retriever.retrieve(question, top_k)\n",
        "\n",
        "    for item in top_matches:\n",
        "        print(f'Document: {item[\"document_title\"]}')\n",
        "        print(f'Subject: {item[\"subject\"]}')\n",
        "        print(f'Section: {item[\"section\"]}')\n",
        "        print(f'Content: {item[\"content\"]}')\n",
        "        print(f'Score: {item[\"score\"]}')\n",
        "        print('\\n')"
      ]
    },
    {
      "cell_type": "code",
      "execution_count": 4,
      "metadata": {},
      "outputs": [
        {
          "name": "stdout",
          "output_type": "stream",
          "text": [
            "Document: MODEL S 2012–2020 OWNER'S MANUAL\n",
            "Subject: Sentry Mode\n",
            "Section: How to Use Sentry Mode (Without a USB Flash Drive)\n",
            "Content: When Sentry mode is enabled and a security event is detected but without a USB drive plugged into a USB port, your vehicle alerts you through the mobile app, without any camera recordings.\n",
            "Score: 0.6247023344039917\n",
            "\n",
            "\n",
            "Document: MODEL S 2021 + OWNER'S MANUAL\n",
            "Subject: Sentry Mode\n",
            "Section: How to Use Sentry Mode (Without a USB Flash Drive)\n",
            "Content: When Sentry mode is enabled and a security event is detected but without a USB drive plugged into a USB port, your vehicle alerts you through the mobile app, without any camera recordings.\n",
            "Score: 0.6102588772773743\n",
            "\n",
            "\n",
            "Document: MODEL S 2021 + OWNER'S MANUAL\n",
            "Subject: Sentry Mode\n",
            "Section: How to Use Dashcam - part 2\n",
            "Content: While dashcam is busy, footage is not being captured and recorded. SAVED: Footage is saved. You can also save Dashcam clips by touching the Dashcam icon in the app launcher while Driving. NOTE: Once saved, Dashcam saves the last 10 minutes of footage. 5. When your desired footage is saved, view the clips on the touchscreen or a computer:\n",
            "◦ Touchscreen: Ensure Model S is in Park and touch the Dashcam icon in the app launcher. Videos are organized by timestamp. See Viewing Video Recordings on page 145 for more information. ◦ Computer: Insert the USB flash drive into a computer and navigate to the TeslaCam folder. Videos are organized by timestamp. See Viewing Video Recordings on page 145 for more information. 6. To turn Dashcam off, navigate to Controls > Dash cam > Off. If set to Auto, Manual, or On Honk, Dashcam automatically enables (but may not be actively saving footage, depending on your preferences) every time you drive. NOTE: Depending on market region, vehicle configuration, options purchased, and software version, your vehicle may not be equipped with Sentry Mode or the features may not operate exactly as described. It is your sole responsibility to consult and comply with all local regulations and property restrictions regarding the use of cameras. When enabled, your vehicle's cameras and sensors (if equipped) remain powered on and ready to record suspicious activity around your vehicle when Model S is locked and in Park. Think of Sentry Mode as an intelligent vehicle security system that alerts you when it detects possible threats nearby. If a threat is detected, Sentry Mode pulses the headlights, sounds the alarm, and displays a message on the touchscreen indicating that the cameras may be recording to inform individuals outside of the vehicle. The mobile app alerts you of the alarm and footage of the event is saved to USB drive (if installed). Sentry Mode is disabled by default. You can use voice commands or the Tesla mobile app to easily enable or disable Sentry Mode. To enable Sentry Mode using voice commands, say \"Keep Tesla safe,\" \"Keep my car safe,\" \"Sentry on,\" or \"Enable Sentry\" (see Voice Commands on page 18). Sentry Mode requires your Battery to be at least 20% charged.\n",
            "Score: 0.6035290956497192\n",
            "\n",
            "\n"
          ]
        }
      ],
      "source": [
        "question = \"How to enable Sentry Mode on my Tesla model S?\"\n",
        "find_top_matches(question)"
      ]
    },
    {
      "cell_type": "code",
      "execution_count": 5,
      "metadata": {},
      "outputs": [
        {
          "name": "stdout",
          "output_type": "stream",
          "text": [
            "Document: MODEL S 2012–2020 OWNER'S MANUAL\n",
            "Subject: Full Self-Driving (Beta)\n",
            "Section: Tips\n",
            "Content: • Fullscreen visualization: You can widen the visualization area to fullscreen. First enable the setting by touching Controls > Autopilot > Full Self-Driving > Expanded Full Self-Driving Visualization.\n",
            "• Feedback: If you experience incorrect or unexpected behavior, touch the snapshot icon (if equipped) at the top of the touchscreen to send data to Tesla for analysis. Tesla uses this data to improve the intelligence of Full Self-Driving (Beta).\n",
            "• Maintain software updates and cameras: Always remember that Full Self-Driving (Beta) does not make Model S autonomous. Full autonomy is dependent on achieving reliability far in excess of human drivers as demonstrated by billions of miles of experience, as well as regulatory approval. As Tesla’s Full Self-Driving capabilities evolve, Model S is continuously upgraded through over-the-air software updates. Download updates as soon as they become available. To ensure an optimum experience, keep all cameras clean and unobstructed.\n",
            "Score: 0.5743739604949951\n",
            "\n",
            "\n",
            "Document: MODEL S 2021 + OWNER'S MANUAL\n",
            "Subject: Full Self-Driving (Beta)\n",
            "Section: Limitations - part 2\n",
            "Content: Unlike Traffic-Aware Cruise Control, Autosteer, and Navigate on Autopilot, which are intended for use on multi-lane roadways with clear lane markings, Full Self-Driving (Beta) is meant to work in a variety of driving scenarios. You can use Full Self-Driving (Beta) on any type of roadway, including residential and city streets. Always remember that Full Self-Driving (Beta) does not make Model S autonomous and requires a fully attentive driver who is ready to take immediate action at all times. While Full Self-Driving (Beta) is engaged, you must monitor your surroundings and other road users at all times. Driver intervention may be required in certain situations, such as on narrow roads with oncoming cars, in construction zones, or while going through complex intersections. For more examples of scenarios in which driver intervention might be required, see Limitations and Warnings on page 125. Full Self-Driving (Beta) uses inputs from cameras mounted at the front, rear, left, and right of Model S to build a model of the area surrounding Model S (see Cameras on page 20). The Full Self-Driving computer installed in Model S is designed to use this input, rapidly process neural networks, and make decisions to safely guide you to your destination. NOTE: Full Self-Driving (Beta) is a beta feature. As Tesla’s Full Self-Driving (Beta) capabilities evolve, Model S is upgraded through over-the-air software updates. Download updates as soon as they become available. Like other Autopilot features, Full Self-Driving (Beta) requires a fully attentive driver and will display a series of escalating warnings requiring driver response. You must keep your hands on the steering yoke (or steering wheel) while Full Self-Driving (Beta) is engaged. In addition, the cabin camera monitors driver attentiveness (see Cabin Camera on page 20). Use Full Self-Driving (Beta) in limited Beta only if you will pay constant attention to the road and be prepared to act immediately, especially around blind corners, crossing intersections, and in narrow driving situations. For more information, see Limitations and Warnings on page 125.\n",
            "CAUTION: As Full Self-Driving (Beta) deployment expands, Tesla will gradually make it available to eligible customers in select countries outside of the United States and Canada.\n",
            "Score: 0.5320783257484436\n",
            "\n",
            "\n",
            "Document: MODEL S 2021 + OWNER'S MANUAL\n",
            "Subject: Full Self-Driving (Beta)\n",
            "Section: Limitations - part 3\n",
            "Content: Because every country contains unique infrastructure, driving behaviors, and traffic patterns that Full Self-Driving (Beta) must adapt to over time, it is essential for drivers using Full Self-Driving (Beta) in newly eligible countries to be extra attentive and overly cautious. You must be ready to take over safely at any time. WARNING: Full Self-Driving (Beta) is a hands-on feature that requires you to pay attention to the road at all times. Keep your hands on the steering yoke (or steering wheel) at all times, be mindful of road conditions and surrounding traffic, pay attention to pedestrians and cyclists, and always be prepared to take immediate action. Failure to follow these instructions could cause damage, serious injury or death. It is your responsibility to familiarize yourself with the limitations of Full Self-Driving (Beta) and the situations in which it may not work as expected. For more information, see Limitations and Warnings on page 125.\n",
            "Score: 0.5065231323242188\n",
            "\n",
            "\n"
          ]
        }
      ],
      "source": [
        "question = \"Under what circumstances that I should not use full self-driving on my Tesla?\"\n",
        "find_top_matches(question)"
      ]
    },
    {
      "cell_type": "code",
      "execution_count": 6,
      "metadata": {},
      "outputs": [
        {
          "name": "stdout",
          "output_type": "stream",
          "text": [
            "Document: MODEL S 2021 + OWNER'S MANUAL\n",
            "Subject: Touchscreen\n",
            "Section: Restarting the Touchscreen\n",
            "Content: You can restart your touchscreen if it is unresponsive or demonstrates unusual behavior.\n",
            "NOTE: To ensure the safety of occupants as well as other road users, restart the touchscreen only when the vehicle is in Park.\n",
            "1. Shift into Park.\n",
            "2. Hold down both scroll buttons on the steering yoke (or steering wheel) until the touchscreen turns black. Pressing the brake pedal while holding down the scroll buttons does not have any impact and is not required.\n",
            "3. After a few seconds, the Tesla logo appears. Wait approximately 30 seconds for the touchscreen to restart. If the touchscreen is still unresponsive or demonstrating unusual behavior after a few minutes, try power cycling the vehicle (if possible). See Power Cycling the Vehicle on page 65.\n",
            "NOTE: Restarting the touchscreen also activates the drive mode selector on the center console.\n",
            "NOTE: Pressing the scroll buttons only restarts the touchscreen. It does not restart any other vehicle component and does not power Model S off and on.\n",
            "Score: 0.7300341129302979\n",
            "\n",
            "\n",
            "Document: MODEL S 2012–2020 OWNER'S MANUAL\n",
            "Subject: Touchscreen\n",
            "Section: Restarting the Touchscreen or Instrument Panel\n",
            "Content: You can restart your touchscreen if it is unresponsive or demonstrates unusual behavior.\n",
            "NOTE: To ensure the safety of occupants as well as other road users, restart the touchscreen only when the vehicle is in Park.\n",
            "1. Shift into Park.\n",
            "2. Hold down both scroll buttons on the steering wheel until the touchscreen turns black. Pressing the brake pedal while holding down the scroll buttons does not have any impact and is not required.\n",
            "3. After a few seconds, the Tesla logo appears. Wait approximately 30 seconds for the touchscreen to restart. If the touchscreen is still unresponsive or demonstrating unusual behavior after a few minutes, try power cycling the vehicle (if possible). See Power Cycling the Vehicle on page 62.\n",
            "To reset the instrument panel, shift into Park and press the top two buttons on the steering wheel ( Voice Commands and Next) for 15-30 seconds, or until the screen turns black. A few seconds later, a Tesla logo appears. Wait approximately 30 seconds for the instrument panel to restart.\n",
            "NOTE: Pressing the scroll buttons only restarts the touchscreen. It does not restart any other vehicle component and does not power Model S off and on.\n",
            "Score: 0.7273500561714172\n",
            "\n",
            "\n",
            "Document: MODEL S 2012–2020 OWNER'S MANUAL\n",
            "Subject: Troubleshooting Alerts\n",
            "Section: Service performing remote diagnostics\n",
            "Content: What this alert means: A service technician is remotely logged into your vehicle for diagnosis or repair. You may notice some loss of Infotainment functionality while the connection persists, but this alert does not indicate an issue with your vehicle. Your vehicle is OK to drive. What to do: This alert should clear automatically after the technician completes vehicle diagnosis or repair. You may find it necessary to restart your touchscreen to restore full Infotainment functionality after the alert has cleared.For more information, see Restarting the Touchscreen in your vehicle's Do It Yourself Guide. If this alert does not clear after 24 hours, it is recommended that you schedule service via your Tesla Mobile App or with an independent service provider. Please note that independent service provider options may vary, based on your vehicle configuration and your location.\n",
            "Score: 0.62459397315979\n",
            "\n",
            "\n"
          ]
        }
      ],
      "source": [
        "question = \"What should I do if the touchscreen is not responding on my Tesla?\"\n",
        "find_top_matches(question)"
      ]
    },
    {
      "cell_type": "code",
      "execution_count": 7,
      "metadata": {},
      "outputs": [
        {
          "name": "stdout",
          "output_type": "stream",
          "text": [
            "Document: MODEL S 2021 + OWNER'S MANUAL\n",
            "Subject: Keys\n",
            "Section: Key Card\n",
            "Content: Tesla provides you with two Model S key cards, designed to fit in your wallet. To use a key card to unlock or lock Model S, position the card as shown and tap it against the card reader located approximately one third the way up of the driver's side door pillar. When Model S detects the key card, the exterior lights flash, the mirrors unfold or fold (if Fold Mirrors is on), the horn sounds (if Lock Confirmation Sound is on), and the doors unlock or lock.\n",
            "NOTE: You may need to physically touch the wireless phone charger or driver's side door pillar with the key card, and you may need to hold it against the transmitter for one or two seconds.\n",
            "Once inside, power up Model S by pressing the brake pedal within two minutes of scanning the key card (see Starting and Powering Off on page 65). If you wait longer than two minutes, you must re-authenticate by placing the key card near the card reader located in the wireless phone charger on the center console. When your key card is detected, your two minute authentication period restarts.\n",
            "NOTE: If enabled, Walk-Away Door Lock (see Walk-Away Door Lock on page 27) operates only when you walk away using a phone key or passive key fob. When you walk away carrying your key card, Model S does not automatically unlock/lock.\n",
            "Score: 0.7043730020523071\n",
            "\n",
            "\n",
            "Document: MODEL S 2021 + OWNER'S MANUAL\n",
            "Subject: Doors\n",
            "Section: Replacing Key cards\n",
            "Content: If you lose a key card, you can purchase replacement ones on the Tesla Shop. When ready to pair, simply follow the steps in Adding and Removing Keys on page 25. Remember to remove your old key cards from Controls > Locks > Keys for security purposes. In the event you lose both keys cards, schedule a service appointment through the mobile app to replace and pair them.\n",
            "Score: 0.691103994846344\n",
            "\n",
            "\n",
            "Document: MODEL S 2021 + OWNER'S MANUAL\n",
            "Subject: Keys\n",
            "Section: Types of Keys\n",
            "Content: Model S supports the following types of keys:\n",
            "• Phone key - You can set up your personal phone as a \"phone key\" that communicate with Model S using Bluetooth. A phone key supports automatic locking and unlocking.\n",
            "• Key card - Tesla provides two key cards that communicates with Model S using short range radio-frequency identification (RFID) signals. The key card is used to \"authenticate\" phone keys to work with Model S and to add or remove other keys. Unlike the phone key and key fobs, the key card does not support automatic locking and unlocking. In situations where your phone key has a dead battery, or is lost or stolen, use your key card to unlock, drive, and lock Model S.\n",
            "• Key fob - The key fob (if equipped) allows you to press buttons to open the front and rear trunks, and unlock, lock, and drive Model S. The key fob also supports automatic locking and unlocking, if available in your region (see Walk-Away Door Lock on page 27Passive Locking and Unlocking on page 24) and can be used as a backup to your phone key.\n",
            "Model S supports a total of 19 keys, which can include phone keys, key cards, and up to four key fobs.\n",
            "CAUTION: Remember to bring a key with you when you drive. Although you can drive Model S away from its key, you will be unable to power it back on after it powers off.\n",
            "Score: 0.6864175200462341\n",
            "\n",
            "\n"
          ]
        }
      ],
      "source": [
        "question = \"How can I use a key card to open my Tesla?\"\n",
        "find_top_matches(question)"
      ]
    },
    {
      "cell_type": "code",
      "execution_count": 8,
      "metadata": {},
      "outputs": [
        {
          "name": "stdout",
          "output_type": "stream",
          "text": [
            "Document: MODEL S 2021 + OWNER'S MANUAL\n",
            "Subject: Keys\n",
            "Section: Keeping Cameras Free of Obstructions\n",
            "Content: Ensure all cameras are clean and free of obstructions before each drive and before using Autopilot features (see Cleaning a Camera on page 192). Dirty cameras and sensors (if equipped), as well as environmental conditions such as rain and faded lane markings, can affect Autopilot performance. If a camera is obstructed or blinded, Model S displays a message on the instrument cluster and Autopilot features may not be available. For more information on specific alerts, see Troubleshooting Alerts on page 225. Condensation can form inside the camera enclosures, especially if you park your vehicle outside in cold or wet conditions. The instrument cluster may display an alert stating that a camera is blocked and that some or all Autopilot features may be temporarily restricted until the camera vision is clear. To proactively dry the condensation, precondition the cabin by setting it to a warm temperature, turning the windshield defroster on, and directing the front air vents toward the door pillars (see Mobile App on page 54).\n",
            "Score: 0.46416813135147095\n",
            "\n",
            "\n",
            "Document: MODEL S 2012–2020 OWNER'S MANUAL\n",
            "Subject: Keys and Doors\n",
            "Section: Keeping Cameras Free of Obstructions\n",
            "Content: Ensure all cameras are clean and free of obstructions before each drive and before using Autopilot features (see Cleaning a Camera on page 182). Dirty cameras and sensors (if equipped), as well as environmental conditions such as rain and faded lane markings, can affect Autopilot performance. If a camera is obstructed or blinded, Model S displays a message on the instrument cluster and Autopilot features may not be available. For more information on specific alerts, see Troubleshooting Alerts on page 212. Condensation can form inside the camera enclosures, especially if you park your vehicle outside in cold or wet conditions. The instrument cluster may display an alert stating that a camera is blocked and that some or all Autopilot features may be temporarily restricted until the camera vision is clear. To proactively dry the condensation, precondition the cabin by setting it to a warm temperature, turning the windshield defroster on, and directing the front air vents toward the door pillars (see Mobile App on page 51).\n",
            "Score: 0.45384320616722107\n",
            "\n",
            "\n",
            "Document: MODEL S 2012–2020 OWNER'S MANUAL\n",
            "Subject: Summon\n",
            "Section: Limitations - part 1\n",
            "Content: Autopark is particularly unlikely to operate as intended in these situations:\n",
            "• The road is sloped. Autopark is designed to operate on flat roads only. • Visibility is poor (due to heavy rain, snow, fog, etc.). • The curb is constructed of material other than stone, or the curb cannot be detected. • The target parking space is directly adjacent to a wall or pillar (for example, the last parking space of a row in an underground parking structure). • One or more of the sensors (if equipped) or cameras is damaged, dirty, or obstructed (such as by mud, ice, or snow, or by a vehicle bra, excessive paint, or adhesive products such as wraps, stickers, rubber coating, etc.). • Weather conditions (heavy rain, snow, fog, or extremely hot or cold temperatures) are interfering with sensor (if equipped) operation. • The sensors (if equipped) are affected by other electrical equipment or devices that generate ultrasonic waves. WARNING: Many unforeseen circumstances can impair Autopark's ability to park Model S. Keep this in mind and remember that as a result, Autopark may not steer Model S appropriately. Pay attention when parking Model S and stay prepared to immediately take control. NOTE: Depending on market region, vehicle configuration, options purchased, and software version, your vehicle may not be equipped with Summon, or the feature may not operate exactly as described. Summon allows you to automatically park and retrieve Model S while you are standing outside the vehicle. Summon moves Model S forward and reverse up to 39 ft. (12 meters) in, or out of, a parking space. To move Model S a longer distance while steering around objects, you can use Smart Summon (if equipped) and your mobile phone. Smart Summon allows your vehicle to find you (or you can send your vehicle to a chosen location). See Smart Summon on page 122. Summon requires that Model S can detect a valid key nearby. CAUTION: Ensure all cameras and sensors (if equipped) are clean. Dirty cameras and sensors, as well as environmental conditions such as rain and faded lane markings, can affect Autopilot performance. WARNING: Summon is designed and intended for use only on parking lots and driveways on private property where the surrounding area is familiar and predictable.\n",
            "Score: 0.43123188614845276\n",
            "\n",
            "\n"
          ]
        }
      ],
      "source": [
        "question = \"Should I use autopilot in raining or snowing conditions?\"\n",
        "find_top_matches(question)"
      ]
    }
  ],
  "metadata": {
    "kernelspec": {
      "display_name": "Python 3",
      "language": "python",
      "name": "python3"
    },
    "language_info": {
      "codemirror_mode": {
        "name": "ipython",
        "version": 3
      },
      "file_extension": ".py",
      "mimetype": "text/x-python",
      "name": "python",
      "nbconvert_exporter": "python",
      "pygments_lexer": "ipython3",
      "version": "3.11.8"
    }
  },
  "nbformat": 4,
  "nbformat_minor": 2
}
