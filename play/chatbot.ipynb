{
 "cells": [
  {
   "cell_type": "markdown",
   "metadata": {},
   "source": [
    "# Demo of a Tesla customer support assistant chatbot"
   ]
  },
  {
   "cell_type": "code",
   "execution_count": 1,
   "metadata": {},
   "outputs": [],
   "source": [
    "import os\n",
    "from typing import Tuple\n",
    "import torch\n",
    "\n",
    "# simple hack to support import module from parent directory\n",
    "import sys\n",
    "sys.path.append('../')\n",
    "\n",
    "from rag_llama.core.retrievers import RerankRetriever\n",
    "from rag_llama.core.generation import Llama, Dialog\n"
   ]
  },
  {
   "cell_type": "markdown",
   "metadata": {},
   "source": [
    "Set proxy for notebook kernel, note this is only for my local environment and can be removed."
   ]
  },
  {
   "cell_type": "code",
   "execution_count": 2,
   "metadata": {},
   "outputs": [],
   "source": [
    "# os.environ['http_proxy'] = \"http://127.0.0.1:1081\"\n",
    "# os.environ['https_proxy'] = \"http://127.0.0.1:1081\""
   ]
  },
  {
   "cell_type": "markdown",
   "metadata": {},
   "source": [
    "## Define system message and input query format templates. \n",
    "Note this are for single-turn chat, similar to how search works."
   ]
  },
  {
   "cell_type": "code",
   "execution_count": 3,
   "metadata": {},
   "outputs": [],
   "source": [
    "SYSTEM_MESSAGE_NORAG = \"\"\"\n",
    "You are an assistant to a Tesla customer support team. Your job is to answer customer's questions to the best of your ability.\n",
    "\"\"\"\n",
    "\n",
    "SYSTEM_MESSAGE_WITHRAG = SYSTEM_MESSAGE_NORAG + \"\"\"\n",
    " Your role involves leveraging a set of reference documents to ensure accurate responses. \n",
    " While some documents may not directly apply to every question, focus solely on those that seem pertinent. \n",
    " Avoid referencing or citing documents not provided. \n",
    " Craft concise answers, incorporating relevant sections from the provided documents to assist customers effectively.\n",
    "\"\"\"\n",
    "\n",
    "def get_formatted_input_dialog(query: str, doc_strs: str=None) -> Dialog:\n",
    "\n",
    "    if doc_strs is not None and len(doc_strs) > 10:\n",
    "        combined_query = f\"Question:\\n{query}\\n\\n####\\n\\nDocuments:\\n{doc_strs}\"\n",
    "        dialog = [{'role': 'system', 'content': SYSTEM_MESSAGE_WITHRAG}, {'role': 'user', 'content': combined_query}]\n",
    "    else:\n",
    "        dialog = [{'role': 'system', 'content': SYSTEM_MESSAGE_NORAG},{'role': 'user', 'content': query}]\n",
    "    \n",
    "    return dialog"
   ]
  },
  {
   "cell_type": "markdown",
   "metadata": {},
   "source": [
    "Create the reranking retrieval instance and the LLaMA 2 chat generator instance."
   ]
  },
  {
   "cell_type": "code",
   "execution_count": 4,
   "metadata": {},
   "outputs": [],
   "source": [
    "doc_embed_file = \"../data/Tesla_manual_embeddings.pk\"\n",
    "llama_model_ckpt = os.path.expanduser(\"~/models/meta_llama2/llama-2-7b-chat/consolidated.pth\")\n",
    "llama_tokenizer_ckpt = os.path.expanduser(\"~/models/meta_llama2/tokenizer.model\")\n",
    "device = 'cuda' if torch.cuda.is_available() else 'cpu'\n",
    "\n",
    "# LLM parameters\n",
    "max_seq_len = 4096\n",
    "max_gen_len = 1024\n",
    "temperature = 0.6 # model sampling temperature\n",
    "top_p = 0.9 # model sampling top P\n",
    "\n",
    "# RAG specific parameters\n",
    "top_k = 50 # select top K items to retrieve during naive retrieval\n",
    "top_n = 3 # select top N items based on scores from reranking model"
   ]
  },
  {
   "cell_type": "code",
   "execution_count": 5,
   "metadata": {},
   "outputs": [
    {
     "name": "stdout",
     "output_type": "stream",
     "text": [
      "Loading sentence-transformers/all-MiniLM-L6-v2 model and tokenizer from HuggingFace...\n",
      "Loading cross-encoder/ms-marco-MiniLM-L-6-v2 model and tokenizer from HuggingFace...\n",
      "Starting to load tokenizer checkpoint '/home/michael/models/meta_llama2/tokenizer.model' ...\n",
      "Starting to load model checkpoints '/home/michael/models/meta_llama2/llama-2-7b-chat/consolidated.pth' ...\n",
      "Model checkpoint loaded in 16.15 seconds\n"
     ]
    }
   ],
   "source": [
    "rerank_retriever = RerankRetriever(embed_file=doc_embed_file, device=device)\n",
    "\n",
    "generator = Llama.build(\n",
    "    ckpt_path=llama_model_ckpt,\n",
    "    tokenizer_path=llama_tokenizer_ckpt,\n",
    "    max_seq_len=max_seq_len,\n",
    "    max_batch_size=2,\n",
    "    device=device,\n",
    ")"
   ]
  },
  {
   "cell_type": "markdown",
   "metadata": {},
   "source": [
    "## Main logic for retrieval and LLM generation"
   ]
  },
  {
   "cell_type": "code",
   "execution_count": 6,
   "metadata": {},
   "outputs": [],
   "source": [
    "def run_chat_completions(query: str) -> Tuple[str]:\n",
    "    \"\"\"Run chat completion with the same query twice, one without RAG, and other with RAG\"\"\"\n",
    "\n",
    "    retrieved_items = rerank_retriever.retrieve(query, top_k, top_n)\n",
    "\n",
    "    # Join multiple documents into a single document string\n",
    "    ref_doc_strs = \"\\n\\n\".join([item['formatted_text'] for item in retrieved_items])\n",
    "    \n",
    "    # build two dialogs with the same query, first without using RAG, second using RAG\n",
    "    dialogs = [get_formatted_input_dialog(query, None), get_formatted_input_dialog(query, ref_doc_strs)]\n",
    "\n",
    "    results = []\n",
    "    # passing it separately is much faster due to the fact dialog without RAG is much shorter\n",
    "    for dialog in dialogs:\n",
    "        result = generator.chat_completion(\n",
    "            [dialog],  # input needs to be a batch of dialogs\n",
    "            max_gen_len=max_gen_len,\n",
    "            temperature=temperature,\n",
    "            top_p=top_p,\n",
    "        )\n",
    "\n",
    "        results.extend(result)\n",
    "\n",
    "    response_without_rag = results[0]['generation']['content']\n",
    "    response_with_rag = results[1]['generation']['content']\n",
    "\n",
    "    # add reference documents at the end of response\n",
    "    response_with_rag += f\"\\n\\nReference documents:\\n{ref_doc_strs}\"\n",
    "\n",
    "    return response_without_rag, response_with_rag\n"
   ]
  },
  {
   "cell_type": "markdown",
   "metadata": {},
   "source": [
    "A simple hack to display the chat completions with and without RAG side-by-side for better comparison"
   ]
  },
  {
   "cell_type": "code",
   "execution_count": 7,
   "metadata": {},
   "outputs": [],
   "source": [
    "from IPython.display import HTML, display\n",
    "\n",
    "def display_completions_in_two_column(query, response, response_with_rag):\n",
    "    \"\"\"\n",
    "    Display content in two columns side-by-side.\n",
    "    \n",
    "    Parameters:\n",
    "    query (str): user query\n",
    "    response (str): response for left column.\n",
    "    response_with_rag (str): response for right column.\n",
    "    \"\"\"\n",
    "\n",
    "    # Convert newlines to HTML line breaks and bulleted lists to HTML list items\n",
    "    response = response.replace('\\n', '<br>')\n",
    "    response_with_rag = response_with_rag.replace('\\n', '<br>')\n",
    "\n",
    "    html_content = f'''\n",
    "    <div>\n",
    "        <div style=\"padding: 20px 0; font-weight: bold;\">User: {query}</div>\n",
    "        <div style=\"display: grid; grid-template-columns: repeat(2, 1fr); gap: 20px;\">\n",
    "            <div>\n",
    "                <div style=\"font-weight: bold;\">Assistant:</div>\n",
    "                {response}\n",
    "            </div>\n",
    "            <div>\n",
    "                <div style=\"font-weight: bold;\">Assistant with RAG:</div>\n",
    "                {response_with_rag}\n",
    "            </div>\n",
    "        </div>\n",
    "    <div>\n",
    "    '''\n",
    "    display(HTML(html_content))"
   ]
  },
  {
   "cell_type": "code",
   "execution_count": 8,
   "metadata": {},
   "outputs": [],
   "source": [
    "def ask_question(query: str):\n",
    "    response_without_rag, response_with_rag = run_chat_completions(query)\n",
    "    display_completions_in_two_column(query, response_without_rag, response_with_rag)"
   ]
  },
  {
   "cell_type": "markdown",
   "metadata": {},
   "source": [
    "## Now we can start asking questions about Tesla cars"
   ]
  },
  {
   "cell_type": "code",
   "execution_count": 9,
   "metadata": {},
   "outputs": [
    {
     "data": {
      "text/html": [
       "\n",
       "    <div>\n",
       "        <div style=\"padding: 20px 0; font-weight: bold;\">User: How to enable Autopilot on Tesla Model S 2018 model?</div>\n",
       "        <div style=\"display: grid; grid-template-columns: repeat(2, 1fr); gap: 20px;\">\n",
       "            <div>\n",
       "                <div style=\"font-weight: bold;\">Assistant:</div>\n",
       "                 Hello! I'm happy to help you with your question. Enabling Autopilot on a Tesla Model S 2018 model is a straightforward process. Here are the steps:<br>1. Make sure your vehicle is equipped with Autopilot hardware: Autopilot is only available on certain Tesla models, including the 2018 Model S. Check your vehicle's specifications to confirm if it has the necessary hardware.<br>2. Update your vehicle's software: Before enabling Autopilot, make sure your vehicle's software is up to date. You can check for updates in the Tesla app or by connecting your vehicle to a Supercharger.<br>3. Unlock your vehicle: To enable Autopilot, you'll need to unlock your vehicle using your Tesla app or your key fob.<br>4. Navigate to the Autopilot settings: Once your vehicle is unlocked, navigate to the Autopilot settings by following these steps:<br>a. On your vehicle's touchscreen display, navigate to the \"Settings\" menu.<br>b. Scroll down and select \"Autopilot.\"<br>c. If you haven't already, you'll be prompted to accept the Autopilot terms of use.<br>5. Enable Autopilot: Once you've accepted the terms of use, you'll be able to enable Autopilot. You'll see a message on the screen indicating that Autopilot is enabled.<br>6. Adjust the Autopilot settings: Once Autopilot is enabled, you can adjust the settings to your preferences. You can customize the Autopilot settings by following these steps:<br>a. On your vehicle's touchscreen display, navigate to the \"Settings\" menu.<br>b. Scroll down and select \"Autopilot.\"<br>c. Tap on \"Advanced\" to access more advanced settings.<br>d. Adjust the settings to your preferences, such as the following:<br>i. Adaptive Cruise Control: Adjust the distance between your vehicle and the vehicle ahead of you.<br>ii. Lane Departure Warning: Adjust the sensitivity of the system to detect when your vehicle drifts out of its lane.<br>iii. Autosteer: Adjust the level of assistance provided by the Autosteer system.<br>7. Test the Autopilot system: Once you've adjusted the settings, it's a good idea to test the Autopilot system on the road to ensure it's working correctly.<br>That's it! With these steps, you should be able to enable Autopilot on your Tesla Model S 2018 model. If you have any further questions or concerns, feel free to ask.\n",
       "            </div>\n",
       "            <div>\n",
       "                <div style=\"font-weight: bold;\">Assistant with RAG:</div>\n",
       "                 Thank you for reaching out to us! To enable Autopilot on your Tesla Model S 2018 model, please follow these steps:<br>1. Ensure your vehicle is equipped with the necessary hardware and software for Autopilot. Check the owner's manual for more information.<br>2. Download and install the latest software update for your vehicle. You can check for updates in the Tesla mobile app or by using the in-car touchscreen.<br>3. Ensure your phone is connected to the vehicle and has cellular service and GPS enabled.<br>4. Locate the Autopilot setting in the Controls menu. Touch the Autopilot icon to enable it.<br>5. Once Autopilot is enabled, you can activate Smart Summon by touching the Smart Summon icon in the Controls menu.<br>6. To use Navigate on Autopilot, ensure that the feature is enabled in the Autopilot settings. The Navigate on Autopilot button will appear in the turn-by-turn directions list when you are navigating to a destination.<br>7. For more information on Autopilot features, refer to the owner's manual or Tesla's website.<br><br>Please note that Autopilot is a driver-assistance system and not a fully autonomous driving system. It is important to follow all traffic laws and regulations while using Autopilot.<br>I hope this helps! If you have any further questions, please don't hesitate to ask.<br><br>Reference documents:<br>Document title: MODEL S 2012–2020 OWNER'S MANUAL<br>Car model: MODEL S 2012–2020<br>Software version: 2024.2.3<br>Subject: Full Self-Driving (Beta)<br>Section: Tips<br>Content: • Fullscreen visualization: You can widen the visualization area to fullscreen. First enable the setting by touching Controls > Autopilot > Full Self-Driving > Expanded Full Self-Driving Visualization.<br>• Feedback: If you experience incorrect or unexpected behavior, touch the snapshot icon (if equipped) at the top of the touchscreen to send data to Tesla for analysis. Tesla uses this data to improve the intelligence of Full Self-Driving (Beta).<br>• Maintain software updates and cameras: Always remember that Full Self-Driving (Beta) does not make Model S autonomous. Full autonomy is dependent on achieving reliability far in excess of human drivers as demonstrated by billions of miles of experience, as well as regulatory approval. As Tesla’s Full Self-Driving capabilities evolve, Model S is continuously upgraded through over-the-air software updates. Download updates as soon as they become available. To ensure an optimum experience, keep all cameras clean and unobstructed.<br><br>Document title: MODEL S 2021 + OWNER'S MANUAL<br>Car model: MODEL S 2021 +<br>Software version: 2024.2.3<br>Subject: Smart Summon<br>Section: Before Using Smart Summon<br>Content: • Download the latest version of the Tesla mobile app to your phone, and ensure your phone has cellular service and GPS enabled.<br>• Your phone must be connected to Model S and located within approximately 213 ft. (65 meters).<br>• The vehicle's cameras must be fully calibrated (see Drive to Calibrate Cameras on page 20).<br>• You must have a clear line of sight to Model S.<br>• Model S must be in Park, not charging, and all doors and trunks must be closed.<br>CAUTION: Ensure all cameras and sensors (if equipped) are clean. Dirty cameras and sensors, as well as environmental conditions such as rain and faded lane markings, can affect Autopilot performance.<br><br>Document title: MODEL S 2021 + OWNER'S MANUAL<br>Car model: MODEL S 2021 +<br>Software version: 2024.2.3<br>Subject: Autopilot Features<br>Section: Navigate on Autopilot - part 2<br>Content: Once enabled, the Navigate on Autopilot button appears on the map’s turn-by-turn direction list whenever a navigation route is active and the route includes at least one controlled-access highway. If Enable at Start of Every Trip is turned off, touch the Navigate on Autopilot button above the turn-by-turn directions to enable it. Once the Navigate on Autopilot is selected, it will engage whenever you engage Autosteer. The Navigate on Autopilot icon shows in the turn-by-turn direction list when you are navigating to a destination and Navigate on Autopilot is available but not active. If Navigate on Autopilot is active, the icon is blue. If Enable at Start of Every Trip is turned on, the Navigate on Autopilot icon is selected whenever you start navigation. Touch the icon to cancel Navigate on Autopilot and revert to Autosteer. Whenever Navigate on Autopilot is active, the Navigate on Autopilot button is blue and the instrument cluster displays the driving lane as a single blue line in front of Model S: The turn-by-turn directions display the Autosteer icon next to the maneuvers (such as off-ramps) that Navigate on Autopilot will handle. When Navigate on Autopilot is engaged Model S automatically makes both speed-based and route-based lane changes. • Speed Based Lane Changes: Navigate on Autopilot changes lanes to reduce driving time to your destination. For example, if Model S is behind a vehicle going below the set cruising speed, Navigate on Autopilot will move into the passing lane to pass it. Speed-based lanes changes are optional. • Route Based Lane Changes: Navigate on Autopilot changes lanes to route you to your destination. For example, Navigate on Autopilot will move into the exit lane as Model S approaches the off-ramp specified by the navigation route. If you ignore a route-based lane change suggestion (for example, you are driving in the left lane while approaching an off-ramp on the right side of the highway), Navigate on Autopilot is unable to maneuver onto the off-ramp and as a result, you are re-routed to your destination. NOTE: When determining navigation routes, and maneuvers at interchanges, Navigate on Autopilot considers whether or not you want to use High Occupancy Vehicle (HOV) lanes.\n",
       "            </div>\n",
       "        </div>\n",
       "    <div>\n",
       "    "
      ],
      "text/plain": [
       "<IPython.core.display.HTML object>"
      ]
     },
     "metadata": {},
     "output_type": "display_data"
    }
   ],
   "source": [
    "ask_question('How to enable Autopilot on Tesla Model S 2018 model?')"
   ]
  },
  {
   "cell_type": "code",
   "execution_count": 10,
   "metadata": {},
   "outputs": [
    {
     "data": {
      "text/html": [
       "\n",
       "    <div>\n",
       "        <div style=\"padding: 20px 0; font-weight: bold;\">User: Under what circumstances that I should not use full self-driving on my Tesla car?</div>\n",
       "        <div style=\"display: grid; grid-template-columns: repeat(2, 1fr); gap: 20px;\">\n",
       "            <div>\n",
       "                <div style=\"font-weight: bold;\">Assistant:</div>\n",
       "                 Hello! As an assistant to the Tesla customer support team, I'm happy to help you with your question.<br>Full Self-Driving (FSD) on a Tesla vehicle is a advanced technology that allows for autonomous driving capabilities, but it's important to understand when it's not appropriate to use it. Here are some circumstances where you should not use FSD on your Tesla car:<br>1. In areas with limited or no visibility: FSD relies on a combination of cameras, radar, and ultrasonic sensors to navigate. If the area you are driving in has limited visibility due to weather conditions (e.g., heavy rain, snow, or fog), construction, or other factors, it may be difficult for the sensors to detect the environment around your vehicle. In such cases, it's best to use the vehicle's adaptive cruise control or manual driving mode.<br>2. In areas with complex traffic patterns: FSD is designed for straightforward driving scenarios on well-marked roads. However, in areas with complex traffic patterns, such as busy intersections, construction zones, or areas with multiple lanes merging, the technology may struggle to navigate safely. In these situations, it's better to take manual control of the vehicle.<br>3. In areas with pedestrian or cyclist activity: FSD is designed to detect and respond to pedestrians and cyclists, but in areas with high pedestrian or cyclist activity, it may be challenging for the technology to detect and respond to all potential hazards. It's important to be vigilant and take manual control of the vehicle in these situations.<br>4. In areas with road work or construction: FSD may not be able to handle unexpected road conditions, such as construction zones or road work. In these situations, it's best to use the vehicle's adaptive cruise control or manual driving mode.<br>5. In areas with heavy traffic: FSD may struggle to navigate in heavy traffic, especially if the traffic is unpredictable or there are multiple vehicles merging onto the same road. In these situations, it's better to take manual control of the vehicle.<br>6. In areas with low visibility due to vehicle size or shape: FSD may have difficulty detecting objects around your vehicle if it's oversized or undersized for the road, or if the vehicle has a unique shape that interferes with the sensors. In these situations, it's best to use the vehicle's adaptive cruise control or manual driving mode.<br>7. In areas with poor weather conditions: FSD may not perform well in extreme weather conditions, such as heavy rain, snow, or strong winds. In these situations, it's best to use the vehicle's adaptive cruise control or manual driving mode.<br>8. In areas with unmarked roadways: FSD relies on visual cues to navigate, so if the roadway is not well-marked, the technology may struggle to detect the road and navigate safely. In these situations, it's best to use the vehicle's adaptive cruise control or manual driving mode.<br>9. In areas with high crime rates: FSD may not be able to detect potential safety hazards, such as criminal activity, in areas with high crime rates. In these situations, it's best to take manual control of the vehicle and be vigilant of your surroundings.<br>10. In areas with unusual traffic patterns: FSD may not be able to handle unexpected traffic patterns, such as roundabouts or traffic circles, in areas where they are not well-marked or familiar to the driver. In these situations, it's best to use the vehicle's adaptive cruise control or manual driving mode.<br><br>By understanding these scenarios, you can use your Tesla vehicle's advanced technology safely and responsibly. If you have any further questions or concerns, please don't hesitate to ask!\n",
       "            </div>\n",
       "            <div>\n",
       "                <div style=\"font-weight: bold;\">Assistant with RAG:</div>\n",
       "                 Based on the provided documents, there are several scenarios in which you should not use Full Self-Driving (Beta) on your Tesla car:<br>1. Narrow roads with oncoming cars or double-parked vehicles: Full Self-Driving (Beta) may have difficulty navigating through narrow roads with oncoming cars or double-parked vehicles, and driver intervention may be required in these situations.<br>2. Construction zones: Full Self-Driving (Beta) may not be able to navigate through construction zones, and driver intervention may be necessary to avoid obstacles and follow detour routes.<br>3. Debris in the road: If there is debris in the road, Full Self-Driving (Beta) may not be able to safely navigate around it, and driver intervention may be required.<br>4. Merges onto high-traffic, high-speed roads: Full Self-Driving (Beta) may not be able to safely merge onto high-traffic, high-speed roads, and driver intervention may be necessary to match the speed and trajectory of the traffic.<br>5. Rare objects such as trailers, ramps, cargo, open doors, etc. protruding from vehicles: Full Self-Driving (Beta) may not be able to detect and respond to rare objects protruding from vehicles, and driver intervention may be necessary to avoid collisions.<br>6. Low visibility conditions: Full Self-Driving (Beta) may not work effectively in low visibility conditions such as rain, snow, direct sun, fog, etc., and driver intervention may be necessary to safely navigate the road.<br>In summary, you should not use Full Self-Driving (Beta) in situations where driver intervention is necessary to ensure safe navigation, such as narrow roads, construction zones, debris in the road, merges onto high-traffic roads, rare objects protruding from vehicles, or low visibility conditions. It is important to always monitor the road and be prepared to take immediate action when necessary.<br><br>Reference documents:<br>Document title: MODEL S 2021 + OWNER'S MANUAL<br>Car model: MODEL S 2021 +<br>Software version: 2024.2.3<br>Subject: Limitations and Warnings<br>Section: Autosteer on City Streets (Full Self- Driving (Beta)) - part 1<br>Content: WARNING: Always remember that Full Self-Driving (Beta) (also known as Autosteer on City Streets) does not make Model S autonomous and requires a fully attentive driver who is ready to take immediate action at all times. WARNING: Full Self-Driving (Beta) is a hands-on feature. Keep your hands on the steering yoke (or steering wheel) at all times, be mindful of road conditions and surrounding traffic, and always be prepared to take immediate action. Failure to follow these instructions could cause damage, serious injury or death. It is your responsibility to familiarize yourself with the limitations of Full Self-Driving (Beta) and the situations in which it may not work as expected. WARNING: Failure to follow all warnings and instructions can result in property damage, serious injury or death. CAUTION: Full Self-Driving (Beta) and its associated functions may not operate as intended and there are numerous situations in which driver intervention may be needed. Examples include (but are not limited to):<br>• Interactions with pedestrians, bicyclists, and other road users. • Unprotected turns with high-speed cross traffic. • Multi-lane turns. • Simultaneous lane changes. • Narrow roads with oncoming cars or double-parked vehicles. • Rare objects such as trailers, ramps, cargo, open doors, etc. protruding from vehicles. • Merges onto high-traffic, high-speed roads. • Debris in the road. • Construction zones. • High curvature roads, particularly at fast driving speeds. Visibility is critical for Full Self-Driving (Beta) to operate. Low visibility, such as low light or poor weather conditions (rain, snow, direct sun, fog, etc.) can significantly degrade performance. WARNING: Model S may quickly and suddenly make unexpected maneuvers or mistakes that require immediate driver intervention. The list above represents only a fraction of the possible scenarios that can cause Full Self-Driving (Beta) to make sudden maneuvers and behave unexpectedly. In fact, Model S can suddenly swerve even when driving conditions appear normal and straight-forward. Stay alert and always pay attention to the roadway so you can anticipate the need to take corrective action as early as possible. Remember that this is an early access feature that must be used with extra caution. CAUTION: As Full Self-Driving (Beta) deployment expands, Tesla will gradually make it available to eligible customers in select countries outside the United States.<br><br>Document title: MODEL S 2021 + OWNER'S MANUAL<br>Car model: MODEL S 2021 +<br>Software version: 2024.2.3<br>Subject: Full Self-Driving (Beta)<br>Section: Limitations - part 2<br>Content: Unlike Traffic-Aware Cruise Control, Autosteer, and Navigate on Autopilot, which are intended for use on multi-lane roadways with clear lane markings, Full Self-Driving (Beta) is meant to work in a variety of driving scenarios. You can use Full Self-Driving (Beta) on any type of roadway, including residential and city streets. Always remember that Full Self-Driving (Beta) does not make Model S autonomous and requires a fully attentive driver who is ready to take immediate action at all times. While Full Self-Driving (Beta) is engaged, you must monitor your surroundings and other road users at all times. Driver intervention may be required in certain situations, such as on narrow roads with oncoming cars, in construction zones, or while going through complex intersections. For more examples of scenarios in which driver intervention might be required, see Limitations and Warnings on page 125. Full Self-Driving (Beta) uses inputs from cameras mounted at the front, rear, left, and right of Model S to build a model of the area surrounding Model S (see Cameras on page 20). The Full Self-Driving computer installed in Model S is designed to use this input, rapidly process neural networks, and make decisions to safely guide you to your destination. NOTE: Full Self-Driving (Beta) is a beta feature. As Tesla’s Full Self-Driving (Beta) capabilities evolve, Model S is upgraded through over-the-air software updates. Download updates as soon as they become available. Like other Autopilot features, Full Self-Driving (Beta) requires a fully attentive driver and will display a series of escalating warnings requiring driver response. You must keep your hands on the steering yoke (or steering wheel) while Full Self-Driving (Beta) is engaged. In addition, the cabin camera monitors driver attentiveness (see Cabin Camera on page 20). Use Full Self-Driving (Beta) in limited Beta only if you will pay constant attention to the road and be prepared to act immediately, especially around blind corners, crossing intersections, and in narrow driving situations. For more information, see Limitations and Warnings on page 125.<br>CAUTION: As Full Self-Driving (Beta) deployment expands, Tesla will gradually make it available to eligible customers in select countries outside of the United States and Canada.<br><br>Document title: MODEL S 2012–2020 OWNER'S MANUAL<br>Car model: MODEL S 2012–2020<br>Software version: 2024.2.3<br>Subject: Full Self-Driving (Beta)<br>Section: How to Use Full Self-Driving (Beta)<br>Content: To indicate that Full Self-Driving (Beta) is available but not engaged, the top corner of the touchscreen displays a gray steering wheel icon next to the driving gear. To engage Full-Self Driving (Beta), enter a destination (if desired) and pull the Autopilot stalk toward you twice in quick succession. If you do not enter a destination, Model S chooses the most probable driving path or suggests a destination based on your driving.<br>NOTE: If the setting for Autopilot Activation is set to Single Pull (touch Controls > Autopilot > Autopilot Activation), Autosteer engages when you pull the Autopilot stalk toward you once. While Full Self-Driving (Beta) is engaged:<br>1. The steering wheel icon next to the driving gear is blue and a blue line represents your driving path.<br>2. The instrument panel displays a visualization of the environment surrounding Model S, including the roadway and detected objects such as vehicles, pedestrians, curbs, etc.<br>3. Be ready to take over: There may be occasions where driver intervention is required and you must take over immediately to maintain safe driving. For example, the vehicle may alert you or the visualization may indicate indecisiveness by incessant flickering.<br>NOTE: Practicing a safe disengage before it is necessary is ideal. In addition, like Autosteer, Full Self-Driving (Beta) checks for driver attentiveness and requires your hands on the steering wheel at all times. If your hands are not detected, the instrument panel displays escalating warnings and failure to respond to these warnings cancels Full Self-Driving (Beta) until your next drive.<br>NOTE: Failure to use Full Self-Driving (Beta) appropriately may cause the feature to be disabled.<br>4. Safe disengage: To disengage Full Self-Driving (Beta) safely, be aware of your surroundings and push the Autopilot stalk away from you once, press the brake pedal, or take over and steer manually.<br>When arriving at a chosen destination, Full Self-Driving (Beta) stops Model S and displays a message indicating that navigation is complete.<br>NOTE: Full Self-Driving (Beta) uses Tesla's vision-based system and therefore radar (if equipped) is disabled.\n",
       "            </div>\n",
       "        </div>\n",
       "    <div>\n",
       "    "
      ],
      "text/plain": [
       "<IPython.core.display.HTML object>"
      ]
     },
     "metadata": {},
     "output_type": "display_data"
    }
   ],
   "source": [
    "ask_question('Under what circumstances that I should not use full self-driving on my Tesla car?')"
   ]
  },
  {
   "cell_type": "code",
   "execution_count": 11,
   "metadata": {},
   "outputs": [
    {
     "data": {
      "text/html": [
       "\n",
       "    <div>\n",
       "        <div style=\"padding: 20px 0; font-weight: bold;\">User: How to open the door of a Tesla Model S car when the power is very low?</div>\n",
       "        <div style=\"display: grid; grid-template-columns: repeat(2, 1fr); gap: 20px;\">\n",
       "            <div>\n",
       "                <div style=\"font-weight: bold;\">Assistant:</div>\n",
       "                 Thank you for reaching out to us! I'm happy to help you with your question.<br>To open the door of a Tesla Model S when the power is very low, there are a few options you can consider:<br>1. Use the manual door release: Tesla Model S cars are equipped with a manual door release mechanism located inside the car. You can find it on the driver's side door jamb, near the door handle. Pulling the release lever will open the door.<br>2. Use the emergency door release: In case of a complete loss of power, you can use the emergency door release mechanism. To access it, you'll need to locate the emergency release handle on the driver's side door jamb. Pulling the handle will open the door.<br>3. Call for roadside assistance: If you're unable to open the door yourself, you can call Tesla's roadside assistance service for help. They will send a technician to your location to assist you.<br>It's important to note that if your car's battery is completely dead, you may need to wait for a tow truck to arrive to transport your car to a charging station.<br>I hope this helps! If you have any other questions, feel free to ask.\n",
       "            </div>\n",
       "            <div>\n",
       "                <div style=\"font-weight: bold;\">Assistant with RAG:</div>\n",
       "                 Thank you for reaching out to us with your question. In the event that the power in your Tesla Model S is very low, there are a few options you can try to open the doors.<br>According to the \"Opening Doors from the Interior\" section in the Owner's Manual, you can press the button located at the top of the interior door handle to open the door while sitting inside. If you're unable to open the door with the button, you can try using the touchscreen popup to open and close the doors while the vehicle is in Park.<br>If you're still unable to open the doors, you can try using the mechanical release cable located beneath the rear seats. To access the mechanical release cable, fold back the edge of the carpet below the rear seats and pull the mechanical release cable toward the center of the vehicle.<br>It's important to note that in the unlikely event that Model S has no power, you will be unable to open the doors with the button on the top of the door handle. In this situation, you can try using the mechanical release cable located beneath the rear seats.<br>If you have any further questions or concerns, please don't hesitate to reach out to us. We're here to help.<br><br>Reference documents:<br>Document title: MODEL S 2021 + OWNER'S MANUAL<br>Car model: MODEL S 2021 +<br>Software version: 2024.2.3<br>Subject: Doors<br>Section: Opening Doors from the Interior<br>Content: Model S doors are electrically powered. To open a door while sitting inside, press the button located at the top of the interior door handle and push the door open.<br>NOTE: To prevent children from opening the rear doors, turn on child locks (see Child Locks on page 28). You can also use the touchscreen popup to open and close doors when inside Model Swhile the vehicle is in Park .<br>NOTE: In the unlikely event that Model S has no low voltage power, you will be unable to open the doors with the button on the top of the door handle. See Opening Doors with No Power on page 224 for more information.<br><br>Document title: MODEL S 2021 + OWNER'S MANUAL<br>Car model: MODEL S 2021 +<br>Software version: 2024.2.3<br>Subject: Troubleshooting Alerts<br>Section: Opening a Rear Door with No Power<br>Content: To open a rear door in the unlikely situation when Model S has no power, fold back the edge of the carpet below the rear seats to expose the mechanical release cable. Pull the mechanical release cable toward the center of the vehicle.<br>CAUTION: Manual door releases are designed to be used only in situations when Model S has no power. When Model S has power, use the button located at the top of the interior door handle.<br><br>Document title: MODEL S 2012–2020 OWNER'S MANUAL<br>Car model: MODEL S 2012–2020<br>Software version: 2024.2.3<br>Subject: Troubleshooting Alerts<br>Section: Opening a Rear Door with No Power<br>Content: To open a rear door in the unlikely situation when Model S has no power, fold back the edge of the carpet below the rear seats to expose the mechanical release cable. Pull the mechanical release cable toward the center of the vehicle.<br>CAUTION: Manual door releases are designed to be used only in situations when Model S has no power. When Model S has power, use the button located at the top of the interior door handle.\n",
       "            </div>\n",
       "        </div>\n",
       "    <div>\n",
       "    "
      ],
      "text/plain": [
       "<IPython.core.display.HTML object>"
      ]
     },
     "metadata": {},
     "output_type": "display_data"
    }
   ],
   "source": [
    "ask_question('How to open the door of a Tesla Model S car when the power is very low?')"
   ]
  },
  {
   "cell_type": "code",
   "execution_count": 12,
   "metadata": {},
   "outputs": [
    {
     "data": {
      "text/html": [
       "\n",
       "    <div>\n",
       "        <div style=\"padding: 20px 0; font-weight: bold;\">User: Can I use autopilot in raining or snowing conditions?</div>\n",
       "        <div style=\"display: grid; grid-template-columns: repeat(2, 1fr); gap: 20px;\">\n",
       "            <div>\n",
       "                <div style=\"font-weight: bold;\">Assistant:</div>\n",
       "                 Hello! As an assistant to the Tesla customer support team, I'd be happy to help you with your question.<br>Autopilot is designed to function in a variety of weather conditions, including rain and snow. However, it's important to note that Autopilot is a driver-assistance system and not a substitute for human driving. It's always best to exercise caution and be attentive while driving in any weather conditions.<br>That being said, Tesla has implemented various safety features to help you navigate through rainy or snowy roads while using Autopilot. For example, the system can detect and respond to traffic signals, stop signs, and road markings even in wet or snowy conditions. Additionally, Autopilot can adjust its speed based on the road conditions and traffic, providing a safer driving experience.<br>However, it's important to keep in mind that Autopilot may not work optimally in heavy rain or snow. In such cases, it's best to take control of the vehicle and drive manually.<br>In summary, while Autopilot can be used in rainy or snowy conditions, it's important to exercise caution and be aware of the limitations of the system. Always prioritize safety while driving, and be prepared to take control of the vehicle if necessary.\n",
       "            </div>\n",
       "            <div>\n",
       "                <div style=\"font-weight: bold;\">Assistant with RAG:</div>\n",
       "                 Thank you for reaching out to us! I'm happy to help you with your question.<br>Based on the provided documents, it is not recommended to use Autopilot in rainy or snowy conditions. The documents state that weather conditions such as heavy rain, snow, fog, or extremely hot or cold temperatures can interfere with the sensor operation, which may affect the Autopilot's ability to detect objects and navigate safely.<br>Additionally, the documents mention that if the sensors are damaged, dirty, or obstructed, Autopilot may not operate as intended. It is important to ensure that the cameras and sensors are clean and free of obstructions before each drive and before using Autopilot features.<br>In summary, it is not recommended to use Autopilot in rainy or snowy conditions, and it is important to ensure that the cameras and sensors are clean and free of obstructions before using Autopilot. If you have any further questions, please feel free to ask!<br><br>Reference documents:<br>Document title: MODEL S 2012–2020 OWNER'S MANUAL<br>Car model: MODEL S 2012–2020<br>Software version: 2024.2.3<br>Subject: Collision Avoidance Assist<br>Section: Limitations and Inaccuracies - part 2<br>Content: • One or more of the sensors (if equipped) is damaged, dirty, or obstructed (such as by mud, ice, or snow, or by a vehicle bra, excessive paint, or adhesive products such as wraps, stickers, rubber coating, etc.). • Weather conditions (heavy rain, snow, fog, or extremely hot or cold temperatures) are interfering with sensor operation. • The sensors (if equipped) are affected by other electrical equipment or devices that generate ultrasonic waves. • An object mounted to Model S (such as a bike rack or a bumper sticker) is interfering with or obstructing a sensor. • Visibility is poor and lane markings are not clearly visible (due to heavy rain, snow, fog, etc.). • Lane markings are excessively worn, have visible previous markings, have been adjusted due to road construction or are changing quickly (for example, lanes branching off, crossing over, or merging). WARNING: The lists above do not represent every possible situation that may interfere with Lane Assist features. There are many reasons why Lane Assist may not operate as intended. To avoid a collision, stay alert and always pay attention to the road so you can anticipate the need to take corrective action as early as possible. If your Model S is equipped with Autopilot components (see Cameras on page 19), the following collision avoidance features are designed to increase the safety of you and your passengers: The following collision avoidance features are designed to increase the safety of you and your passengers:<br>• Forward Collision Warning - provides visual, audible, and haptic feedback warnings in situations when Model S detects that there is a high risk of a frontal collision (see Forward Collision Warning on page 128). • Automatic Emergency Braking - automatically applies braking to reduce the impact of a collision (see Automatic Emergency Braking on page 129). • Obstacle-Aware Acceleration - reduces acceleration if Model S detects an object in its immediate driving path (see Obstacle-Aware Acceleration on page 129). CAUTION: Ensure all cameras are clean and free of obstructions before each drive and before using Autopilot features (see Cleaning a Camera on page 182). Dirty cameras and sensors (if equipped), as well as environmental conditions such as rain and faded lane markings, can affect Autopilot performance.<br><br>Document title: MODEL S 2021 + OWNER'S MANUAL<br>Car model: MODEL S 2021 +<br>Software version: 2024.2.3<br>Subject: Collision Avoidance Assist<br>Section: Limitations and Inaccuracies - part 2<br>Content: • One or more of the sensors (if equipped) is damaged, dirty, or obstructed (such as by mud, ice, or snow, or by a vehicle bra, excessive paint, or adhesive products such as wraps, stickers, rubber coating, etc.). • Weather conditions (heavy rain, snow, fog, or extremely hot or cold temperatures) are interfering with sensor operation. • The sensors (if equipped) are affected by other electrical equipment or devices that generate ultrasonic waves. • An object mounted to Model S (such as a bike rack or a bumper sticker) is interfering with or obstructing a sensor. • Visibility is poor and lane markings are not clearly visible (due to heavy rain, snow, fog, etc.). • Lane markings are excessively worn, have visible previous markings, have been adjusted due to road construction or are changing quickly (for example, lanes branching off, crossing over, or merging). WARNING: The lists above do not represent every possible situation that may interfere with Lane Assist features. There are many reasons why Lane Assist may not operate as intended. To avoid a collision, stay alert and always pay attention to the road so you can anticipate the need to take corrective action as early as possible. The following collision avoidance features are designed to increase the safety of you and your passengers:<br>• Forward Collision Warning - provides visual, audible, and haptic feedback warnings in situations when Model S detects that there is a high risk of a frontal collision (see Forward Collision Warning on page 134). • Automatic Emergency Braking - automatically applies braking to reduce the impact of a collision (see Automatic Emergency Braking on page 135). • Obstacle-Aware Acceleration - reduces acceleration if Model S detects an object in its immediate driving path (see Obstacle-Aware Acceleration on page 135). CAUTION: Ensure all cameras are clean and free of obstructions before each drive and before using Autopilot features (see Cleaning a Camera on page 192). Dirty cameras and sensors (if equipped), as well as environmental conditions such as rain and faded lane markings, can affect Autopilot performance. If a camera is obstructed or blinded, Model S displays a message on the instrument cluster and Autopilot features may not be available.<br><br>Document title: MODEL S 2021 + OWNER'S MANUAL<br>Car model: MODEL S 2021 +<br>Software version: 2024.2.3<br>Subject: Autopilot Features<br>Section: Autopilot Conditions - part 1<br>Content: Ensure all cameras are clean and free of obstructions before each drive and before using Autopilot features (see Cleaning a Camera on page 192). Dirty cameras and sensors (if equipped), as well as environmental conditions such as rain and faded lane markings, can affect Autopilot performance. If a camera is obstructed or blinded, Model S displays a message on the instrument cluster and Autopilot features may not be available. For more information on specific alerts, see Troubleshooting Alerts on page 225. Before you can use Autopilot features, and after some Service visits, you must drive a short distance to calibrate cameras. For more information, see Drive to Calibrate Cameras on page 20. In addition, these features may not work as intended when:<br>• The road has sharp curves or significant changes in elevation. • Road signs and signals are unclear, ambiguous, or poorly maintained. • Visibility is poor (due to heavy rain, snow, hail, etc. or poorly lit roadways at night)<br>• You are driving in a tunnel or next to a highway divider that interferes with the view of the camera(s)<br>• Bright light (such as from oncoming headlights or direct sunlight) interferes with the view of the camera(s). The list above does not represent an exhaustive list of situations that may interfere with proper operation of Autopilot features. For more information, see Limitations and Warnings on page 125.<br>NOTE: Depending on market region, vehicle configuration, options purchased, and software version, your vehicle may not be equipped with the following features, or a feature may not operate exactly as described. Autopilot Feature Available When<br>Traffic-Aware Cruise Control<br>• You are driving between 18 mph (30 km/h) and 85 mph (140 km/h)<br>NOTE: You can activate Traffic-Aware Cruise Control at lower speeds if there is a vehicle detected at least 5 feet (1.5 meters) ahead of Model S. Autosteer<br>• You are driving between 18 mph (30 km/h) and 85 mph (140 km/h)<br>NOTE: You can activate Autosteer at lower speeds if there is a vehicle detected at least 5 feet (1.5 meters) ahead of Model S. NOTE: On a residential road, a road without a center divider, or a road that is not controlled access, the maximum allowed cruising speed is limited and the instrument panel displays a message.\n",
       "            </div>\n",
       "        </div>\n",
       "    <div>\n",
       "    "
      ],
      "text/plain": [
       "<IPython.core.display.HTML object>"
      ]
     },
     "metadata": {},
     "output_type": "display_data"
    }
   ],
   "source": [
    "ask_question('Can I use autopilot in raining or snowing conditions?')"
   ]
  },
  {
   "cell_type": "code",
   "execution_count": 13,
   "metadata": {},
   "outputs": [
    {
     "data": {
      "text/html": [
       "\n",
       "    <div>\n",
       "        <div style=\"padding: 20px 0; font-weight: bold;\">User: What should I do if the touchscreen of my Tesla car is not responding?</div>\n",
       "        <div style=\"display: grid; grid-template-columns: repeat(2, 1fr); gap: 20px;\">\n",
       "            <div>\n",
       "                <div style=\"font-weight: bold;\">Assistant:</div>\n",
       "                 Oh no, sorry to hear that the touchscreen of your Tesla car is not responding! 😕 Don't worry, we're here to help you resolve the issue as quickly as possible. 🚀<br>First, please try the following steps to troubleshoot the issue:<br>1. Restart the car: Sometimes, a simple restart can resolve the issue. Turn off the car, wait for a few seconds, and then turn it back on.<br>2. Check the screen brightness: Make sure the touchscreen display is not dimmed or turned off. Adjust the brightness by using the controls on the steering wheel or by using the Tesla app on your phone.<br>3. Check for obstructions: Make sure there are no obstructions between the touchscreen and your finger. Try cleaning the screen with a soft cloth if there are any fingerprints or smudges.<br>4. Try a different input method: If the touchscreen is not responding, try using the voice command or the steering wheel controls to navigate through the menu.<br>5. Check for software updates: Make sure your car is running the latest software. You can check for updates in the Tesla app or by using the in-car touchscreen.<br>6. Contact Tesla support: If none of the above steps work, please contact our support team for further assistance. We're here to help you resolve the issue as quickly as possible. 😊<br>Remember, safety is our top priority, so please do not attempt to repair or diagnose any issues yourself. Let our trained technicians take a look at your car to ensure it's running smoothly and safely. 🚨<br>Thank you for reaching out to us! We're here to help. 😊\n",
       "            </div>\n",
       "            <div>\n",
       "                <div style=\"font-weight: bold;\">Assistant with RAG:</div>\n",
       "                 Hello! Thank you for reaching out to us regarding your touchscreen issue in your Tesla car. Based on the documents provided, it seems that the touchscreen may be unresponsive or demonstrating unusual behavior. Here's what you can try:<br>For Model S 2021 and earlier:<br>1. Shift into Park and hold down both scroll buttons on the steering wheel until the touchscreen turns black.<br>2. Wait approximately 30 seconds for the touchscreen to restart. If the touchscreen is still unresponsive or demonstrating unusual behavior after a few minutes, try power cycling the vehicle (if possible).<br>For Model S 2012-2020:<br>1. Shift into Park and hold down both scroll buttons on the steering wheel until the touchscreen turns black.<br>2. Wait approximately 30 seconds for the touchscreen to restart. If the touchscreen is still unresponsive or demonstrating unusual behavior after a few minutes, try power cycling the vehicle (if possible).<br>It's important to note that restarting the touchscreen only works when the vehicle is in Park. Additionally, pressing the scroll buttons only restarts the touchscreen and does not restart any other vehicle component or power the car off and on.<br>If you're still experiencing issues with your touchscreen after trying these steps, please feel free to reach out to us again, and we'll be happy to help further.<br><br>Reference documents:<br>Document title: MODEL S 2021 + OWNER'S MANUAL<br>Car model: MODEL S 2021 +<br>Software version: 2024.2.3<br>Subject: Touchscreen<br>Section: Restarting the Touchscreen<br>Content: You can restart your touchscreen if it is unresponsive or demonstrates unusual behavior.<br>NOTE: To ensure the safety of occupants as well as other road users, restart the touchscreen only when the vehicle is in Park.<br>1. Shift into Park.<br>2. Hold down both scroll buttons on the steering yoke (or steering wheel) until the touchscreen turns black. Pressing the brake pedal while holding down the scroll buttons does not have any impact and is not required.<br>3. After a few seconds, the Tesla logo appears. Wait approximately 30 seconds for the touchscreen to restart. If the touchscreen is still unresponsive or demonstrating unusual behavior after a few minutes, try power cycling the vehicle (if possible). See Power Cycling the Vehicle on page 65.<br>NOTE: Restarting the touchscreen also activates the drive mode selector on the center console.<br>NOTE: Pressing the scroll buttons only restarts the touchscreen. It does not restart any other vehicle component and does not power Model S off and on.<br><br>Document title: MODEL S 2012–2020 OWNER'S MANUAL<br>Car model: MODEL S 2012–2020<br>Software version: 2024.2.3<br>Subject: Touchscreen<br>Section: Restarting the Touchscreen or Instrument Panel<br>Content: You can restart your touchscreen if it is unresponsive or demonstrates unusual behavior.<br>NOTE: To ensure the safety of occupants as well as other road users, restart the touchscreen only when the vehicle is in Park.<br>1. Shift into Park.<br>2. Hold down both scroll buttons on the steering wheel until the touchscreen turns black. Pressing the brake pedal while holding down the scroll buttons does not have any impact and is not required.<br>3. After a few seconds, the Tesla logo appears. Wait approximately 30 seconds for the touchscreen to restart. If the touchscreen is still unresponsive or demonstrating unusual behavior after a few minutes, try power cycling the vehicle (if possible). See Power Cycling the Vehicle on page 62.<br>To reset the instrument panel, shift into Park and press the top two buttons on the steering wheel ( Voice Commands and Next) for 15-30 seconds, or until the screen turns black. A few seconds later, a Tesla logo appears. Wait approximately 30 seconds for the instrument panel to restart.<br>NOTE: Pressing the scroll buttons only restarts the touchscreen. It does not restart any other vehicle component and does not power Model S off and on.<br><br>Document title: MODEL S 2021 + OWNER'S MANUAL<br>Car model: MODEL S 2021 +<br>Software version: 2024.2.3<br>Subject: Smart Garage<br>Section: Troubleshooting HomeLink Standard Mode<br>Content: In Standard Mode, Model S records the RF signal from your HomeLink device's remote control. The touchscreen instructs you to stand in front of the vehicle, point the device's remote control at the front bumper, and press and hold the button until the headlights flash. When the headlights flash, Model S has learned the remote control and you can touch Continue on the touchscreen. If the headlights do not flash:<br>• Check the batteries in the remote control. It is a good idea to replace the batteries before you start programming.<br>• Ensure you are standing in front of Model S with the device's remote control positioned within two inches (five cm) of the Tesla emblem.<br>• Press and hold the button on your device's remote control until the headlights flash. In some cases you must hold the button on the remote control for up to three minutes.<br>NOTE: Some HomeLink remote controls require multiple short presses (approximately one second each press) instead of one long duration press. If you are unsuccessful after multiple attempts of using long presses, try repeated presses of one second each.\n",
       "            </div>\n",
       "        </div>\n",
       "    <div>\n",
       "    "
      ],
      "text/plain": [
       "<IPython.core.display.HTML object>"
      ]
     },
     "metadata": {},
     "output_type": "display_data"
    }
   ],
   "source": [
    "ask_question('What should I do if the touchscreen of my Tesla car is not responding?')"
   ]
  },
  {
   "cell_type": "code",
   "execution_count": 14,
   "metadata": {},
   "outputs": [
    {
     "data": {
      "text/html": [
       "\n",
       "    <div>\n",
       "        <div style=\"padding: 20px 0; font-weight: bold;\">User: Do I need to change oil regularly for my Tesla car?</div>\n",
       "        <div style=\"display: grid; grid-template-columns: repeat(2, 1fr); gap: 20px;\">\n",
       "            <div>\n",
       "                <div style=\"font-weight: bold;\">Assistant:</div>\n",
       "                 Hello! As an assistant to the Tesla customer support team, I'm happy to help answer your question.<br>Great news! Tesla electric vehicles (EVs) don't require oil changes like traditional gasoline-powered vehicles. This is because Tesla EVs don't have internal combustion engines, which are the primary source of oil consumption. Instead, they have electric motors that are powered by rechargeable batteries.<br>So, you won't need to worry about changing the oil in your Tesla. However, it's important to keep your Tesla's battery healthy by following proper charging and maintenance practices. This includes keeping the battery terminals clean, avoiding extreme temperatures, and charging your vehicle regularly.<br>Additionally, it's worth noting that Tesla vehicles do have other maintenance requirements, such as rotating the tires and checking the brake pads. Your owner's manual will provide more information on these and other maintenance tasks.<br>I hope that helps! If you have any other questions, feel free to ask.\n",
       "            </div>\n",
       "            <div>\n",
       "                <div style=\"font-weight: bold;\">Assistant with RAG:</div>\n",
       "                 Thank you for reaching out to us! To answer your question, Tesla does not require regular oil changes for its electric vehicles, including the Model S. According to the provided documents, Tesla's maintenance service intervals do not include oil changes.<br>The documents state that the Battery coolant and brake fluid levels should only be checked by Tesla or a professional automotive repair shop. Additionally, Tesla recommends checking the brake fluid health every 4 years (or more frequently if heavy brake usage is observed) and replacing it if necessary. However, oil changes are not listed as a recommended maintenance item.<br>It's important to note that while Tesla does not require regular oil changes, it's still important to properly maintain your vehicle to ensure its overall health and longevity. We recommend consulting your owner's manual or contacting a Tesla-certified technician for any maintenance or repair questions you may have.<br><br>Reference documents:<br>Document title: MODEL S 2012–2020 OWNER'S MANUAL<br>Car model: MODEL S 2012–2020<br>Software version: 2024.2.3<br>Subject: Maintenance Service Intervals<br>Section: Fluid Replacement Intervals<br>Content: Battery coolant and brake fluid levels should only be checked by Tesla or a professional automotive repair shop. Specific service information is available in the Service Manual.<br>• Battery coolant: Your Battery coolant does not need to be replaced for the life of your vehicle under most circumstances.<br>NOTE: Any damage caused by opening the Battery coolant reservoir is excluded from the warranty.<br>• Brake fluid: Do not top up your brake fluid.<br><br>Document title: MODEL S 2021 + OWNER'S MANUAL<br>Car model: MODEL S 2021 +<br>Software version: 2024.2.3<br>Subject: Maintenance Service Intervals<br>Section: Fluid Replacement Intervals<br>Content: Battery coolant and brake fluid levels should only be checked by Tesla or a professional automotive repair shop. Specific service information is available in the Service Manual.<br>• Battery coolant: Your Battery coolant does not need to be replaced for the life of your vehicle under most circumstances.<br>NOTE: Any damage caused by opening the Battery coolant reservoir is excluded from the warranty.<br>• Brake fluid: Do not top up your brake fluid.<br><br>Document title: MODEL S 2021 + OWNER'S MANUAL<br>Car model: MODEL S 2021 +<br>Software version: 2024.2.3<br>Subject: Maintenance Service Intervals<br>Section: Service Intervals<br>Content: Tesla recommends the following maintenance items and intervals, as applicable to your vehicle, to ensure continued reliability and efficiency of your Model S. For additional information on vehicle alerts, see Troubleshooting Alerts on page 225.<br>• Brake fluid health check every 4 years (replace if necessary)*.<br>• A/C desiccant bag replacement every 3 years.<br>• Cabin air filter replacement every 3 years.<br>• HEPA filters replacement every 3 years.<br>• Clean and lubricate brake calipers every year or 12,500 miles (20,000 km) if in an area where roads are salted during winter.<br>• Rotate tires every 6,250 miles (10,000 km) or if tread depth difference is 2/32 in (1.5 mm) or greater, whichever comes first.<br>*Heavy brake usage due to towing, mountain descents, or performance driving -- especially for vehicles in hot and humid environments -- may necessitate more frequent brake fluid checks and replacements.<br>NOTE: Any damage caused by opening the Battery coolant reservoir is excluded from the warranty.<br>NOTE: The above intervals are based on typical driving behaviors and scenarios. Depending on various circumstances such as driving behavior, usage, environmental conditions, etc., the above maintenance items may need to be replaced more or less frequently than specified. Additionally, the above list should not be considered comprehensive and does not include consumable parts such as windshield wipers, brake pads, etc.<br>NOTE: Damages or failures caused by maintenance or repairs performed by non-Tesla certified technicians are not covered by the warranty. For more do-it-yourself maintenance procedures and information, see https://www.tesla.com/support/do-it-yourself-guides.\n",
       "            </div>\n",
       "        </div>\n",
       "    <div>\n",
       "    "
      ],
      "text/plain": [
       "<IPython.core.display.HTML object>"
      ]
     },
     "metadata": {},
     "output_type": "display_data"
    }
   ],
   "source": [
    "ask_question('Do I need to change oil regularly for my Tesla car?')"
   ]
  },
  {
   "cell_type": "code",
   "execution_count": 15,
   "metadata": {},
   "outputs": [
    {
     "data": {
      "text/html": [
       "\n",
       "    <div>\n",
       "        <div style=\"padding: 20px 0; font-weight: bold;\">User: Can I wash my Tesla car using regular car washing service?</div>\n",
       "        <div style=\"display: grid; grid-template-columns: repeat(2, 1fr); gap: 20px;\">\n",
       "            <div>\n",
       "                <div style=\"font-weight: bold;\">Assistant:</div>\n",
       "                 Hello! As an assistant to the Tesla customer support team, I'm happy to help you with your question.<br>While it's possible to wash your Tesla car using a regular car washing service, it's important to note that Tesla recommends using a specialized electric vehicle (EV) wash service to ensure the safety and longevity of your vehicle's paint and other components.<br>Here are some reasons why:<br>1. Specialized cleaning solutions: Regular car washes often use harsh chemicals and detergents that can damage the paint and other components of an electric vehicle. EV wash services use specialized cleaning solutions that are specifically designed for the unique materials and technology used in electric vehicles.<br>2. Protection of the paint: The paint on an electric vehicle is particularly sensitive and can be damaged by regular car washes. EV wash services use gentle cleaning methods and specialized paint protection products to keep your vehicle's paint looking its best.<br>3. Avoiding scratches: Regular car washes can scratch the paint on an electric vehicle, especially if the car is not properly covered. EV wash services use soft, scratch-free cleaning tools to minimize the risk of scratches.<br>4. Battery protection: Tesla's battery is a critical component of the vehicle, and it's important to protect it from damage. EV wash services are trained to handle the battery with care and to use specialized cleaning methods to ensure its longevity.<br>In summary, while it's possible to wash your Tesla car using a regular car washing service, it's recommended to use a specialized EV wash service to ensure the safety and longevity of your vehicle.\n",
       "            </div>\n",
       "            <div>\n",
       "                <div style=\"font-weight: bold;\">Assistant with RAG:</div>\n",
       "                 Thank you for reaching out to us! Yes, you can wash your Tesla car using regular car washing services, but there are some precautions to take into consideration to ensure the safety and longevity of your vehicle.<br>According to the owner's manual, you should avoid washing your Tesla in direct sunlight, as it can cause damage to the paint and interior. Additionally, you should not use windshield treatment fluids, as they can interfere with the wiper friction and cause a chattering sound.<br>When using a pressure washer, make sure to maintain a distance of at least 12 inches between the nozzle and the surface of your Tesla. Avoid aiming the water jet directly at parking sensors, and keep the nozzle moving to avoid concentrating the water jet on any one area. Also, avoid using hot water, detergents, highly alkaline or caustic cleaning ingredients or solvents, as they can damage the paint and other components of your Tesla.<br>To avoid corrosive damage, make sure to rinse away any road salt from the underside of the vehicle, wheel wells, and brakes after cleaning. After cleaning the vehicle, dry the brakes by going on a short drive and applying the brakes multiple times.<br>It's also important to use the right cleaning cloths when washing your Tesla. Avoid using tight-napped or rough cloths, as they can scratch the paint. Instead, use a high-quality microfiber cleaning cloth.<br>If you're using an automatic car wash, make sure to use touchless car washes only. Some touchless car washes use caustic solutions that can cause discoloration of decorative exterior trim over time. Avoid exposure to soaps and chemicals above pH 13, and check the product label or ask the staff at the car wash if you're unsure.<br>Finally, ensure that the wipers are off before washing your Tesla to avoid damaging them. Also, avoid using chemical-based wheel cleaners or pre-wash products, as they can damage the finish on the wheels.<br>By following these precautions, you can safely wash your Tesla using regular car washing services. If you have any further questions, feel free to ask!<br><br>Reference documents:<br>Document title: MODEL S 2021 + OWNER'S MANUAL<br>Car model: MODEL S 2021 +<br>Software version: 2024.2.3<br>Subject: Cleaning<br>Section: Car Wash Mode<br>Content: When taking Model S to a car wash, Car Wash Mode closes all windows, locks the charge port, and disables windshield wipers, Sentry Mode, walk-away door locking, and parking sensor chimes. To enable, touch Controls > Service > Car Wash Mode. Your vehicle must be stationary and not actively charging. If using an automatic car wash, Enable Free Roll keeps your vehicle in Neutral and activates free roll for the duration of the wash, while preventing Model S from applying the Parking brake if you leave the driver's seat. To enable, press on the brake pedal and touch Enable Free Roll; or shift into Neutral. Car Wash Mode disables if the vehicle's speed exceeds 9 mph (15 km/h) or by touching Exit on the touchscreen.<br>CAUTION: Failure to put Model S in Car Wash Mode may result in damage (for example, to the charge port or windshield wipers). Damage caused by car washes is not covered by the warranty.<br><br>Document title: MODEL S 2021 + OWNER'S MANUAL<br>Car model: MODEL S 2021 +<br>Software version: 2024.2.3<br>Subject: Cleaning<br>Section: Cautions for Exterior Cleaning - part 1<br>Content: CAUTION: Do not wash in direct sunlight. CAUTION: Do not use windshield treatment fluids. Doing so can interfere with wiper friction and cause a chattering sound. CAUTION: Do not use hot water, detergents, highly alkaline or caustic cleaning ingredients or solvents, specifically those containing hydroxide. CAUTION: If using a pressure washer, maintain a distance of at least 12\" (30 cm) between the nozzle and the surface of Model S. Avoid aiming the water jet directly at parking sensors (if equipped). Keep the nozzle moving and do not concentrate the water jet on any one area. CAUTION: Do not aim water hoses directly at windows, door, or hood seals or at electronic modules or exposed cabling. CAUTION: To avoid corrosive damage that may not be covered by the warranty, rinse away any road salt from the underside of the vehicle, wheel wells, and brakes. After cleaning the vehicle, dry the brakes by going on a short drive and applying the brakes multiple times. CAUTION: Avoid using tight-napped or rough cloths, such as washing mitts. A high-quality microfiber cleaning cloth is recommended. CAUTION: If washing in an automatic car wash, use touchless car washes only. These car washes have no parts (brushes, etc.) that touch the surfaces of Model S. Some touchless car washes use caustic solutions that, over time, can cause discoloration of decorative exterior trim. Avoid exposure to soaps and chemicals above pH 13. If unsure, check the product label or ask the staff at the car wash. Damage caused by improper washing is not covered by the warranty. CAUTION: If washing in an automatic car wash, make sure the vehicle is locked. In addition, avoid using controls on the touchscreen that can result in accidentally opening doors or trunks while the vehicle is being washed. Any damage caused is not covered by the warranty. CAUTION: Ensure the wipers are off before washing Model S to avoid the risk of damaging the wipers. CAUTION: Do not use chemical based wheel cleaners or pre-wash products. These can damage the finish on the wheels. WARNING: Never spray liquid at a high velocity (for example, if using a pressure washer) towards the charge port while Model S is charging.<br><br>Document title: MODEL S 2012–2020 OWNER'S MANUAL<br>Car model: MODEL S 2012–2020<br>Software version: 2024.2.3<br>Subject: Cleaning<br>Section: Cautions for Exterior Cleaning - part 1<br>Content: CAUTION: Do not wash in direct sunlight. CAUTION: Do not use windshield treatment fluids. Doing so can interfere with wiper friction and cause a chattering sound. CAUTION: Do not use hot water, detergents, highly alkaline or caustic cleaning ingredients or solvents, specifically those containing hydroxide. CAUTION: If using a pressure washer, maintain a distance of at least 12\" (30 cm) between the nozzle and the surface of Model S. Avoid aiming the water jet directly at parking sensors (if equipped). Keep the nozzle moving and do not concentrate the water jet on any one area. CAUTION: Do not aim water hoses directly at windows, door, or hood seals or at electronic modules or exposed cabling. CAUTION: To avoid corrosive damage that may not be covered by the warranty, rinse away any road salt from the underside of the vehicle, wheel wells, and brakes. After cleaning the vehicle, dry the brakes by going on a short drive and applying the brakes multiple times. CAUTION: Avoid using tight-napped or rough cloths, such as washing mitts. A high-quality microfiber cleaning cloth is recommended. CAUTION: If washing in an automatic car wash, use touchless car washes only. These car washes have no parts (brushes, etc.) that touch the surfaces of Model S. Some touchless car washes use caustic solutions that, over time, can cause discoloration of decorative exterior trim. Avoid exposure to soaps and chemicals above pH 13. If unsure, check the product label or ask the staff at the car wash. Damage caused by improper washing is not covered by the warranty. CAUTION: If washing in an automatic car wash, make sure the vehicle is locked. In addition, avoid using controls on the touchscreen that can result in accidentally opening doors or trunks while the vehicle is being washed. Any damage caused is not covered by the warranty. CAUTION: Ensure the wipers are off before washing Model S to avoid the risk of damaging the wipers. CAUTION: Do not use chemical based wheel cleaners or pre-wash products. These can damage the finish on the wheels. WARNING: Never spray liquid at a high velocity (for example, if using a pressure washer) towards the charge port while Model S is charging.\n",
       "            </div>\n",
       "        </div>\n",
       "    <div>\n",
       "    "
      ],
      "text/plain": [
       "<IPython.core.display.HTML object>"
      ]
     },
     "metadata": {},
     "output_type": "display_data"
    }
   ],
   "source": [
    "ask_question('Can I wash my Tesla car using regular car washing service?')"
   ]
  }
 ],
 "metadata": {
  "kernelspec": {
   "display_name": "Python 3",
   "language": "python",
   "name": "python3"
  },
  "language_info": {
   "codemirror_mode": {
    "name": "ipython",
    "version": 3
   },
   "file_extension": ".py",
   "mimetype": "text/x-python",
   "name": "python",
   "nbconvert_exporter": "python",
   "pygments_lexer": "ipython3",
   "version": "3.11.8"
  }
 },
 "nbformat": 4,
 "nbformat_minor": 2
}
