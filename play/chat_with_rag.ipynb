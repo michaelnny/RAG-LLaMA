{
 "cells": [
  {
   "cell_type": "code",
   "execution_count": 1,
   "metadata": {},
   "outputs": [],
   "source": [
    "import os\n",
    "from typing import Tuple, Mapping, Text, Any\n",
    "import torch\n",
    "import time\n",
    "\n",
    "# simple hack to support import module from parent directory\n",
    "import sys\n",
    "sys.path.append('../')\n",
    "\n",
    "from rag_llama.core.retrievers import RerankRetriever\n",
    "from rag_llama.core.generation import Llama, Dialog\n"
   ]
  },
  {
   "cell_type": "markdown",
   "metadata": {},
   "source": [
    "Set proxy for notebook kernel, note this is only for my local environment and can be removed."
   ]
  },
  {
   "cell_type": "code",
   "execution_count": 2,
   "metadata": {},
   "outputs": [],
   "source": [
    "os.environ['http_proxy'] = \"http://127.0.0.1:1081\"\n",
    "os.environ['https_proxy'] = \"http://127.0.0.1:1081\""
   ]
  },
  {
   "cell_type": "markdown",
   "metadata": {},
   "source": [
    "## Define system message and input query format templates. \n",
    "Note this are for single-turn chat, similar to how search works."
   ]
  },
  {
   "cell_type": "code",
   "execution_count": 33,
   "metadata": {},
   "outputs": [],
   "source": [
    "SYSTEM_MESSAGE_NORAG = \"\"\"\n",
    "You are an assistant to a Tesla customer support team. \n",
    "Your job is to answer customer's questions to the best of your ability.\n",
    "\"\"\"\n",
    "\n",
    "SYSTEM_MESSAGE_WITHRAG = SYSTEM_MESSAGE_NORAG + \"\"\"\n",
    "You will be given several reference documents to help you in answering.\n",
    "Some of the provided documents may be irrelevant, only use those that appear to be relevant to the question. \n",
    "Do not mention or cite documents that are not given to you.\n",
    "Answer succinctly and make reference to the given documents sections.\n",
    "\"\"\"\n",
    "\n",
    "def get_formatted_input_dialog(query: str, doc_strs: str=None) -> Dialog:\n",
    "\n",
    "    if doc_strs is not None and len(doc_strs) > 10:\n",
    "        combined_query = f\"Question:\\n{query}\\n\\n####\\n\\nDocuments:\\n{doc_strs}\"\n",
    "        dialog = [{'role': 'system', 'content': SYSTEM_MESSAGE_WITHRAG}, {'role': 'user', 'content': combined_query}]\n",
    "    else:\n",
    "        dialog = [{'role': 'system', 'content': SYSTEM_MESSAGE_NORAG},{'role': 'user', 'content': query}]\n",
    "    \n",
    "    return dialog"
   ]
  },
  {
   "cell_type": "code",
   "execution_count": 34,
   "metadata": {},
   "outputs": [],
   "source": [
    "def format_retrieved_doc(item: Mapping[Text, Any], max_words: int=0) -> str:\n",
    "    \"\"\"Add more metadata to the document string\"\"\"\n",
    "    # Extract values from the dictionary\n",
    "    document = item.get(\"document\", \"\")\n",
    "    subject = item.get(\"subject\", \"\")\n",
    "    section = item.get(\"section\", \"\")\n",
    "    content = item.get(\"content\", \"\")\n",
    "    \n",
    "    # Use a generator expression to filter out empty strings and join them\n",
    "    formatted_doc = ' - '.join(value for value in [document, subject, section, content] if value)\n",
    "\n",
    "    # Cut to maximum number of words\n",
    "    if max_words > 0 :\n",
    "        # Split the formatted text into words\n",
    "        words = formatted_doc.split()\n",
    "\n",
    "        if len(words) > max_words:\n",
    "            # Take only the first max_words words\n",
    "            truncated_tex = ' '.join(words[:max_words])\n",
    "            return truncated_tex\n",
    "        else:\n",
    "            return formatted_doc\n",
    "\n",
    "    return formatted_doc"
   ]
  },
  {
   "cell_type": "markdown",
   "metadata": {},
   "source": [
    "Create the reranking retrieval instance and the LLaMA 2 chat generator instance."
   ]
  },
  {
   "cell_type": "code",
   "execution_count": 5,
   "metadata": {},
   "outputs": [],
   "source": [
    "doc_embed_file = \"../data/Tesla_manual_embeddings.pk\"\n",
    "llama_model_ckpt = os.path.expanduser(\"~/models/meta_llama2/llama-2-7b-chat/consolidated.pth\")\n",
    "llama_tokenizer_ckpt = os.path.expanduser(\"~/models/meta_llama2/tokenizer.model\")\n",
    "device = 'cuda' if torch.cuda.is_available() else 'cpu'\n",
    "\n",
    "# LLM parameters\n",
    "max_seq_len = 2048\n",
    "max_gen_len = 1024\n",
    "temperature = 0.6 # model sampling temperature\n",
    "top_p = 0.9 # model sampling top P\n",
    "\n",
    "# RAG specific parameters\n",
    "max_words = 300 # cut maximum words for each retrieved document\n",
    "top_k = 50 # select top K items to retrieve during naive retrieval\n",
    "top_n = 3 # select top N items based on scores from reranking model"
   ]
  },
  {
   "cell_type": "code",
   "execution_count": 6,
   "metadata": {},
   "outputs": [
    {
     "name": "stdout",
     "output_type": "stream",
     "text": [
      "Loading sentence-transformers/all-MiniLM-L6-v2 model and tokenizer from HuggingFace...\n",
      "Loading cross-encoder/ms-marco-MiniLM-L-6-v2 model and tokenizer from HuggingFace...\n",
      "Starting to load tokenizer checkpoint '/home/michael/models/meta_llama2/tokenizer.model' ...\n",
      "Starting to load model checkpoints '/home/michael/models/meta_llama2/llama-2-7b-chat/consolidated.pth' ...\n",
      "Model checkpoint loaded in 17.73 seconds\n"
     ]
    }
   ],
   "source": [
    "rerank_retriever = RerankRetriever(embed_file=doc_embed_file, device=device)\n",
    "\n",
    "generator = Llama.build(\n",
    "    ckpt_path=llama_model_ckpt,\n",
    "    tokenizer_path=llama_tokenizer_ckpt,\n",
    "    max_seq_len=max_seq_len,\n",
    "    max_batch_size=2,\n",
    "    device=device,\n",
    ")"
   ]
  },
  {
   "cell_type": "markdown",
   "metadata": {},
   "source": [
    "## Main logic for retrieval and LLM generation"
   ]
  },
  {
   "cell_type": "code",
   "execution_count": 42,
   "metadata": {},
   "outputs": [],
   "source": [
    "def run_chat_completions(query: str) -> Tuple[str]:\n",
    "    \"\"\"Run chat completion with the same query twice, one without RAG, and other with RAG\"\"\"\n",
    "\n",
    "    retrieved_items = rerank_retriever.retrieve(query, top_k, top_n)\n",
    "\n",
    "    # Join multiple documents into a single document string\n",
    "    ref_doc_strs = \"\\n\\n\".join([format_retrieved_doc(d, max_words) for d in retrieved_items])\n",
    "    \n",
    "    # build two dialogs with the same query, first without using RAG, second using RAG\n",
    "    dialogs = [get_formatted_input_dialog(query, None), get_formatted_input_dialog(query, ref_doc_strs)]\n",
    "\n",
    "    results = []\n",
    "    # passing it separately is much faster due to the fact dialog without RAG is much shorter\n",
    "    for dialog in dialogs:\n",
    "        result = generator.chat_completion(\n",
    "            [dialog],  # input needs to be a batch of dialogs\n",
    "            max_gen_len=max_gen_len,\n",
    "            temperature=temperature,\n",
    "            top_p=top_p,\n",
    "        )\n",
    "\n",
    "        results.extend(result)\n",
    "\n",
    "    response_without_rag = results[0]['generation']['content']\n",
    "    response_with_rag = results[1]['generation']['content']\n",
    "\n",
    "    # add reference documents at the end of response\n",
    "    response_with_rag += f\"\\n\\nReference documents:\\n{ref_doc_strs}\"\n",
    "\n",
    "    return response_without_rag, response_with_rag\n"
   ]
  },
  {
   "cell_type": "markdown",
   "metadata": {},
   "source": [
    "A simple hack to display the chat completions with and without RAG side-by-side for better comparison"
   ]
  },
  {
   "cell_type": "code",
   "execution_count": 36,
   "metadata": {},
   "outputs": [],
   "source": [
    "from IPython.display import HTML, display\n",
    "\n",
    "def display_completions_in_two_column(query, response, response_with_rag):\n",
    "    \"\"\"\n",
    "    Display content in two columns side-by-side.\n",
    "    \n",
    "    Parameters:\n",
    "    query (str): user query\n",
    "    response (str): response for left column.\n",
    "    response_with_rag (str): response for right column.\n",
    "    \"\"\"\n",
    "\n",
    "    # Convert newlines to HTML line breaks and bulleted lists to HTML list items\n",
    "    response = response.replace('\\n', '<br>')\n",
    "    response_with_rag = response_with_rag.replace('\\n', '<br>')\n",
    "\n",
    "    html_content = f'''\n",
    "    <div>\n",
    "        <div style=\"padding: 20px 0; font-weight: bold;\">User: {query}</div>\n",
    "        <div style=\"display: grid; grid-template-columns: repeat(2, 1fr); gap: 20px;\">\n",
    "            <div>\n",
    "                <div style=\"font-weight: bold;\">Assistant:</div>\n",
    "                {response}\n",
    "            </div>\n",
    "            <div>\n",
    "                <div style=\"font-weight: bold;\">Assistant with RAG:</div>\n",
    "                {response_with_rag}\n",
    "            </div>\n",
    "        </div>\n",
    "    <div>\n",
    "    '''\n",
    "    display(HTML(html_content))"
   ]
  },
  {
   "cell_type": "code",
   "execution_count": 37,
   "metadata": {},
   "outputs": [],
   "source": [
    "def ask_question(query: str):\n",
    "    response_without_rag, response_with_rag = run_chat_completions(query)\n",
    "    display_completions_in_two_column(query, response_without_rag, response_with_rag)"
   ]
  },
  {
   "cell_type": "markdown",
   "metadata": {},
   "source": [
    "## Now we can start asking questions about Tesla cars"
   ]
  },
  {
   "cell_type": "code",
   "execution_count": 43,
   "metadata": {},
   "outputs": [
    {
     "data": {
      "text/html": [
       "\n",
       "    <div>\n",
       "        <div style=\"padding: 20px 0; font-weight: bold;\">User: Explain to me how can I enable Autopilot on my Tesla Model S car?</div>\n",
       "        <div style=\"display: grid; grid-template-columns: repeat(2, 1fr); gap: 20px;\">\n",
       "            <div>\n",
       "                <div style=\"font-weight: bold;\">Assistant:</div>\n",
       "                 Great question! Enabling Autopilot on your Tesla Model S is a straightforward process that can be completed in a few easy steps. Here's how:<br>1. Check if your car is eligible: Autopilot is available on certain Tesla models, including the Model S. Check your car's software version to see if it's eligible for Autopilot. You can check your software version by going to the \"Settings\" menu on your car's touchscreen display.<br>2. Update your car's software: Make sure your car's software is up to date. Tesla regularly releases software updates that add new features, including Autopilot. You can check for updates by going to the \"Settings\" menu and selecting \"Software Update.\" If an update is available, follow the on-screen instructions to download and install it.<br>3. Enable Autopilot: Once your car's software is up to date, you can enable Autopilot. To do this, go to the \"Settings\" menu and select \"Autopilot.\" You'll see a message asking you to confirm that you want to enable Autopilot. Tap \"Enable\" to confirm.<br>4. Adjust the Autopilot settings: Once Autopilot is enabled, you can adjust the settings to your preference. You can do this by going to the \"Settings\" menu and selecting \"Autopilot.\" From here, you can adjust the following settings:<br>* Adaptive Cruise Control: This setting allows the car to maintain a safe distance from the vehicle ahead of it.<br>* Lane Departure Warning: This setting alerts you if your car drifts out of its lane on the road.<br>* Automatic Emergency Braking: This setting allows the car to automatically apply the brakes in emergency situations.<br>* Traffic-Aware Cruise Control: This setting allows the car to adjust its speed based on traffic conditions.<br>5. Test the Autopilot features: Once you've enabled Autopilot and adjusted the settings, it's a good idea to test the features on the road. Start by activating the Adaptive Cruise Control and see how the car adjusts its speed to maintain a safe distance from the vehicle ahead. Then, try out the Lane Departure Warning and Automatic Emergency Braking features by driving on a winding road or in heavy traffic.<br>That's it! With these steps, you should be able to enable Autopilot on your Tesla Model S. Remember to always follow the road rules and drive safely while using Autopilot.\n",
       "            </div>\n",
       "            <div>\n",
       "                <div style=\"font-weight: bold;\">Assistant with RAG:</div>\n",
       "                 Thank you for reaching out to us! To enable Autopilot on your Tesla Model S, please follow these steps:<br>1. Make sure your phone is connected to the vehicle and has cellular service and GPS enabled.<br>2. Ensure that all cameras and sensors are clean and free from obstructions. Dirty cameras and sensors can affect Autopilot performance.<br>3. Park your vehicle in a safe location and ensure that all doors and trunks are closed.<br>4. Locate the Autopilot feature in the Controls menu and select Autopilot > Autopilot Features > Autosteer (Beta).<br>5. After carefully reading and understanding the popup window, touch Yes to enable Autosteer.<br>6. Autosteer will confirm activation with an audible chime and briefly display a message on the instrument cluster reminding you to pay attention to the road and be ready to take over at any time.<br>7. To indicate that Autosteer is now active, the instrument cluster will display the Autosteer icon in blue. When Autosteer is able to detect lane markings, it will display the edges of the driving lane in blue on the instrument cluster.<br>8. Autosteer will also activate Traffic-Aware Cruise Control, which will adjust your speed to maintain a safe distance from the vehicle ahead.<br>9. If the speed limit cannot be detected when Autosteer is engaged, Autosteer will reduce your driving speed and limit the set cruising speed to 45 mph (70 km/h).<br>10. Although you can manually accelerate to exceed the limited speed, Model S will not brake for detected obstacles as long as you are applying the accelerator pedal. Autosteer will slow down to the limited speed when necessary.<br><br>I hope this helps! Let me know if you have any further questions.<br><br>Reference documents:<br>MODEL S (2021 +) OWNER'S MANUAL Software version: 2024.2.3 North America - Smart Summon - Before Using Smart Summon - • Download the latest version of the Tesla mobile app to your phone, and ensure your phone has cellular service and GPS enabled.<br>• Your phone must be connected to Model S and located within approximately 213 ft. (65 meters).<br>• The vehicle's cameras must be fully calibrated (see Drive to Calibrate Cameras on page 20).<br>• You must have a clear line of sight to Model S.<br>• Model S must be in Park, not charging, and all doors and trunks must be closed.<br>CAUTION: Ensure all cameras and sensors (if equipped) are clean. Dirty cameras and sensors, as well as environmental conditions such as rain and faded lane markings, can affect Autopilot performance.<br><br>MODEL S (2021 +) OWNER'S MANUAL Software version: 2024.2.3 North America - Autopilot Features - Autosteer - NOTE: Depending on market region, vehicle configuration, options purchased, and software version, your vehicle may not be equipped with Autosteer, or the feature may not operate exactly as described. To enable Autosteer: 1. Touch Controls > Autopilot > Autopilot Features > Autosteer (Beta). 2. After carefully reading and understanding the popup window, touch Yes. To indicate that Autosteer is available (but not actively steering Model S), the instrument panel displays a gray Autosteer icon. In situations where Autosteer is temporarily unavailable, the Autosteer icon disappears. (For example, if your driving speed is not within the speed required for Autosteer to operate.) To initiate Autosteer, press the right scroll wheel. NOTE: If the setting for Autopilot Activation is set to Double Click, you must double-press the right scroll wheel to engage Autosteer (see Autopilot Settings on page 100). Autosteer confirms activation with an audible chime and briefly displays a message on the instrument cluster reminding you to pay attention to the road and be ready to take over at any time. To indicate that Autosteer is now active, the instrument cluster displays the Autosteer icon in blue. When Autosteer is able to detect lane markings, it displays the edges of the driving lane in blue on the instrument cluster. Whenever Autosteer is active, Traffic-Aware Cruise Control is active as well. In situations where the speed limit cannot be detected when Autosteer is engaged, Autosteer reduces your driving speed and limits the set cruising speed to 45 mph (70 km/h). Although you can manually accelerate to exceed the limited speed, Model S will not brake for detected obstacles as long as you are applying the accelerator pedal. Autosteer slows down to the limited speed when<br><br>MODEL X (2021 +) OWNER'S MANUAL Software version: 2024.2.3 North America - Autopilot Features - Autosteer - NOTE: Depending on market region, vehicle configuration, options purchased, and software version, your vehicle may not be equipped with Autosteer, or the feature may not operate exactly as described. To enable Autosteer: 1. Touch Controls > Autopilot > Autopilot Features > Autosteer (Beta). 2. After carefully reading and understanding the popup window, touch Yes. To indicate that Autosteer is available (but not actively steering Model X), the instrument panel displays a gray Autosteer icon. In situations where Autosteer is temporarily unavailable, the Autosteer icon disappears. (For example, if your driving speed is not within the speed required for Autosteer to operate.) To initiate Autosteer, press the right scroll wheel. NOTE: If the setting for Autopilot Activation is set to Double Click, you must double-press the right scroll wheel to engage Autosteer (see Autopilot Settings on page 117). Autosteer confirms activation with an audible chime and briefly displays a message on the instrument cluster reminding you to pay attention to the road and be ready to take over at any time. To indicate that Autosteer is now active, the instrument cluster displays the Autosteer icon in blue. When Autosteer is able to detect lane markings, it displays the edges of the driving lane in blue on the instrument cluster. Whenever Autosteer is active, Traffic-Aware Cruise Control is active as well. In situations where the speed limit cannot be detected when Autosteer is engaged, Autosteer reduces your driving speed and limits the set cruising speed to 45 mph (70 km/h). Although you can manually accelerate to exceed the limited speed, Model X will not brake for detected obstacles as long as you are applying the accelerator pedal. Autosteer slows down to the limited speed when\n",
       "            </div>\n",
       "        </div>\n",
       "    <div>\n",
       "    "
      ],
      "text/plain": [
       "<IPython.core.display.HTML object>"
      ]
     },
     "metadata": {},
     "output_type": "display_data"
    }
   ],
   "source": [
    "ask_question('Explain to me how can I enable Autopilot on my Tesla Model S car?')"
   ]
  },
  {
   "cell_type": "code",
   "execution_count": 45,
   "metadata": {},
   "outputs": [
    {
     "data": {
      "text/html": [
       "\n",
       "    <div>\n",
       "        <div style=\"padding: 20px 0; font-weight: bold;\">User: How to open the door of a Tesla Model X car when the power is very low?</div>\n",
       "        <div style=\"display: grid; grid-template-columns: repeat(2, 1fr); gap: 20px;\">\n",
       "            <div>\n",
       "                <div style=\"font-weight: bold;\">Assistant:</div>\n",
       "                 Thank you for reaching out to us with your question! I'm happy to help you with that.<br>To open the door of a Tesla Model X when the power is very low, you can try the following methods:<br>1. Use the manual door release: Located inside the vehicle, you'll find the manual door release lever. Pulling this lever will open the door. Please note that this method may not be suitable for all situations, and it's important to use it with caution.<br>2. Use the emergency door release: In case of a complete loss of power, the emergency door release can be activated. To do this, press and hold the \"Unlock\" button on the key fob for about 3 seconds. The doors will then unlock, and you can open them manually.<br>3. Call for roadside assistance: If you're unable to open the door or need help in any other way, you can call Tesla's 24/7 roadside assistance for help. They will send a technician to assist you.<br>It's important to note that in case of a low-power situation, it's best to prioritize safety and avoid any actions that could put you or others at risk. If you're unable to open the door, please wait for assistance to arrive.<br>I hope this information helps! If you have any other questions or concerns, feel free to ask.\n",
       "            </div>\n",
       "            <div>\n",
       "                <div style=\"font-weight: bold;\">Assistant with RAG:</div>\n",
       "                 Thank you for reaching out to us. To open the door of a Tesla Model X car when the power is very low, you can try the following steps:<br>1. Pull up the manual door release located in front of the window switches. This is the recommended method for opening the front door in the unlikely situation when Model X has no power. (Reference: MODEL X (2021 +) OWNER'S MANUAL, page 224)<br>2. If the manual door release is not available or does not work, you can try to open the door using the emergency release lever located on the inside of the door. This lever is only available on Model X vehicles. (Reference: MODEL X (2021 +) OWNER'S MANUAL, page 224)<br>Please note that if the vehicle has no power, you may not be able to open the doors using the button on the top of the interior door handle, as mentioned in the reference document. In such cases, the manual door release or emergency release lever may be the only option available.<br>If you are unable to open the door and need assistance, you can contact Tesla Roadside Assistance 24/7 for help. They will be able to provide you with the necessary instructions and support to get your vehicle back on the road. (Reference: MODEL X (2021 +) OWNER'S MANUAL, page 232)<br><br>Reference documents:<br>MODEL S (2021 +) OWNER'S MANUAL Software version: 2024.2.3 North America - Doors - Opening Doors from the Interior - Model S doors are electrically powered. To open a door while sitting inside, press the button located at the top of the interior door handle and push the door open.<br>NOTE: To prevent children from opening the rear doors, turn on child locks (see Child Locks on page 28). You can also use the touchscreen popup to open and close doors when inside Model Swhile the vehicle is in Park .<br>NOTE: In the unlikely event that Model S has no low voltage power, you will be unable to open the doors with the button on the top of the door handle. See Opening Doors with No Power on page 224 for more information.<br><br>MODEL X (2021 +) OWNER'S MANUAL Software version: 2024.2.3 North America - Opening Doors with No Power - Opening a Front Door with No Power - To open a front door in the unlikely situation when Model X has no power, pull up the manual door release located in front of the window switches.<br><br>MODEL Y () OWNER'S MANUAL Software version: 2024.2.3 North America - Contacting Tesla Roadside Assistance - If Vehicle Has No Power - If Model Y has no low voltage power, perform the following steps to open the hood or jump start the low voltage battery.<br>1. Open the hood. See Opening the Hood with No Power on page 233 for more information on opening the hood if the vehicle does not have power.<br>2. Jump start the low voltage battery (see Jump Starting on page 234).<br>NOTE: Tow providers: See Running Out of Range on page 232 for more information on transporting the vehicle to a charging station and preparing the vehicle to charge.<br>CAUTION: Because the windows automatically lower slightly when you open or close a door, always connect to an external, low voltage power supply before opening a door if the vehicle has no power to avoid breaking a window (see Jump Starting on page 234). Tesla Roadside Assistance is available to you 24 hours a day, 365 days a year, for the duration of your warranty period. Tesla Roadside Assistance is also available to speak with roadside service professionals to answer any questions and explain the proper procedure for transporting your vehicle. When contacting Tesla Roadside Assistance, please provide:<br>• The Vehicle Identification Number (VIN). The VIN is displayed when you touch Controls > Software. The VIN can also been seen by looking through the driver's side of the windshield.<br>• Your exact location.<br>• The nature of the problem.<br>If available in your region, you can also expedite your request, by choosing the Roadside Assistance option in the Tesla mobile app.<br>NOTE: For a detailed description of Tesla's Roadside Assistance policy, go to the support page on the Tesla web site for your region.\n",
       "            </div>\n",
       "        </div>\n",
       "    <div>\n",
       "    "
      ],
      "text/plain": [
       "<IPython.core.display.HTML object>"
      ]
     },
     "metadata": {},
     "output_type": "display_data"
    }
   ],
   "source": [
    "ask_question('How to open the door of a Tesla Model X car when the power is very low?')"
   ]
  },
  {
   "cell_type": "code",
   "execution_count": 46,
   "metadata": {},
   "outputs": [
    {
     "data": {
      "text/html": [
       "\n",
       "    <div>\n",
       "        <div style=\"padding: 20px 0; font-weight: bold;\">User: Can I use autopilot in raining or snowing conditions?</div>\n",
       "        <div style=\"display: grid; grid-template-columns: repeat(2, 1fr); gap: 20px;\">\n",
       "            <div>\n",
       "                <div style=\"font-weight: bold;\">Assistant:</div>\n",
       "                 Hello! Thank you for reaching out to us. I'm happy to help you with your question.<br>Tesla Autopilot is designed to function in a variety of weather conditions, including rain and snow. However, it's important to note that Autopilot is not a substitute for safe driving practices, and it's always important to follow safe driving practices, especially in adverse weather conditions.<br>In rainy or snowy conditions, it's important to use extra caution when using Autopilot. The sensors and cameras that make up the Autopilot system may have difficulty detecting objects in the roadway, such as puddles or snow, which can affect the system's ability to safely control the vehicle.<br>While Autopilot can be used in rainy or snowy conditions, it's important to be aware of the limitations of the system and to use it with caution. It's always a good idea to keep an eye on the road and be prepared to take control of the vehicle if necessary.<br>If you have any other questions or concerns, please don't hesitate to ask. Thank you for choosing Tesla!\n",
       "            </div>\n",
       "            <div>\n",
       "                <div style=\"font-weight: bold;\">Assistant with RAG:</div>\n",
       "                 Thank you for reaching out to us! I'll do my best to help you with your question.<br>Based on the information provided in the documents, it appears that Tesla's Autopilot feature may not be available in rainy or snowy conditions. The documents mention that dirty cameras and sensors, as well as environmental conditions such as rain and faded lane markings, can affect Autopilot performance. If a camera is obstructed or blinded, the vehicle may display a message on the instrument cluster and Autopilot features may not be available.<br>It's important to note that Autopilot is designed to work best in good weather conditions, and Tesla recommends driving in dry conditions to ensure proper functioning of the feature. If you need to drive in rainy or snowy conditions, it's recommended to use the vehicle's rain-sensing wipers and snow-sensing tyres to improve visibility.<br>I hope this information helps! Let me know if you have any other questions.<br><br>Reference documents:<br>MODEL S (2021 +) OWNER'S MANUAL Software version: 2024.2.3 North America - Autopilot Features - Autopilot Conditions - Ensure all cameras are clean and free of obstructions before each drive and before using Autopilot features (see Cleaning a Camera on page 192). Dirty cameras and sensors (if equipped), as well as environmental conditions such as rain and faded lane markings, can affect Autopilot performance. If a camera is obstructed or blinded, Model S displays a message on the instrument cluster and Autopilot features may not be available. For more information on specific alerts, see Troubleshooting Alerts on page 225. Before you can use Autopilot features, and after some Service visits, you must drive a short distance to calibrate cameras. For more information, see Drive to Calibrate Cameras on page 20. In addition, these features may not work as intended when: • The road has sharp curves or significant changes in elevation. • Road signs and signals are unclear, ambiguous, or poorly maintained. • Visibility is poor (due to heavy rain, snow, hail, etc. or poorly lit roadways at night) • You are driving in a tunnel or next to a highway divider that interferes with the view of the camera(s) • Bright light (such as from oncoming headlights or direct sunlight) interferes with the view of the camera(s). The list above does not represent an exhaustive list of situations that may interfere with proper operation of Autopilot features. For more information, see Limitations and Warnings on page 125. NOTE: Depending on market region, vehicle configuration, options purchased, and software version, your vehicle may not be equipped with the following features, or a feature may not operate exactly as described. Autopilot Feature Available When Traffic-Aware Cruise Control • You are driving between 18 mph (30 km/h) and 85 mph (140 km/h)<br><br>MODEL Y () OWNER'S MANUAL Software version: 2024.2.3 North America - Autopilot Features - Autopilot Conditions - Ensure all cameras are clean and free of obstructions before each drive and before using Autopilot features (see Cleaning a Camera on page 196). Dirty cameras and sensors (if equipped), as well as environmental conditions such as rain and faded lane markings, can affect Autopilot performance. If a camera is obstructed or blinded, Model Y displays a message on the touchscreen and Autopilot features may not be available. For more information on specific alerts, see Troubleshooting Alerts on page 237. Before you can use Autopilot features, and after some Service visits, you must drive a short distance to calibrate cameras. For more information, see Drive to Calibrate Cameras on page 17. In addition, these features may not work as intended when: • The road has sharp curves or significant changes in elevation. • Road signs and signals are unclear, ambiguous, or poorly maintained. • Visibility is poor (due to heavy rain, snow, hail, etc. or poorly lit roadways at night) • You are driving in a tunnel or next to a highway divider that interferes with the view of the camera(s) • Bright light (such as from oncoming headlights or direct sunlight) interferes with the view of the camera(s). The list above does not represent an exhaustive list of situations that may interfere with proper operation of Autopilot features. For more information, see Limitations and Warnings on page 130. NOTE: Depending on market region, vehicle configuration, options purchased, and software version, your vehicle may not be equipped with the following features, or a feature may not operate exactly as described. Autopilot Feature Available When Traffic-Aware Cruise Control • You are driving between 18 mph (30 km/h) and 85 mph (140 km/h) NOTE: You<br><br>MODEL X (2021 +) OWNER'S MANUAL Software version: 2024.2.3 North America - Autopilot Features - Autopilot Conditions - Ensure all cameras are clean and free of obstructions before each drive and before using Autopilot features (see Cleaning a Camera on page 209). Dirty cameras and sensors (if equipped), as well as environmental conditions such as rain and faded lane markings, can affect Autopilot performance. If a camera is obstructed or blinded, Model X displays a message on the instrument cluster and Autopilot features may not be available. For more information on specific alerts, see Troubleshooting Alerts on page 243. Before you can use Autopilot features, and after some Service visits, you must drive a short distance to calibrate cameras. For more information, see Drive to Calibrate Cameras on page 21. In addition, these features may not work as intended when: • The road has sharp curves or significant changes in elevation. • Road signs and signals are unclear, ambiguous, or poorly maintained. • Visibility is poor (due to heavy rain, snow, hail, etc. or poorly lit roadways at night) • You are driving in a tunnel or next to a highway divider that interferes with the view of the camera(s) • Bright light (such as from oncoming headlights or direct sunlight) interferes with the view of the camera(s). The list above does not represent an exhaustive list of situations that may interfere with proper operation of Autopilot features. For more information, see Limitations and Warnings on page 142. NOTE: Depending on market region, vehicle configuration, options purchased, and software version, your vehicle may not be equipped with the following features, or a feature may not operate exactly as described. Autopilot Feature Available When Traffic-Aware Cruise Control • You are driving between 18 mph (30 km/h) and 85 mph (140 km/h)\n",
       "            </div>\n",
       "        </div>\n",
       "    <div>\n",
       "    "
      ],
      "text/plain": [
       "<IPython.core.display.HTML object>"
      ]
     },
     "metadata": {},
     "output_type": "display_data"
    }
   ],
   "source": [
    "ask_question('Can I use autopilot in raining or snowing conditions?')"
   ]
  },
  {
   "cell_type": "code",
   "execution_count": 47,
   "metadata": {},
   "outputs": [
    {
     "data": {
      "text/html": [
       "\n",
       "    <div>\n",
       "        <div style=\"padding: 20px 0; font-weight: bold;\">User: What should I do if the touchscreen of my Tesla car is not responding?</div>\n",
       "        <div style=\"display: grid; grid-template-columns: repeat(2, 1fr); gap: 20px;\">\n",
       "            <div>\n",
       "                <div style=\"font-weight: bold;\">Assistant:</div>\n",
       "                 Hello there! I'm so sorry to hear that the touchscreen of your Tesla car is not responding. Don't worry, this is a common issue that can be easily resolved. Here are some steps you can try:<br>1. Restart the car: Sometimes, a simple reboot can do the trick. Turn off the car, wait for a few seconds, and then turn it back on. See if the touchscreen is working properly now.<br>2. Check the touchscreen settings: Make sure that the touchscreen is set to the correct input source. You can do this by going to the Settings menu and selecting \"Touchscreen\" or \"Display\". If the input source is set to the wrong device, try changing it to the correct one.<br>3. Update the car's software: Tesla regularly releases software updates that can improve the functionality of the touchscreen. Check for any available updates and install them. You can do this by going to the Settings menu and selecting \"Software Update\".<br>4. Clean the touchscreen: Dirt, dust, or fingerprints can sometimes interfere with the touchscreen's functionality. Try cleaning the touchscreen with a soft cloth and some water. Avoid using any harsh chemicals or abrasive materials that could damage the screen.<br>5. Reset the touchscreen: If none of the above steps work, you can try resetting the touchscreen. To do this, go to the Settings menu and select \"Touchscreen\" or \"Display\". Then, select \"Reset Touchscreen\" and follow the on-screen instructions.<br>If none of these steps work, please feel free to reach out to our customer support team for further assistance. We're here to help!\n",
       "            </div>\n",
       "            <div>\n",
       "                <div style=\"font-weight: bold;\">Assistant with RAG:</div>\n",
       "                 Thank you for reaching out to us with your concern about the touchscreen of your Tesla car not responding. According to the provided documents, there are a few steps you can try to restart the touchscreen:<br>For a Model 3 (2024):<br>1. Shift into Park.<br>2. Hold down both scroll buttons on the steering wheel until the touchscreen turns black.<br>3. After a few seconds, the Tesla logo appears. Wait approximately 30 seconds for the touchscreen to restart.<br>For a Model Y (2024):<br>1. Shift into Park.<br>2. Hold down both scroll buttons on the steering wheel until the touchscreen turns black.<br>3. After a few seconds, the Tesla logo appears. Wait approximately 30 seconds for the touchscreen to restart.<br>For a Model S (2021+):<br>1. Shift into Park.<br>2. Hold down both scroll buttons on the steering yoke (or steering wheel) until the touchscreen turns black.<br>3. After a few seconds, the Tesla logo appears. Wait approximately 30 seconds for the touchscreen to restart.<br>It's important to note that these steps only restart the touchscreen and do not affect any other vehicle components. Additionally, it's recommended to only restart the touchscreen while the vehicle is stopped and in Park to ensure the safety of occupants and other road users.<br>If the touchscreen is still unresponsive or demonstrating unusual behavior after trying these steps, you may need to try power cycling the vehicle (if possible). You can find more information on power cycling in the owner's manual on page 60 for a Model 3, page 65 for a Model Y, or page 65 for a Model S.<br>I hope this helps resolve the issue with your touchscreen. If you have any further questions or concerns, please don't hesitate to ask.<br><br>Reference documents:<br>MODEL 3 (2024 ) OWNER'S MANUAL Software version: 2024.2.3 North America - Touchscreen - Restarting the Touchscreen - You can restart your touchscreen if it is unresponsive or demonstrates unusual behavior.<br>WARNING: Only restart the touchscreen while the vehicle is stopped and in Park. The car status display, safety warnings, backup camera, etc. will not be visible during the restart.<br>1. Shift into Park.<br>2. Hold down both scroll buttons on the steering wheel until the touchscreen turns black. Pressing the brake pedal while holding down the scroll buttons does not have any impact and is not required.<br>3. After a few seconds, the Tesla logo appears. Wait approximately 30 seconds for the touchscreen to restart. If the touchscreen is still unresponsive or demonstrating unusual behavior after a few minutes, try power cycling the vehicle (if possible). See Power Cycling the Vehicle on page 60.<br>NOTE: Pressing the scroll buttons only restarts the touchscreen. It does not restart any other vehicle component and does not power Model 3 off and on.<br><br>MODEL Y () OWNER'S MANUAL Software version: 2024.2.3 North America - Touchscreen - Restarting the Touchscreen - You can restart your touchscreen if it is unresponsive or demonstrates unusual behavior.<br>WARNING: Only restart the touchscreen while the vehicle is stopped and in Park. The car status display, safety warnings, backup camera, etc. will not be visible during the restart.<br>1. Shift into Park.<br>2. Hold down both scroll buttons on the steering wheel until the touchscreen turns black. Pressing the brake pedal while holding down the scroll buttons does not have any impact and is not required.<br>3. After a few seconds, the Tesla logo appears. Wait approximately 30 seconds for the touchscreen to restart. If the touchscreen is still unresponsive or demonstrating unusual behavior after a few minutes, try power cycling the vehicle (if possible). See Power Cycling the Vehicle on page 65.<br>NOTE: Pressing the scroll buttons only restarts the touchscreen. It does not restart any other vehicle component and does not power Model Y off and on.<br><br>MODEL S (2021 +) OWNER'S MANUAL Software version: 2024.2.3 North America - Touchscreen - Restarting the Touchscreen - You can restart your touchscreen if it is unresponsive or demonstrates unusual behavior.<br>NOTE: To ensure the safety of occupants as well as other road users, restart the touchscreen only when the vehicle is in Park.<br>1. Shift into Park.<br>2. Hold down both scroll buttons on the steering yoke (or steering wheel) until the touchscreen turns black. Pressing the brake pedal while holding down the scroll buttons does not have any impact and is not required.<br>3. After a few seconds, the Tesla logo appears. Wait approximately 30 seconds for the touchscreen to restart. If the touchscreen is still unresponsive or demonstrating unusual behavior after a few minutes, try power cycling the vehicle (if possible). See Power Cycling the Vehicle on page 65.<br>NOTE: Restarting the touchscreen also activates the drive mode selector on the center console.<br>NOTE: Pressing the scroll buttons only restarts the touchscreen. It does not restart any other vehicle component and does not power Model S off and on.\n",
       "            </div>\n",
       "        </div>\n",
       "    <div>\n",
       "    "
      ],
      "text/plain": [
       "<IPython.core.display.HTML object>"
      ]
     },
     "metadata": {},
     "output_type": "display_data"
    }
   ],
   "source": [
    "ask_question('What should I do if the touchscreen of my Tesla car is not responding?')"
   ]
  },
  {
   "cell_type": "code",
   "execution_count": 48,
   "metadata": {},
   "outputs": [
    {
     "data": {
      "text/html": [
       "\n",
       "    <div>\n",
       "        <div style=\"padding: 20px 0; font-weight: bold;\">User: I have never owned an EV before. Do I need to change oil regularly for my Tesla car?</div>\n",
       "        <div style=\"display: grid; grid-template-columns: repeat(2, 1fr); gap: 20px;\">\n",
       "            <div>\n",
       "                <div style=\"font-weight: bold;\">Assistant:</div>\n",
       "                 Hello! As an assistant to the Tesla customer support team, I'm happy to help answer your question.<br>Great news! Tesla electric vehicles (EVs) do not require oil changes like traditional gasoline-powered vehicles. Since Teslas run on electricity, there's no need to worry about oil maintenance.<br>In fact, Tesla's electric motors are designed to be maintenance-free, which means you won't have to worry about routine maintenance tasks like oil changes, spark plugs, or air filters. This not only saves you time and money but also reduces waste and environmental impact.<br>However, it's essential to keep your Tesla's tires properly inflated, brake pads replaced when necessary, and battery health monitored to ensure optimal performance and longevity.<br>If you have any other questions or concerns about your Tesla, feel free to ask!\n",
       "            </div>\n",
       "            <div>\n",
       "                <div style=\"font-weight: bold;\">Assistant with RAG:</div>\n",
       "                 As an assistant to the Tesla customer support team, I can confirm that you do not need to change the oil in your Tesla Model X, Model 3, or Model S. Tesla vehicles do not have traditional internal combustion engines and therefore do not require oil changes.<br>According to the provided documents, Tesla recommends checking the brake fluid level every 4 years (or more frequently if necessary) and replacing it as needed. Additionally, the A/C desiccant bag should be replaced every 4 years, and the cabin air filter should be replaced every 3 years. The HEPA filters and carbon filters should be replaced every 3 years as well.<br>It's important to note that heavy brake usage, such as towing, mountain descents, or performance driving, may necessitate more frequent brake fluid checks and replacements. Similarly, if you live in an area where roads are salted during winter, you may need to clean and lubricate the brake calipers more frequently.<br>Tesla also recommends rotating the tires every 6,250 miles (10,000 km) or if the tread depth difference is 2/32 in (1.5 mm) or greater, whichever comes first.<br>It's always a good idea to consult your owner's manual for specific maintenance intervals and recommendations for your particular vehicle. If you have any other questions or concerns, feel free to ask!<br><br>Reference documents:<br>MODEL X (2021 +) OWNER'S MANUAL Software version: 2024.2.3 North America - Maintenance Service Intervals - Service Intervals - Tesla recommends the following maintenance items and intervals, as applicable to your vehicle, to ensure continued reliability and efficiency of your Model X. For additional information on vehicle alerts, see Troubleshooting Alerts on page 243.<br>• Brake fluid health check every 4 years (replace if necessary)*.<br>• A/C desiccant bag replacement every 3 years.<br>• Cabin air filter replacement every 3 years.<br>• HEPA filters and carbon filters replacement every 3 years.<br>• Clean and lubricate brake calipers every year or 12,500 miles (20,000 km) if in an area where roads are salted during winter.<br>• Rotate tires every 6,250 miles (10,000 km) or if tread depth difference is 2/32 in (1.5 mm) or greater, whichever comes first.<br>*Heavy brake usage due to towing, mountain descents, or performance driving -- especially for vehicles in hot and humid environments -- may necessitate more frequent brake fluid checks and replacements.<br>NOTE: Any damage caused by opening the Battery coolant reservoir is excluded from the warranty.<br>NOTE: The above intervals are based on typical driving behaviors and scenarios. Depending on various circumstances such as driving behavior, usage, environmental conditions, etc., the above maintenance items may need to be replaced more or less frequently than specified. Additionally, the above list should not be considered comprehensive and does not include consumable parts such as windshield wipers, brake pads, etc.<br>NOTE: Damages or failures caused by maintenance or repairs performed by non-Tesla certified technicians are not covered by the warranty. For more do-it-yourself maintenance procedures and information, see https://www.tesla.com/support/do-it-yourself-guides.<br><br>MODEL 3 (2024 ) OWNER'S MANUAL Software version: 2024.2.3 North America - Maintenance Service Intervals - Service Intervals - Tesla recommends the following maintenance items and intervals, as applicable to your vehicle, to ensure continued reliability and efficiency of your Model 3. For additional information on vehicle alerts, see Troubleshooting Alerts on page 217.<br>• Brake fluid health check every 4 years (replace if necessary)*.<br>• A/C desiccant bag replacement every 4** years.<br>• Cabin air filter replacement every 2 years.<br>• Clean and lubricate brake calipers every year or 12,500 miles (20,000 km) if in an area where roads are salted during winter.<br>• Rotate tires every 6,250 miles (10,000 km) or if tread depth difference is 2/32 in (1.5 mm) or greater, whichever comes first.<br>**A/C desiccant bag replacement can be extended to 6 years on vehicles manufactured between approximately 2017-2021. *Heavy brake usage due to towing, mountain descents, or performance driving -- especially for vehicles in hot and humid environments -- may necessitate more frequent brake fluid checks and replacements.<br>NOTE: Any damage caused by opening the Battery coolant reservoir is excluded from the warranty.<br>NOTE: The above intervals are based on typical driving behaviors and scenarios. Depending on various circumstances such as driving behavior, usage, environmental conditions, etc., the above maintenance items may need to be replaced more or less frequently than specified. Additionally, the above list should not be considered comprehensive and does not include consumable parts such as windshield wipers, brake pads, low voltage battery (if applicable), etc.<br>NOTE: Damages or failures caused by maintenance or repairs performed by non-Tesla certified technicians are not covered by the warranty. For more do-it-yourself maintenance procedures and information, see https://www.tesla.com/support/do-it-yourself-guides.<br><br>MODEL S (2021 +) OWNER'S MANUAL Software version: 2024.2.3 North America - Maintenance Service Intervals - Service Intervals - Tesla recommends the following maintenance items and intervals, as applicable to your vehicle, to ensure continued reliability and efficiency of your Model S. For additional information on vehicle alerts, see Troubleshooting Alerts on page 225.<br>• Brake fluid health check every 4 years (replace if necessary)*.<br>• A/C desiccant bag replacement every 3 years.<br>• Cabin air filter replacement every 3 years.<br>• HEPA filters replacement every 3 years.<br>• Clean and lubricate brake calipers every year or 12,500 miles (20,000 km) if in an area where roads are salted during winter.<br>• Rotate tires every 6,250 miles (10,000 km) or if tread depth difference is 2/32 in (1.5 mm) or greater, whichever comes first.<br>*Heavy brake usage due to towing, mountain descents, or performance driving -- especially for vehicles in hot and humid environments -- may necessitate more frequent brake fluid checks and replacements.<br>NOTE: Any damage caused by opening the Battery coolant reservoir is excluded from the warranty.<br>NOTE: The above intervals are based on typical driving behaviors and scenarios. Depending on various circumstances such as driving behavior, usage, environmental conditions, etc., the above maintenance items may need to be replaced more or less frequently than specified. Additionally, the above list should not be considered comprehensive and does not include consumable parts such as windshield wipers, brake pads, etc.<br>NOTE: Damages or failures caused by maintenance or repairs performed by non-Tesla certified technicians are not covered by the warranty. For more do-it-yourself maintenance procedures and information, see https://www.tesla.com/support/do-it-yourself-guides.\n",
       "            </div>\n",
       "        </div>\n",
       "    <div>\n",
       "    "
      ],
      "text/plain": [
       "<IPython.core.display.HTML object>"
      ]
     },
     "metadata": {},
     "output_type": "display_data"
    }
   ],
   "source": [
    "ask_question('I have never owned an EV before. Do I need to change oil regularly for my Tesla car?')"
   ]
  },
  {
   "cell_type": "code",
   "execution_count": 51,
   "metadata": {},
   "outputs": [
    {
     "data": {
      "text/html": [
       "\n",
       "    <div>\n",
       "        <div style=\"padding: 20px 0; font-weight: bold;\">User: Can I wash my Tesla car using regular car washing service?</div>\n",
       "        <div style=\"display: grid; grid-template-columns: repeat(2, 1fr); gap: 20px;\">\n",
       "            <div>\n",
       "                <div style=\"font-weight: bold;\">Assistant:</div>\n",
       "                 Hello there! As an assistant to the Tesla customer support team, I'd be happy to help answer your question.<br>While it's possible to wash your Tesla car using regular car washing services, it's important to note that Tesla recommends using a specialized electric vehicle (EV) wash service to ensure the safety and longevity of your vehicle's battery and electrical systems.<br>Regular car washes can use harsh chemicals and high-pressure water jets that can damage the sensitive electronics and battery systems in your Tesla. Using the wrong cleaning products or techniques can also compromise the paint and body of your vehicle, which can lead to long-term damage and decreased resale value.<br>Tesla's recommended EV wash service uses specialized equipment and cleaning solutions that are designed specifically for electric vehicles. These services typically include a gentle cleaning process that won't damage the battery or electrical systems, and they may also include a drying process to prevent water spots and corrosion.<br>If you do decide to use a regular car wash service, be sure to inform them that your vehicle is an electric vehicle and that they should use special care when cleaning it. You may also want to check with the car wash service ahead of time to ensure they have experience washing EVs and can follow the proper procedures.<br>In summary, while it's possible to wash your Tesla car using regular car washing services, it's recommended to use a specialized EV wash service to ensure the safety and longevity of your vehicle.\n",
       "            </div>\n",
       "            <div>\n",
       "                <div style=\"font-weight: bold;\">Assistant with RAG:</div>\n",
       "                 Hello! As an assistant to the Tesla customer support team, I'd be happy to help answer your question.<br>To answer your question, it is generally not recommended to wash your Tesla car using regular car washing services. Tesla recommends using the Tesla Car Wash Kit, which is specifically designed for cleaning the unique features of Tesla vehicles. The kit includes a soft-bristle brush, a microfiber cloth, and a cleaning solution that is safe for the vehicle's paint and glass. Using regular car washing services may damage the vehicle's paint or compromise the functionality of the vehicle's sensors and systems.<br>According to the provided documents, Tesla recommends the following steps for cleaning the windshield washers:<br>* Use a thin strand of wire to clear any blockages from the nozzles if a windshield washer becomes blocked.<br>* Do not operate the washers while cleaning the vehicle. Windshield washer fluid can irritate eyes and skin.<br>For Model 3, Tesla recommends the following steps for cleaning the head or tail lights:<br>* If condensation accumulates in the exterior lenses, contact Tesla Service.<br>* Due to weather changes, humidity levels, or recent exposure to water (such as a car wash), condensation may occasionally accumulate in the vehicle's head or tail lights. This is normal, and the condensation often disappears on its own as the weather gets warmer and humidity decreases.<br><br>I hope this information helps! If you have any further questions or concerns, please don't hesitate to ask.<br><br>Reference documents:<br>MODEL S (2021 +) OWNER'S MANUAL Software version: 2024.2.3 North America - Jacking and Lifting - Cleaning Washer Jets - The position of the windshield washers is set at the factory and should never need adjusting. If a windshield washer becomes blocked, use a thin strand of wire to clear any blockages from the nozzles. WARNING: Do not operate the washers while cleaning Model S. Windshield washer fluid can irritate eyes and skin. Read and observe the washer fluid manufacturer’s instructions. Follow the steps below to lift Model S. Ensure that any non-Tesla repair facility is aware of these instructions, including lift points and warnings. 1. Position Model S centrally between the lift posts. 2. If your Model S is equipped with air suspension, it automatically self-levels, even when the vehicle is \"asleep\" and the touchscreen is powered off (see Jack Mode on page 198). Use the touchscreen to set the suspension as follows: ◦ Touch Controls > Suspension. ◦ Press the brake pedal, then touch Very High to maximize the height of the suspension. ◦ Touch Controls > Service > Jack Mode to disable self-leveling. 3. Position the lift arm pads under the designated body lift points at the locations shown. WARNING: DO NOT position the lift arm pads under the Battery or side rails. 4. Adjust the height and position of the lift arm pads to ensure that they are correctly located. 5. With assistance, raise the lift to the desired height, ensuring the lift arm pads remain in their correct positions. 6. Engage any lift safety locks. Follow the lift manufacturer's instructions. To disengage Jack Mode, disable it in Controls > Service. WARNING: The air suspension system automatically self-levels, even when the vehicle is \"asleep\" and the touchscreen is powered off. You MUST disable this system by<br><br>MODEL 3 (2024 ) OWNER'S MANUAL Software version: 2024.2.3 North America - Wipers and Washers - Condensation in Head or Tail Lights - Due to weather changes, humidity levels, or recent exposure to water (such as a car wash), condensation may occasionally accumulate in your vehicle’s head or tail lights. This is normal— as the weather gets warmer and humidity decreases, condensation often disappears on its own. If you notice water buildup within the exterior lenses, or if the condensation affects the visibility of the exterior lights, contact Tesla Service.<br><br>MODEL S (2021 +) OWNER'S MANUAL Software version: 2024.2.3 North America - Wipers and Washers - Condensation in Head or Tail Lights - Due to weather changes, humidity levels, or recent exposure to water (such as a car wash), condensation may occasionally accumulate in your vehicle’s head or tail lights. This is normal— as the weather gets warmer and humidity decreases, condensation often disappears on its own. If you notice water buildup within the exterior lenses, or if the condensation affects the visibility of the exterior lights, contact Tesla Service.\n",
       "            </div>\n",
       "        </div>\n",
       "    <div>\n",
       "    "
      ],
      "text/plain": [
       "<IPython.core.display.HTML object>"
      ]
     },
     "metadata": {},
     "output_type": "display_data"
    }
   ],
   "source": [
    "ask_question('Can I wash my Tesla car using regular car washing service?')"
   ]
  }
 ],
 "metadata": {
  "kernelspec": {
   "display_name": "Python 3",
   "language": "python",
   "name": "python3"
  },
  "language_info": {
   "codemirror_mode": {
    "name": "ipython",
    "version": 3
   },
   "file_extension": ".py",
   "mimetype": "text/x-python",
   "name": "python",
   "nbconvert_exporter": "python",
   "pygments_lexer": "ipython3",
   "version": "3.11.8"
  }
 },
 "nbformat": 4,
 "nbformat_minor": 2
}
