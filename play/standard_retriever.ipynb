{
  "cells": [
    {
      "cell_type": "markdown",
      "metadata": {},
      "source": [
        "Naive retrieval without reranking"
      ]
    },
    {
      "cell_type": "code",
      "execution_count": 1,
      "metadata": {},
      "outputs": [],
      "source": [
        "# simple hack to support import module from parent directory\n",
        "import sys\n",
        "sys.path.append('../')\n",
        "\n",
        "from rag_llama.core.retrievers import StandardRetriever"
      ]
    },
    {
      "cell_type": "code",
      "execution_count": 2,
      "metadata": {},
      "outputs": [],
      "source": [
        "knowledge_base = '../data/Tesla_manual_embeddings.pk'"
      ]
    },
    {
      "cell_type": "code",
      "execution_count": 3,
      "metadata": {},
      "outputs": [
        {
          "name": "stdout",
          "output_type": "stream",
          "text": [
            "Loading sentence-transformers/all-MiniLM-L6-v2 tokenizer from HuggingFace...\n",
            "Loading sentence-transformers/all-MiniLM-L6-v2 model from HuggingFace...\n"
          ]
        }
      ],
      "source": [
        "standard_retriever = StandardRetriever(knowledge_embed=knowledge_base)"
      ]
    },
    {
      "cell_type": "code",
      "execution_count": 4,
      "metadata": {},
      "outputs": [],
      "source": [
        "def find_top_matches(question: str, top_k=5):\n",
        "    top_matches = standard_retriever.retrieve(question, top_k)\n",
        "\n",
        "    for item in top_matches:\n",
        "        print(f'Document: {item[\"document_title\"]}')\n",
        "        print(f'Subject: {item[\"subject\"]}')\n",
        "        print(f'Section: {item[\"section\"]}')\n",
        "        print(f'Content: {item[\"content\"]}')\n",
        "        print(f'Semantic score: {item[\"semantic_score\"]}')\n",
        "        print(f'Page: {item[\"page\"]}')\n",
        "        print('\\n')"
      ]
    },
    {
      "cell_type": "code",
      "execution_count": 5,
      "metadata": {},
      "outputs": [
        {
          "name": "stdout",
          "output_type": "stream",
          "text": [
            "Document: MODEL S 2021 + OWNER'S MANUAL\n",
            "Subject: Troubleshooting Alerts\n",
            "Section: APP_w048 Autopilot features temporarily unavailable Features may be restored on next drive\n",
            "Content: What this alert means: Autopilot features are currently unavailable on your vehicle. Depending on the configuration of your vehicle, Autopilot features that are disabled may include:\n",
            "• Autosteer\n",
            "• Traffic-Aware Cruise Control\n",
            "• Automatic Emergency Braking\n",
            "• Forward Collision Warning\n",
            "• Lane Departure Warning\n",
            "What to do: This alert can be set for several reasons. Check for additional alerts that indicate the cause of this condition. Typically, Autopilot features are restored on your next drive. If this alert persists across multiple drives, schedule service at your earliest convenience. For more information and the full list of Autopilot features, see About Autopilot on page 96.\n",
            "Semantic score: 0.32048603892326355\n",
            "Page: 227\n",
            "\n",
            "\n",
            "Document: MODEL S 2021 + OWNER'S MANUAL\n",
            "Subject: Troubleshooting Alerts\n",
            "Section: APP_w304 Camera blocked or blinded Clean camera or wait for it to regain visibility - part 2\n",
            "Content: For more information on clearing condensation from camera enclosures, see Cleaning a Camera on page 192. If the alert does not clear by the end of your next planned drive, despite cleaning the indicated camera(s) and following recommended steps to clear condensation, schedule service at your next convenient opportunity. Your vehicle is OK to drive in the meantime.\n",
            "Semantic score: 0.32044076919555664\n",
            "Page: 230\n",
            "\n",
            "\n",
            "Document: MODEL S 2021 + OWNER'S MANUAL\n",
            "Subject: Troubleshooting Alerts\n",
            "Section: APP_w304 Camera blocked or blinded Clean camera or wait for it to regain visibility - part 1\n",
            "Content: What this alert means: One or more of the vehicle cameras has limited visibility, or no visibility at all, due to external conditions. When the cameras on your vehicle cannot provide accurate visual information, some or all Autopilot features may be temporarily unavailable. Cameras may have limited or no visibility due to:\n",
            "• Dirt or debris on the camera surface. • Environmental conditions like rain, fog, snow, or dew. • Bright sunlight or glare from another light source. • Low or limited light conditions, including unlit or poorly lit roadways at night. • Condensation (water droplets or mist) on the camera surface. • Monotonous environmental features, including tunnel walls or highway dividers. What to do: Continue to your destination. Your vehicle is OK to drive. This is often a temporary issue that will be resolved when condensation evaporates, or when a particular environmental condition or feature is no longer present. If the alert does not clear by the time you reach your destination, check camera surfaces for condensation, dirt, or other debris. For camera locations, see Cameras on page 20. Clean the cameras as necessary before your next planned drive. For recommended cleaning procedures, see Cleaning a Camera on page 192. If you continue to see this alert after cleaning the cameras, check the inside surfaces of the door pillar camera enclosures for condensation. Although condensation inside the camera enclosures cannot be wiped clean, you can usually clear it faster by following these steps:\n",
            "1. Precondition the cabin by turning Climate ON, setting temperature to High, and making sure A/C is ON. 2. Turn on the front windshield defroster. 3. Direct the air vents toward the door pillar cameras.\n",
            "Semantic score: 0.3188253343105316\n",
            "Page: 230\n",
            "\n",
            "\n",
            "Document: MODEL S 2021 + OWNER'S MANUAL\n",
            "Subject: Troubleshooting Alerts\n",
            "Section: APP_w222 Cruise control unavailable Reduced front camera visibility\n",
            "Content: What this alert means: Traffic-Aware Cruise Control and Autosteer are unavailable because one or more of the front cameras in your vehicle is blocked or blinded by external conditions. Traffic-Aware Cruise Control and Autosteer will remain unavailable while a front camera lacks adequate visibility. Cameras may have limited or no visibility due to:\n",
            "• Dirt or debris on the camera surface.\n",
            "• Environmental conditions like rain, fog, snow, or dew.\n",
            "• Bright sunlight or glare from another light source.\n",
            "• Low or limited light conditions, including unlit or poorly lit roadways at night.\n",
            "• Condensation (water droplets or mist) on the camera surface.\n",
            "• Monotonous environmental features, including tunnel walls or highway dividers.\n",
            "What to do: Continue to your destination. Your vehicle is OK to drive. This is often a temporary issue that clears up on its own. If the alert does not clear by the end of your drive:\n",
            "• Inspect and clean the front camera area at the top center of the windshield before your next planned drive.\n",
            "• Check the camera surface for condensation, dirt, or other debris and attempt to clear any obstruction.\n",
            "See Cleaning a Camera on page 192 for more information on clearing dirt or debris from that area of the vehicle. Although condensation on the inside of the front camera enclosure cannot be wiped clean, you can usually clear it quicker by following these steps:\n",
            "1. Pre-condition the cabin with the temperature set to High and A/C turned ON.\n",
            "2. Turn on the front windshield defroster.\n",
            "If this alert persists throughout subsequent drives but no front camera obstruction is visible, schedule service at your earliest convenience. Your vehicle is OK to drive in the meantime.\n",
            "Semantic score: 0.31722375750541687\n",
            "Page: 228 - 229\n",
            "\n",
            "\n",
            "Document: MODEL S 2021 + OWNER'S MANUAL\n",
            "Subject: Troubleshooting Alerts\n",
            "Section: APP_w207 Autosteer temporarily unavailable\n",
            "Content: What this alert means: Autosteer is temporarily unavailable. This could be a temporary condition caused by an external factor, such as:\n",
            "• Missing or faded lane markers.\n",
            "• Narrow or winding roads.\n",
            "• Poor visibility due to rain, snow, fog, or other weather.\n",
            "• Extremely hot or cold temperatures.\n",
            "• Bright light due to other vehicle headlights, direct sunlight, or other light sources.\n",
            "This alert will also be present if you exceeded the maximum speed limit for Autosteer with Autosteer active. In this case, Autosteer will not be available for the rest of your current drive. What to do: Continue to your destination. If Autosteer is not available by the time you reach your destination, and remains unavailable during your next planned drive, check for the following:\n",
            "• Damage or obstruction caused by mud, ice, snow, or other environmental factors\n",
            "• Obstruction caused by an object mounted on the vehicle, like a bike rack\n",
            "• Obstructions caused by adding paint or adhesive products like wraps, stickers, or rubber coatings to your vehicle\n",
            "• A damaged or misaligned bumper\n",
            "If there are no obvious obstructions, or if you find damage to the vehicle, schedule service at your convenience. Your vehicle is OK to drive in the meantime. For more information, see Autopilot Features on page 100.\n",
            "Semantic score: 0.3129713237285614\n",
            "Page: 227 - 228\n",
            "\n",
            "\n"
          ]
        }
      ],
      "source": [
        "question = \"I see APP_w224 on my dashboard what should I do?\"\n",
        "find_top_matches(question)"
      ]
    },
    {
      "cell_type": "code",
      "execution_count": 6,
      "metadata": {},
      "outputs": [
        {
          "name": "stdout",
          "output_type": "stream",
          "text": [
            "Document: MODEL S 2021 + OWNER'S MANUAL\n",
            "Subject: Troubleshooting Alerts\n",
            "Section: BMS_a066 Maximum charge level and range may be reduced OK to drive - Schedule service soon\n",
            "Content: What this alert means: Your vehicle has detected a condition internal to the high voltage battery that is limiting the battery’s performance. As a result, maximum charge level and range may be reduced. Service is required to restore full performance. What to do: Your vehicle is OK to drive. If this alert persists, schedule service at your earliest convenience. Without service, you may notice further reductions in your vehicle's maximum charge level and range. For more information on the high voltage battery, see High Voltage Battery Information on page 170.\n",
            "Semantic score: 0.3343738317489624\n",
            "Page: 230 - 231\n",
            "\n",
            "\n",
            "Document: MODEL S 2021 + OWNER'S MANUAL\n",
            "Subject: Troubleshooting Alerts\n",
            "Section: DIF_a251 / DIR_a251 / DIREL_a251 / DIRER_a251 Gearbox fluid service recommended Schedule Service\n",
            "Content: What this alert means: Your vehicle has detected a condition requiring gearbox fluid inspection. What to do: It is recommended that you schedule service. Your vehicle is OK to drive with this alert present. However, continuing to drive over an extended period of time with this alert present may result in permanent gearbox / powertrain damage.\n",
            "Semantic score: 0.2695990800857544\n",
            "Page: 257 - 258\n",
            "\n",
            "\n",
            "Document: MODEL S 2021 + OWNER'S MANUAL\n",
            "Subject: Voice Commands\n",
            "Section: Contacts\n",
            "Content: To call or text a contact on your Bluetooth-connected phone (see Phone, Calendar, and Web Conferencing on page 60), say:\n",
            "• \"Call [contact name/phone number]\"\n",
            "• \"Text [contact name/phone number]\"\n",
            "Semantic score: 0.2617465555667877\n",
            "Page: 21\n",
            "\n",
            "\n",
            "Document: MODEL S 2021 + OWNER'S MANUAL\n",
            "Subject: Troubleshooting Alerts\n",
            "Section: BMS_a067 High voltage battery performance limited OK to drive - Schedule service soon\n",
            "Content: What this alert means: Your vehicle has detected a condition internal to the high voltage battery that is limiting the battery’s performance. Service is required to restore full performance. Your vehicle's maximum range may be reduced, and your vehicle may take longer to charge than before. Maximum charge rate varies, as always, based on location, power source, and charging equipment. What to do: Your vehicle is OK to drive. It is recommended that you schedule service at your earliest convenience. Without service, your vehicle may continue to show further reductions in maximum range and charging performance and may also begin to show reduced power and acceleration when driving. While this alert remains present, keep your vehicle charged to 30% capacity or higher to avoid any discrepancy between the estimated range displayed on your vehicle's touchscreen and the actual high voltage battery charge level. For more information on the high voltage battery, see High Voltage Battery Information on page 170.\n",
            "Semantic score: 0.25088974833488464\n",
            "Page: 231\n",
            "\n",
            "\n",
            "Document: MODEL S 2021 + OWNER'S MANUAL\n",
            "Subject: Bluetooth\n",
            "Section: Pairing a Bluetooth Device - part 2\n",
            "Content: For example, you can designate a connected phone as the Priority Device. This is useful in situations where you have connected more than one phone, and both phones are frequently used in Model S at the same time. Model S automatically attempts to connect to the priority device before others. If a priority device is not specified, or is not within range, Model S connects to the most recently used phone (if applicable). NOTE: Model S can only support up to two Bluetooth devices at a time (such as two controllers, or one phone and one controller).\n",
            "Semantic score: 0.24139246344566345\n",
            "Page: 59\n",
            "\n",
            "\n"
          ]
        }
      ],
      "source": [
        "question = \"what does BMS_a068 mean?\"\n",
        "find_top_matches(question)"
      ]
    },
    {
      "cell_type": "code",
      "execution_count": 7,
      "metadata": {},
      "outputs": [
        {
          "name": "stdout",
          "output_type": "stream",
          "text": [
            "Document: MODEL S 2021 + OWNER'S MANUAL\n",
            "Subject: Full Self-Driving (Beta)\n",
            "Section: Limitations - part 3\n",
            "Content: As Tesla’s Full Self-Driving (Beta) capabilities evolve, Model S is upgraded through over-the-air software updates. Download updates as soon as they become available. Like other Autopilot features, Full Self-Driving (Beta) requires a fully attentive driver and will display a series of escalating warnings requiring driver response. You must keep your hands on the steering yoke (or steering wheel) while Full Self-Driving (Beta) is engaged. In addition, the cabin camera monitors driver attentiveness (see Cabin Camera on page 20). Use Full Self-Driving (Beta) in limited Beta only if you will pay constant attention to the road and be prepared to act immediately, especially around blind corners, crossing intersections, and in narrow driving situations. For more information, see Limitations and Warnings on page 125.\n",
            "CAUTION: As Full Self-Driving (Beta) deployment expands, Tesla will gradually make it available to eligible customers in select countries outside of the United States and Canada. Because every country contains unique infrastructure, driving behaviors, and traffic patterns that Full Self-Driving (Beta) must adapt to over time, it is essential for drivers using Full Self-Driving (Beta) in newly eligible countries to be extra attentive and overly cautious. You must be ready to take over safely at any time. WARNING: Full Self-Driving (Beta) is a hands-on feature that requires you to pay attention to the road at all times. Keep your hands on the steering yoke (or steering wheel) at all times, be mindful of road conditions and surrounding traffic, pay attention to pedestrians and cyclists, and always be prepared to take immediate action. Failure to follow these instructions could cause damage, serious injury or death. It is your responsibility to familiarize yourself with the limitations of Full Self-Driving (Beta) and the situations in which it may not work as expected.\n",
            "Semantic score: 0.6422442197799683\n",
            "Page: 115 - 117\n",
            "\n",
            "\n",
            "Document: MODEL S 2021 + OWNER'S MANUAL\n",
            "Subject: Limitations and Warnings\n",
            "Section: Autosteer on City Streets (Full Self- Driving (Beta)) - part 2\n",
            "Content: In fact, Model S can suddenly swerve even when driving conditions appear normal and straight-forward. Stay alert and always pay attention to the roadway so you can anticipate the need to take corrective action as early as possible. Remember that this is an early access feature that must be used with extra caution. CAUTION: As Full Self-Driving (Beta) deployment expands, Tesla will gradually make it available to eligible customers in select countries outside the United States. Because every country contains unique infrastructure, driving behaviors, and traffic patterns that Full Self-Driving (Beta) must adapt to over time, it is essential for drivers using Full Self-Driving (Beta) in newly eligible countries to be extra attentive and overly cautious. You must be ready to take over safely at any time.\n",
            "Semantic score: 0.6375603675842285\n",
            "Page: 129 - 130\n",
            "\n",
            "\n",
            "Document: MODEL S 2021 + OWNER'S MANUAL\n",
            "Subject: Smart Summon\n",
            "Section: Before Using Smart Summon\n",
            "Content: • Download the latest version of the Tesla mobile app to your phone, and ensure your phone has cellular service and GPS enabled.\n",
            "• Your phone must be connected to Model S and located within approximately 213 ft. (65 meters).\n",
            "• The vehicle's cameras must be fully calibrated (see Drive to Calibrate Cameras on page 20).\n",
            "• You must have a clear line of sight to Model S.\n",
            "• Model S must be in Park, not charging, and all doors and trunks must be closed.\n",
            "CAUTION: Ensure all cameras and sensors (if equipped) are clean. Dirty cameras and sensors, as well as environmental conditions such as rain and faded lane markings, can affect Autopilot performance.\n",
            "Semantic score: 0.4526767134666443\n",
            "Page: 125\n",
            "\n",
            "\n",
            "Document: MODEL S 2021 + OWNER'S MANUAL\n",
            "Subject: Full Self-Driving (Beta)\n",
            "Section: Limitations - part 2\n",
            "Content: NOTE: Depending on market region, vehicle configuration, options purchased, and software version, your vehicle may not be equipped with Full Self Driving (Beta) (also referred to as Autosteer on City Streets), or the feature may not operate exactly as described. When Full Self-Driving (Beta) (also referred to as Autosteer on City Streets) is engaged, Model S attempts to drive to your destination by following curves in the road, stopping at and negotiating intersections, making left and right turns, navigating roundabouts, and entering/exiting highways. Unlike Traffic-Aware Cruise Control, Autosteer, and Navigate on Autopilot, which are intended for use on multi-lane roadways with clear lane markings, Full Self-Driving (Beta) is meant to work in a variety of driving scenarios. You can use Full Self-Driving (Beta) on any type of roadway, including residential and city streets. Always remember that Full Self-Driving (Beta) does not make Model S autonomous and requires a fully attentive driver who is ready to take immediate action at all times. While Full Self-Driving (Beta) is engaged, you must monitor your surroundings and other road users at all times. Driver intervention may be required in certain situations, such as on narrow roads with oncoming cars, in construction zones, or while going through complex intersections. For more examples of scenarios in which driver intervention might be required, see Limitations and Warnings on page 125. Full Self-Driving (Beta) uses inputs from cameras mounted at the front, rear, left, and right of Model S to build a model of the area surrounding Model S (see Cameras on page 20). The Full Self-Driving computer installed in Model S is designed to use this input, rapidly process neural networks, and make decisions to safely guide you to your destination. NOTE: Full Self-Driving (Beta) is a beta feature.\n",
            "Semantic score: 0.4498223662376404\n",
            "Page: 115 - 117\n",
            "\n",
            "\n",
            "Document: MODEL S 2021 + OWNER'S MANUAL\n",
            "Subject: Full Self-Driving (Beta)\n",
            "Section: To Use Full Self-Driving (Beta) - part 2\n",
            "Content: NOTE: The Full Self-Driving (Beta) visualization may not be a holistic representation of the objects, road markings, road signals, and other variables that Full Self-Driving (Beta) takes into account as it attempts to drive to your destination. While Full Self-Driving (Beta) is engaged, it uses data from the cameras on Model S that may not be represented in the visualization (see Cameras on page 20). The visualization will also inform you of the system’s intended action by displaying a message on the instrument cluster, such as when the vehicle is slowly creeping for visibility to take a turn at an intersection. You can widen the visualization area to fullscreen. Enable the setting by touching Controls > Autopilot > Full Self-Driving (Beta) > Expanded Full Self-Driving Visualization. NOTE: You can override Full-Self Driving (Beta) at any time if you are uncomfortable or uncertain about the system’s intended course of action. You are driving Model S at all times.\n",
            "Semantic score: 0.44788897037506104\n",
            "Page: 118\n",
            "\n",
            "\n"
          ]
        }
      ],
      "source": [
        "question = \"Under what circumstances that I should not use full self-driving on my Tesla?\"\n",
        "find_top_matches(question)"
      ]
    },
    {
      "cell_type": "code",
      "execution_count": 8,
      "metadata": {},
      "outputs": [
        {
          "name": "stdout",
          "output_type": "stream",
          "text": [
            "Document: MODEL S 2021 + OWNER'S MANUAL\n",
            "Subject: Touchscreen\n",
            "Section: Restarting the Touchscreen\n",
            "Content: You can restart your touchscreen if it is unresponsive or demonstrates unusual behavior.\n",
            "NOTE: To ensure the safety of occupants as well as other road users, restart the touchscreen only when the vehicle is in Park.\n",
            "1. Shift into Park.\n",
            "2. Hold down both scroll buttons on the steering yoke (or steering wheel) until the touchscreen turns black. Pressing the brake pedal while holding down the scroll buttons does not have any impact and is not required.\n",
            "3. After a few seconds, the Tesla logo appears. Wait approximately 30 seconds for the touchscreen to restart. If the touchscreen is still unresponsive or demonstrating unusual behavior after a few minutes, try power cycling the vehicle (if possible). See Power Cycling the Vehicle on page 65.\n",
            "NOTE: Restarting the touchscreen also activates the drive mode selector on the center console.\n",
            "NOTE: Pressing the scroll buttons only restarts the touchscreen. It does not restart any other vehicle component and does not power Model S off and on.\n",
            "Semantic score: 0.7483171224594116\n",
            "Page: 10\n",
            "\n",
            "\n",
            "Document: MODEL S 2021 + OWNER'S MANUAL\n",
            "Subject: Troubleshooting Alerts\n",
            "Section: UI_a137 Active service connection to vehicle Service performing remote diagnostics\n",
            "Content: What this alert means: A service technician is remotely logged into your vehicle for diagnosis or repair. You may notice some loss of Infotainment functionality while the connection persists, but this alert does not indicate an issue with your vehicle. Your vehicle is OK to drive. What to do: This alert should clear automatically after the technician completes vehicle diagnosis or repair. You may find it necessary to restart your touchscreen to restore full Infotainment functionality after the alert has cleared. For more information, see Restarting the Touchscreen in your vehicle's Do It Yourself Guide. If this alert does not clear after 24 hours, it is recommended that you schedule service via your Tesla Mobile App or with an independent service provider. Please note that independent service provider options may vary, based on your vehicle configuration and your location.\n",
            "Semantic score: 0.6155093908309937\n",
            "Page: 265 - 266\n",
            "\n",
            "\n",
            "Document: MODEL S 2021 + OWNER'S MANUAL\n",
            "Subject: Smart Garage\n",
            "Section: Troubleshooting HomeLink Standard Mode\n",
            "Content: In Standard Mode, Model S records the RF signal from your HomeLink device's remote control. The touchscreen instructs you to stand in front of the vehicle, point the device's remote control at the front bumper, and press and hold the button until the headlights flash. When the headlights flash, Model S has learned the remote control and you can touch Continue on the touchscreen. If the headlights do not flash:\n",
            "• Check the batteries in the remote control. It is a good idea to replace the batteries before you start programming.\n",
            "• Ensure you are standing in front of Model S with the device's remote control positioned within two inches (five cm) of the Tesla emblem.\n",
            "• Press and hold the button on your device's remote control until the headlights flash. In some cases you must hold the button on the remote control for up to three minutes.\n",
            "NOTE: Some HomeLink remote controls require multiple short presses (approximately one second each press) instead of one long duration press. If you are unsuccessful after multiple attempts of using long presses, try repeated presses of one second each.\n",
            "Semantic score: 0.5920019149780273\n",
            "Page: 65 - 66\n",
            "\n",
            "\n",
            "Document: MODEL S 2021 + OWNER'S MANUAL\n",
            "Subject: Charging Instructions\n",
            "Section: Opening the Charge Port - part 1\n",
            "Content: The charge port is located on the left side of Model S, behind a door that is part of the rear tail light assembly. Park Model S to ensure that the charge cable easily reaches the charge port. With Model S in Park, press and release the button on the Tesla charge cable to open the charge port door. NOTE: If the charge cable is close to the charge port door, you can press the button on the charge cable to open the charge port door even when Model S is locked or a recognized key is not within range. You can also open the charge port door using any of these methods:\n",
            "• On the touchscreen, touch Controls and touch the Charge Port icon (lightning bolt). • On the touchscreen, navigate to Controls > Charging > Open Charge Port. • Press the charge port door when Model S is unlocked. • On the key fob, hold down the rear trunk button for 1-2 seconds. • Use voice commands to open the charge port door (see Voice Commands on page 18). You can also use voice commands to close the charge port door, and begin or stop charging. NOTE: The following image is provided for demonstration purposes only. Depending on market region and date of manufacture, your charge port may be slightly different. NOTE: The charge port lights up white when you open the charge port door. If you do not insert a charge cable into the charge port within a few minutes after opening the charge port door, the charge port door closes. If this happens, use the touchscreen to open the charge port door again. NOTE: In extremely cold weather or icy conditions, it is possible that your charge port latch may freeze in place.\n",
            "Semantic score: 0.5212444067001343\n",
            "Page: 174\n",
            "\n",
            "\n",
            "Document: MODEL S 2021 + OWNER'S MANUAL\n",
            "Subject: Reporting Safety Defects\n",
            "Section: Contacting Tesla\n",
            "Content: For detailed information about your Model S, go to http://www.tesla.com and log on to your Tesla account or sign up to get an account. If you have any questions or concerns about your Model S, in the United States, Canada or Puerto Rico, call 1-877-79TESLA (1-877 ‑ 798-3752) and in Mexico, call 1-800-228-8145.\n",
            "NOTE: You can also use voice commands to provide feedback to Tesla. Say \"Report\", \"Feedback\", or \"Bug report\" followed by brief comments. Model S takes a snapshot of its systems, including your current location, vehicle diagnostic data, and screen captures of the touchscreen and instrument panel. Tesla periodically reviews these notes and uses them to continue improving Model S.\n",
            "Semantic score: 0.5179365277290344\n",
            "Page: 284\n",
            "\n",
            "\n"
          ]
        }
      ],
      "source": [
        "question = \"What should I do if the touchscreen is not responding on my Tesla?\"\n",
        "find_top_matches(question)"
      ]
    },
    {
      "cell_type": "code",
      "execution_count": 9,
      "metadata": {},
      "outputs": [
        {
          "name": "stdout",
          "output_type": "stream",
          "text": [
            "Document: MODEL S 2021 + OWNER'S MANUAL\n",
            "Subject: Keys\n",
            "Section: Key Card\n",
            "Content: Tesla provides you with two Model S key cards, designed to fit in your wallet. To use a key card to unlock or lock Model S, position the card as shown and tap it against the card reader located approximately one third the way up of the driver's side door pillar. When Model S detects the key card, the exterior lights flash, the mirrors unfold or fold (if Fold Mirrors is on), the horn sounds (if Lock Confirmation Sound is on), and the doors unlock or lock.\n",
            "NOTE: You may need to physically touch the wireless phone charger or driver's side door pillar with the key card, and you may need to hold it against the transmitter for one or two seconds.\n",
            "Once inside, power up Model S by pressing the brake pedal within two minutes of scanning the key card (see Starting and Powering Off on page 65). If you wait longer than two minutes, you must re-authenticate by placing the key card near the card reader located in the wireless phone charger on the center console. When your key card is detected, your two minute authentication period restarts.\n",
            "NOTE: If enabled, Walk-Away Door Lock (see Walk-Away Door Lock on page 27) operates only when you walk away using a phone key or passive key fob. When you walk away carrying your key card, Model S does not automatically unlock/lock.\n",
            "Semantic score: 0.6839988231658936\n",
            "Page: 25\n",
            "\n",
            "\n",
            "Document: MODEL S 2021 + OWNER'S MANUAL\n",
            "Subject: Doors\n",
            "Section: Replacing Key cards\n",
            "Content: If you lose a key card, you can purchase replacement ones on the Tesla Shop. When ready to pair, simply follow the steps in Adding and Removing Keys on page 25. Remember to remove your old key cards from Controls > Locks > Keys for security purposes. In the event you lose both keys cards, schedule a service appointment through the mobile app to replace and pair them.\n",
            "Semantic score: 0.6837567687034607\n",
            "Page: 28 - 29\n",
            "\n",
            "\n",
            "Document: MODEL S 2021 + OWNER'S MANUAL\n",
            "Subject: Keys\n",
            "Section: Types of Keys\n",
            "Content: Model S supports the following types of keys:\n",
            "• Phone key - You can set up your personal phone as a \"phone key\" that communicate with Model S using Bluetooth. A phone key supports automatic locking and unlocking.\n",
            "• Key card - Tesla provides two key cards that communicates with Model S using short range radio-frequency identification (RFID) signals. The key card is used to \"authenticate\" phone keys to work with Model S and to add or remove other keys. Unlike the phone key and key fobs, the key card does not support automatic locking and unlocking. In situations where your phone key has a dead battery, or is lost or stolen, use your key card to unlock, drive, and lock Model S.\n",
            "• Key fob - The key fob (if equipped) allows you to press buttons to open the front and rear trunks, and unlock, lock, and drive Model S. The key fob also supports automatic locking and unlocking, if available in your region (see Walk-Away Door Lock on page 27Passive Locking and Unlocking on page 24) and can be used as a backup to your phone key.\n",
            "Model S supports a total of 19 keys, which can include phone keys, key cards, and up to four key fobs.\n",
            "CAUTION: Remember to bring a key with you when you drive. Although you can drive Model S away from its key, you will be unable to power it back on after it powers off.\n",
            "Semantic score: 0.659783124923706\n",
            "Page: 24\n",
            "\n",
            "\n",
            "Document: MODEL S 2021 + OWNER'S MANUAL\n",
            "Subject: Keys\n",
            "Section: Phone Key - part 2\n",
            "Content: Keep in mind that your phone must have enough battery power to run Bluetooth and that many phones disable Bluetooth when the battery is low. 4. While inside or near the vehicle, open the Tesla mobile app and touch Set Up Phone Key on the main screen, or navigate to Security > Set Up Phone Key. Follow the prompts on the mobile app and vehicle touchscreen to set up your phone key. To view a list of keys that can currently access Model S, or to remove a phone key, touch Controls > Locks (see Managing Keys on page 25). Model S can connect to three phone keys simultaneously. Therefore, if more than three phone keys are detected and you want to authenticate or pair a different phone, move the other connected phone key(s) out of range or turn off its Bluetooth setting. Once a phone has been authenticated, it no longer requires an internet connection to be used as a phone key for Model S. However, to use the phone hands-free, access your phone's contacts, play media from it, etc., you must also pair it and connect it as a Bluetooth device (see Bluetooth on page 57). Some smartphones with NFC capability can be used to lock/unlock your vehicle, just like using a key card. Ensure the Tesla mobile app is correctly paired to your vehicle and enable the NFC function on your phone. Once enabled, simply hold the phone to the driver's side door pillar to lock or unlock the door. Refer to your smartphone's instructions for specific information on how to do this.\n",
            "Semantic score: 0.5966241955757141\n",
            "Page: 24 - 25\n",
            "\n",
            "\n",
            "Document: MODEL S 2021 + OWNER'S MANUAL\n",
            "Subject: Keys\n",
            "Section: Key Fob - part 1\n",
            "Content: NOTE: Depending on market region, vehicle configuration, or date of manufacture, your vehicle may not come with a key fob. Go to http://shop.tesla.com for more information. You can quickly familiarize yourself with the key fob by thinking of it as a miniature version of Model S, with the Tesla badge representing the front. The key has buttons that feel like softer areas on the surface. 1. Rear trunk - Double-click to open or close the rear trunk. Hold down for one to two seconds to open the charge port door. 2. Lock/Unlock All - Single-click to lock doors and trunks (all doors and trunks must be closed). Double-click to unlock doors and trunks. 3. Front trunk - Double-click to unlatch the front trunk. Once inside, power up Model S by pressing the brake pedal within two minutes of pressing the unlock button on the key fob (see #unique_104 on page ). If you wait longer than two minutes, you must press the unlock button again, or place the key fob near the card reader located in the lower half of the left wireless phone charger, facing downward, on the center console. When your key fob is detected, the two minute authentication period restarts. When approaching or leaving Model S carrying the key fob, you do not need to point the key fob at Model S as you press a button, but you must be within operating range. Radio equipment on a similar frequency can affect the key. If this happens, move the key at least one foot (30 cm) away from other electronic devices (phones, laptops, etc.). In the event that the key fob's battery is dead, you can still use it.\n",
            "Semantic score: 0.5936564803123474\n",
            "Page: 25 - 26\n",
            "\n",
            "\n"
          ]
        }
      ],
      "source": [
        "question = \"How can I use a key card to open my Tesla?\"\n",
        "find_top_matches(question)"
      ]
    },
    {
      "cell_type": "code",
      "execution_count": 10,
      "metadata": {},
      "outputs": [
        {
          "name": "stdout",
          "output_type": "stream",
          "text": [
            "Document: MODEL S 2021 + OWNER'S MANUAL\n",
            "Subject: Keys\n",
            "Section: Keeping Cameras Free of Obstructions\n",
            "Content: Ensure all cameras are clean and free of obstructions before each drive and before using Autopilot features (see Cleaning a Camera on page 192). Dirty cameras and sensors (if equipped), as well as environmental conditions such as rain and faded lane markings, can affect Autopilot performance. If a camera is obstructed or blinded, Model S displays a message on the instrument cluster and Autopilot features may not be available. For more information on specific alerts, see Troubleshooting Alerts on page 225. Condensation can form inside the camera enclosures, especially if you park your vehicle outside in cold or wet conditions. The instrument cluster may display an alert stating that a camera is blocked and that some or all Autopilot features may be temporarily restricted until the camera vision is clear. To proactively dry the condensation, precondition the cabin by setting it to a warm temperature, turning the windshield defroster on, and directing the front air vents toward the door pillars (see Mobile App on page 54).\n",
            "Semantic score: 0.4687391519546509\n",
            "Page: 22 - 24\n",
            "\n",
            "\n",
            "Document: MODEL S 2021 + OWNER'S MANUAL\n",
            "Subject: Autopilot Features\n",
            "Section: Autopilot Conditions - part 1\n",
            "Content: Ensure all cameras are clean and free of obstructions before each drive and before using Autopilot features (see Cleaning a Camera on page 192). Dirty cameras and sensors (if equipped), as well as environmental conditions such as rain and faded lane markings, can affect Autopilot performance. If a camera is obstructed or blinded, Model S displays a message on the instrument cluster and Autopilot features may not be available. For more information on specific alerts, see Troubleshooting Alerts on page 225. Before you can use Autopilot features, and after some Service visits, you must drive a short distance to calibrate cameras. For more information, see Drive to Calibrate Cameras on page 20. In addition, these features may not work as intended when:\n",
            "• The road has sharp curves or significant changes in elevation. • Road signs and signals are unclear, ambiguous, or poorly maintained. • Visibility is poor (due to heavy rain, snow, hail, etc. or poorly lit roadways at night)\n",
            "• You are driving in a tunnel or next to a highway divider that interferes with the view of the camera(s)\n",
            "• Bright light (such as from oncoming headlights or direct sunlight) interferes with the view of the camera(s). The list above does not represent an exhaustive list of situations that may interfere with proper operation of Autopilot features. For more information, see Limitations and Warnings on page 125.\n",
            "NOTE: Depending on market region, vehicle configuration, options purchased, and software version, your vehicle may not be equipped with the following features, or a feature may not operate exactly as described.\n",
            "Semantic score: 0.40868982672691345\n",
            "Page: 100 - 102\n",
            "\n",
            "\n",
            "Document: MODEL S 2021 + OWNER'S MANUAL\n",
            "Subject: Cold Weather Best Practices\n",
            "Section: Wipers\n",
            "Content: If you expect snow or ice to build up when parked, touch Controls > Service > Wiper Service Mode. This raises the wipers against the windshield so they can defrost when the windshield defrosts (see Wipers and Washers on page 77). You can also turn on wiper defrosters (if equipped). See Operating Climate Controls on page 146.\n",
            "Semantic score: 0.40423792600631714\n",
            "Page: 155 - 156\n",
            "\n",
            "\n",
            "Document: MODEL S 2021 + OWNER'S MANUAL\n",
            "Subject: Autopark\n",
            "Section: Canceling Full Self-Driving (Beta) - part 2\n",
            "Content: Dirty cameras and sensors, as well as environmental conditions such as rain and faded lane markings, can affect Autopilot performance. WARNING: Autopark's performance depends on the ability of the cameras and sensors (if equipped) to determine the vehicle's proximity to curbs, objects, and other vehicles. WARNING: Do not use Autopark if anything, such as a ball hitch, bike rack, or trailer, is attached to the tow hitch. Autopark may not stop for hitches when parking between or in front of other vehicles.\n",
            "Semantic score: 0.3896431624889374\n",
            "Page: 119 - 121\n",
            "\n",
            "\n",
            "Document: MODEL S 2021 + OWNER'S MANUAL\n",
            "Subject: Cold Weather Best Practices\n",
            "Section: Windows\n",
            "Content: In the mobile app, go to Climate and select Defrost Car, which helps melt snow, ice, and frost on the windshield, windows, and mirrors. In cold temperatures, Model S automatically makes a slight adjustment to the position of the windows to make it easier to open doors.\n",
            "NOTE: Always connect to an external, low voltage power supply before opening a door when the vehicle has no power to avoid breaking a window. Use the mobile app to schedule a service appointment for Tesla to provide hydrophobic coating to the side and rear windows (not the front windshield) for a nominal fee.\n",
            "Semantic score: 0.38459742069244385\n",
            "Page: 155\n",
            "\n",
            "\n"
          ]
        }
      ],
      "source": [
        "question = \"Should I use autopilot in raining or snowing conditions?\"\n",
        "find_top_matches(question)"
      ]
    }
  ],
  "metadata": {
    "kernelspec": {
      "display_name": "Python 3",
      "language": "python",
      "name": "python3"
    },
    "language_info": {
      "codemirror_mode": {
        "name": "ipython",
        "version": 3
      },
      "file_extension": ".py",
      "mimetype": "text/x-python",
      "name": "python",
      "nbconvert_exporter": "python",
      "pygments_lexer": "ipython3",
      "version": "3.11.8"
    }
  },
  "nbformat": 4,
  "nbformat_minor": 2
}
