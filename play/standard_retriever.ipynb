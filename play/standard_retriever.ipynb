{
  "cells": [
    {
      "cell_type": "markdown",
      "metadata": {},
      "source": [
        "Naive retrieval without reranking"
      ]
    },
    {
      "cell_type": "code",
      "execution_count": 1,
      "metadata": {},
      "outputs": [],
      "source": [
        "# simple hack to support import module from parent directory\n",
        "import sys\n",
        "sys.path.append('../')\n",
        "\n",
        "from rag_llama.core.retrievers import StandardRetriever"
      ]
    },
    {
      "cell_type": "code",
      "execution_count": 2,
      "metadata": {},
      "outputs": [
        {
          "name": "stdout",
          "output_type": "stream",
          "text": [
            "Loading sentence-transformers/all-MiniLM-L6-v2 model and tokenizer from HuggingFace...\n"
          ]
        }
      ],
      "source": [
        "standard_retriever = StandardRetriever(embed_file='../data/Tesla_manual_embeddings.pk')"
      ]
    },
    {
      "cell_type": "code",
      "execution_count": 3,
      "metadata": {},
      "outputs": [],
      "source": [
        "def find_top_matches(question: str, top_k=5):\n",
        "    top_matches = standard_retriever.retrieve(question, top_k)\n",
        "\n",
        "    for item in top_matches:\n",
        "        print(f'Document: {item[\"document_title\"]}')\n",
        "        print(f'Subject: {item[\"subject\"]}')\n",
        "        print(f'Section: {item[\"section\"]}')\n",
        "        print(f'Content: {item[\"content\"]}')\n",
        "        print(f'Semantic score: {item[\"semantic_score\"]}')\n",
        "        print(f'Page: {item[\"page\"]}')\n",
        "        print('\\n')"
      ]
    },
    {
      "cell_type": "code",
      "execution_count": 4,
      "metadata": {},
      "outputs": [
        {
          "name": "stdout",
          "output_type": "stream",
          "text": [
            "Document: MODEL S 2012–2020 OWNER'S MANUAL\n",
            "Subject: Troubleshooting Alerts\n",
            "Section: GTW_w018 Electrical system power reduced Non-essential features may be unavailable\n",
            "Content: What this alert means: Some non-essential features, like seat heaters or cabin heating / cooling, may be unavailable or may operate at a reduced level. This is expected behavior designed to help your vehicle maintain adequate electrical power for essential functions. What to do: This alert may be present due to various vehicle conditions. For more information and further recommended actions, check for other alerts specific to conditions affecting your vehicle’s electrical system.\n",
            "Semantic score: 0.3645473122596741\n",
            "Page: 246 - 247\n",
            "\n",
            "\n",
            "Document: MODEL S 2012–2020 OWNER'S MANUAL\n",
            "Subject: Troubleshooting Alerts\n",
            "Section: APP_w221 Cruise control unavailable Reduced front radar visibility\n",
            "Content: What this alert means: Traffic-Aware Cruise Control and Autosteer are unavailable because the radar located in the front bumper area of your vehicle has no or low visibility. This could be a temporary obstruction caused by factors like snow, ice, dirt, or mud. What to do: Continue to your destination. Your vehicle is OK to drive. Traffic-Aware Cruise Control and Autosteer will remain unavailable as long as the radar lacks adequate visibility. If the alert persists throughout your drive, examine the front bumper before your next planned drive and attempt to clear any obstruction. See Cleaning a Camera on page 182 for more information on clearing dirt or debris from that area of the vehicle. If this alert persists throughout subsequent drives but no obstruction is visible on the front bumper where the radar is located, schedule service at your earliest convenience. Your vehicle is OK to drive in the meantime.\n",
            "Semantic score: 0.35575070977211\n",
            "Page: 215 - 216\n",
            "\n",
            "\n",
            "Document: MODEL S 2012–2020 OWNER'S MANUAL\n",
            "Subject: Troubleshooting Alerts\n",
            "Section: GTW_w017 Electrical system power reduced Non-essential features may be unavailable\n",
            "Content: What this alert means: Some non-essential features, like seat heaters or cabin heating / cooling, may be unavailable or may operate at a reduced level. This is expected behavior designed to help your vehicle maintain adequate electrical power for essential functions. What to do: This alert may be present due to various vehicle conditions. For more information and further recommended actions, check for other alerts specific to conditions affecting your vehicle’s electrical system.\n",
            "Semantic score: 0.3487100601196289\n",
            "Page: 246\n",
            "\n",
            "\n",
            "Document: MODEL S 2012–2020 OWNER'S MANUAL\n",
            "Subject: Troubleshooting Alerts\n",
            "Section: APP_w304 Camera blocked or blinded Clean camera or wait for it to regain visibility - part 2\n",
            "Content: For more information on clearing condensation from camera enclosures, see Cleaning a Camera on page 182. If the alert does not clear by the end of your next planned drive, despite cleaning the indicated camera(s) and following recommended steps to clear condensation, schedule service at your next convenient opportunity. Your vehicle is OK to drive in the meantime.\n",
            "Semantic score: 0.341238796710968\n",
            "Page: 217 - 218\n",
            "\n",
            "\n",
            "Document: MODEL S 2012–2020 OWNER'S MANUAL\n",
            "Subject: Touchscreen\n",
            "Section: Customizing My Apps\n",
            "Content: For one-touch access to commonly used apps and controls, you can customize what displays in the My Apps area on the touchscreen's bottom bar:\n",
            "1. Enter customization mode by touching and holding any app or control in the My Apps area. If this area is empty, touch the App Launcher.\n",
            "2. Drag any app or control from the app tray onto the My Apps area in the bottom bar.\n",
            "NOTE: Seat heaters selected from the app tray appear next to the temperature, instead of in the My Apps area.\n",
            "NOTE: When you've added the maximum number of apps or controls to My Apps, adding an additional app removes the rightmost app.\n",
            "NOTE: Remove an app or control from the My Apps area by touching and holding, then touching its associated \"X\".\n",
            "Semantic score: 0.3289489150047302\n",
            "Page: 9\n",
            "\n",
            "\n"
          ]
        }
      ],
      "source": [
        "question = \"I see app_w222 on my dashboard what should I do?\"\n",
        "find_top_matches(question)"
      ]
    },
    {
      "cell_type": "code",
      "execution_count": 5,
      "metadata": {},
      "outputs": [
        {
          "name": "stdout",
          "output_type": "stream",
          "text": [
            "Document: MODEL S 2012–2020 OWNER'S MANUAL\n",
            "Subject: Troubleshooting Alerts\n",
            "Section: BMS_u018 Maximum battery charge level reduced OK to drive - Schedule service\n",
            "Content: What this alert means: Your vehicle has detected a condition internal to the high voltage battery that is limiting the battery’s performance. As a result, maximum charge level and range are reduced. Service is required to restore full performance. What to do: If this alert persists, schedule service soon. Without service, your vehicle's maximum charge level and range will remain limited. Your vehicle is OK to drive and charge. For more information on the high voltage battery, see High Voltage Battery Information on page 161.\n",
            "Semantic score: 0.35768112540245056\n",
            "Page: 218\n",
            "\n",
            "\n",
            "Document: MODEL S 2021 + OWNER'S MANUAL\n",
            "Subject: Troubleshooting Alerts\n",
            "Section: BMS_a066 Maximum charge level and range may be reduced OK to drive - Schedule service soon\n",
            "Content: What this alert means: Your vehicle has detected a condition internal to the high voltage battery that is limiting the battery’s performance. As a result, maximum charge level and range may be reduced. Service is required to restore full performance. What to do: Your vehicle is OK to drive. If this alert persists, schedule service at your earliest convenience. Without service, you may notice further reductions in your vehicle's maximum charge level and range. For more information on the high voltage battery, see High Voltage Battery Information on page 170.\n",
            "Semantic score: 0.32683658599853516\n",
            "Page: 230 - 231\n",
            "\n",
            "\n",
            "Document: MODEL S 2021 + OWNER'S MANUAL\n",
            "Subject: Troubleshooting Alerts\n",
            "Section: BMS_a069 Battery charge level low Charge now\n",
            "Content: What this alert means: Your vehicle has detected that the high voltage battery does not have enough energy remaining to support driving. This alert is usually present because your vehicle's high voltage battery charge level has been reduced through normal operation. Your vehicle will be unable to drive or continue driving until charged. If this alert is present while you are driving, your vehicle needs to shut down. A separate vehicle alert should be present to indicate this condition. It is also possible your vehicle may shut down unexpectedly. If this alert is present when your vehicle is parked, you may be unable to drive. What to do: Charge your vehicle immediately. Charging your vehicle should restore your vehicle's ability to drive. If this alert occurs during subsequent drives, despite a displayed battery charge level of 5% or higher, schedule service at your earliest convenience. For more information on the high voltage battery, see High Voltage Battery Information on page 170. For more information on charging, see Charging Instructions on page 172.\n",
            "Semantic score: 0.2855246365070343\n",
            "Page: 232\n",
            "\n",
            "\n",
            "Document: MODEL S 2012–2020 OWNER'S MANUAL\n",
            "Subject: Troubleshooting Alerts\n",
            "Section: BMS_u006 Vehicle shutting down - PULL OVER SAFELY Battery charge level too low\n",
            "Content: What this alert means: Your vehicle has detected that the high voltage battery does not have enough energy remaining to support driving. Your vehicle will be unable to drive or continue driving until charged. If this alert is present while you are driving, your vehicle needs to shut down. A separate vehicle alert should be present to indicate this condition. It is also possible your vehicle may shut down unexpectedly. If this alert is present when your vehicle is parked, you may be unable to drive. This alert is usually present because your vehicle's high voltage battery charge level has been reduced through normal operation. What to do: Charge your vehicle immediately. Charging your vehicle should restore your vehicle's ability to drive. If this alert occurs during subsequent drives, despite a displayed battery charge level of 5% or higher, schedule service at your earliest convenience. For more information on the high voltage battery, see High Voltage Battery Information on page 161. For more information on charging, see Charging Instructions on page 163.\n",
            "Semantic score: 0.28469204902648926\n",
            "Page: 218\n",
            "\n",
            "\n",
            "Document: MODEL S 2012–2020 OWNER'S MANUAL\n",
            "Subject: Troubleshooting Alerts\n",
            "Section: BMS_u032 Battery fuse replacement required OK to drive - Schedule service\n",
            "Content: What this alert means: A fuse in your vehicle’s high voltage battery is very near the end of its lifetime and requires replacement. What to do: It is recommended that you schedule service as soon as possible to have the high voltage battery fuse replaced. Your vehicle is OK to drive in the meantime. However, you may notice reduced speed and acceleration while driving. For more information on the high voltage battery system, see High Voltage Battery Information.\n",
            "Semantic score: 0.2842358648777008\n",
            "Page: 219 - 220\n",
            "\n",
            "\n"
          ]
        }
      ],
      "source": [
        "question = \"what does bms_a069 mean?\"\n",
        "find_top_matches(question)"
      ]
    },
    {
      "cell_type": "code",
      "execution_count": 6,
      "metadata": {},
      "outputs": [
        {
          "name": "stdout",
          "output_type": "stream",
          "text": [
            "Document: MODEL S 2012–2020 OWNER'S MANUAL\n",
            "Subject: Full Self-Driving (Beta)\n",
            "Section: Limitations - part 2\n",
            "Content: WARNING: As Full Self-Driving (Beta) deployment expands, Tesla will gradually make it available to eligible customers in select countries outside the United States. Because every country contains unique infrastructure, driving behaviors, and traffic patterns that Full Self-Driving (Beta) must adapt to over time, it is essential for drivers using Full Self-Driving (Beta) in newly eligible countries to be extra attentive and overly cautious. You must be ready to take over safely at any time. Full Self-Driving (Beta) is an early access feature and must be used with additional caution. When Full Self-Driving (Beta) is actively engaged, Model S attempts to navigate to your destination, by following road curves, adjusting speed for traffic, stopping at and negotiating intersections, making turns, selecting forks, and entering/exiting highways. WARNING: Full Self-Driving (Beta) does not make Model S autonomous and may not perform as expected at all times – do not become complacent. It requires a fully attentive driver who is ready to take immediate action at all times. Full Self-Driving (Beta) does not replace the driver’s responsibility to operate Model S. WARNING: Failure to follow all warnings and instructions can result in property damage, serious injury or death.\n",
            "Semantic score: 0.6460884213447571\n",
            "Page: 115 - 117\n",
            "\n",
            "\n",
            "Document: MODEL S 2021 + OWNER'S MANUAL\n",
            "Subject: Limitations and Warnings\n",
            "Section: Autosteer on City Streets (Full Self- Driving (Beta)) - part 2\n",
            "Content: In fact, Model S can suddenly swerve even when driving conditions appear normal and straight-forward. Stay alert and always pay attention to the roadway so you can anticipate the need to take corrective action as early as possible. Remember that this is an early access feature that must be used with extra caution. CAUTION: As Full Self-Driving (Beta) deployment expands, Tesla will gradually make it available to eligible customers in select countries outside the United States. Because every country contains unique infrastructure, driving behaviors, and traffic patterns that Full Self-Driving (Beta) must adapt to over time, it is essential for drivers using Full Self-Driving (Beta) in newly eligible countries to be extra attentive and overly cautious. You must be ready to take over safely at any time.\n",
            "Semantic score: 0.628648579120636\n",
            "Page: 129 - 130\n",
            "\n",
            "\n",
            "Document: MODEL S 2021 + OWNER'S MANUAL\n",
            "Subject: Full Self-Driving (Beta)\n",
            "Section: Limitations - part 3\n",
            "Content: As Tesla’s Full Self-Driving (Beta) capabilities evolve, Model S is upgraded through over-the-air software updates. Download updates as soon as they become available. Like other Autopilot features, Full Self-Driving (Beta) requires a fully attentive driver and will display a series of escalating warnings requiring driver response. You must keep your hands on the steering yoke (or steering wheel) while Full Self-Driving (Beta) is engaged. In addition, the cabin camera monitors driver attentiveness (see Cabin Camera on page 20). Use Full Self-Driving (Beta) in limited Beta only if you will pay constant attention to the road and be prepared to act immediately, especially around blind corners, crossing intersections, and in narrow driving situations. For more information, see Limitations and Warnings on page 125.\n",
            "CAUTION: As Full Self-Driving (Beta) deployment expands, Tesla will gradually make it available to eligible customers in select countries outside of the United States and Canada. Because every country contains unique infrastructure, driving behaviors, and traffic patterns that Full Self-Driving (Beta) must adapt to over time, it is essential for drivers using Full Self-Driving (Beta) in newly eligible countries to be extra attentive and overly cautious. You must be ready to take over safely at any time. WARNING: Full Self-Driving (Beta) is a hands-on feature that requires you to pay attention to the road at all times. Keep your hands on the steering yoke (or steering wheel) at all times, be mindful of road conditions and surrounding traffic, pay attention to pedestrians and cyclists, and always be prepared to take immediate action. Failure to follow these instructions could cause damage, serious injury or death. It is your responsibility to familiarize yourself with the limitations of Full Self-Driving (Beta) and the situations in which it may not work as expected.\n",
            "Semantic score: 0.6243195533752441\n",
            "Page: 115 - 117\n",
            "\n",
            "\n",
            "Document: MODEL S 2012–2020 OWNER'S MANUAL\n",
            "Subject: Full Self-Driving (Beta)\n",
            "Section: Tips\n",
            "Content: • Fullscreen visualization: You can widen the visualization area to fullscreen. First enable the setting by touching Controls > Autopilot > Full Self-Driving > Expanded Full Self-Driving Visualization.\n",
            "• Feedback: If you experience incorrect or unexpected behavior, touch the snapshot icon (if equipped) at the top of the touchscreen to send data to Tesla for analysis. Tesla uses this data to improve the intelligence of Full Self-Driving (Beta).\n",
            "• Maintain software updates and cameras: Always remember that Full Self-Driving (Beta) does not make Model S autonomous. Full autonomy is dependent on achieving reliability far in excess of human drivers as demonstrated by billions of miles of experience, as well as regulatory approval. As Tesla’s Full Self-Driving capabilities evolve, Model S is continuously upgraded through over-the-air software updates. Download updates as soon as they become available. To ensure an optimum experience, keep all cameras clean and unobstructed.\n",
            "Semantic score: 0.5803594589233398\n",
            "Page: 118\n",
            "\n",
            "\n",
            "Document: MODEL S 2012–2020 OWNER'S MANUAL\n",
            "Subject: Full Self-Driving (Beta)\n",
            "Section: How to Use Full Self-Driving (Beta) - part 2\n",
            "Content: 4. Safe disengage: To disengage Full Self-Driving (Beta) safely, be aware of your surroundings and push the Autopilot stalk away from you once, press the brake pedal, or take over and steer manually. When arriving at a chosen destination, Full Self-Driving (Beta) stops Model S and displays a message indicating that navigation is complete. NOTE: Full Self-Driving (Beta) uses Tesla's vision-based system and therefore radar (if equipped) is disabled.\n",
            "Semantic score: 0.5408251881599426\n",
            "Page: 117 - 118\n",
            "\n",
            "\n"
          ]
        }
      ],
      "source": [
        "question = \"Under what circumstances that I should not use full self-driving on my Tesla?\"\n",
        "find_top_matches(question)"
      ]
    },
    {
      "cell_type": "code",
      "execution_count": 7,
      "metadata": {},
      "outputs": [
        {
          "name": "stdout",
          "output_type": "stream",
          "text": [
            "Document: MODEL S 2012–2020 OWNER'S MANUAL\n",
            "Subject: Touchscreen\n",
            "Section: Restarting the Touchscreen or Instrument Panel\n",
            "Content: You can restart your touchscreen if it is unresponsive or demonstrates unusual behavior.\n",
            "NOTE: To ensure the safety of occupants as well as other road users, restart the touchscreen only when the vehicle is in Park.\n",
            "1. Shift into Park.\n",
            "2. Hold down both scroll buttons on the steering wheel until the touchscreen turns black. Pressing the brake pedal while holding down the scroll buttons does not have any impact and is not required.\n",
            "3. After a few seconds, the Tesla logo appears. Wait approximately 30 seconds for the touchscreen to restart. If the touchscreen is still unresponsive or demonstrating unusual behavior after a few minutes, try power cycling the vehicle (if possible). See Power Cycling the Vehicle on page 62.\n",
            "To reset the instrument panel, shift into Park and press the top two buttons on the steering wheel ( Voice Commands and Next) for 15-30 seconds, or until the screen turns black. A few seconds later, a Tesla logo appears. Wait approximately 30 seconds for the instrument panel to restart.\n",
            "NOTE: Pressing the scroll buttons only restarts the touchscreen. It does not restart any other vehicle component and does not power Model S off and on.\n",
            "Semantic score: 0.7345660924911499\n",
            "Page: 10\n",
            "\n",
            "\n",
            "Document: MODEL S 2021 + OWNER'S MANUAL\n",
            "Subject: Touchscreen\n",
            "Section: Restarting the Touchscreen\n",
            "Content: You can restart your touchscreen if it is unresponsive or demonstrates unusual behavior.\n",
            "NOTE: To ensure the safety of occupants as well as other road users, restart the touchscreen only when the vehicle is in Park.\n",
            "1. Shift into Park.\n",
            "2. Hold down both scroll buttons on the steering yoke (or steering wheel) until the touchscreen turns black. Pressing the brake pedal while holding down the scroll buttons does not have any impact and is not required.\n",
            "3. After a few seconds, the Tesla logo appears. Wait approximately 30 seconds for the touchscreen to restart. If the touchscreen is still unresponsive or demonstrating unusual behavior after a few minutes, try power cycling the vehicle (if possible). See Power Cycling the Vehicle on page 65.\n",
            "NOTE: Restarting the touchscreen also activates the drive mode selector on the center console.\n",
            "NOTE: Pressing the scroll buttons only restarts the touchscreen. It does not restart any other vehicle component and does not power Model S off and on.\n",
            "Semantic score: 0.7322295308113098\n",
            "Page: 10\n",
            "\n",
            "\n",
            "Document: MODEL S 2012–2020 OWNER'S MANUAL\n",
            "Subject: Smart Garage\n",
            "Section: Troubleshooting HomeLink Standard Mode\n",
            "Content: In Standard Mode, Model S records the RF signal from your HomeLink device's remote control. The touchscreen instructs you to stand in front of the vehicle, point the device's remote control at the front bumper, and press and hold the button until the headlights flash. When the headlights flash, Model S has learned the remote control and you can touch Continue on the touchscreen. If the headlights do not flash:\n",
            "• Check the batteries in the remote control. It is a good idea to replace the batteries before you start programming.\n",
            "• Ensure you are standing in front of Model S with the device's remote control positioned within two inches (five cm) of the Tesla emblem.\n",
            "• Press and hold the button on your device's remote control until the headlights flash. In some cases you must hold the button on the remote control for up to three minutes.\n",
            "NOTE: Some HomeLink remote controls require multiple short presses (approximately one second each press) instead of one long duration press. If you are unsuccessful after multiple attempts of using long presses, try repeated presses of one second each.\n",
            "Semantic score: 0.5879279375076294\n",
            "Page: 62\n",
            "\n",
            "\n",
            "Document: MODEL S 2012–2020 OWNER'S MANUAL\n",
            "Subject: Troubleshooting Alerts\n",
            "Section: MCU_u019 Active service connection to vehicle Service performing remote diagnostics\n",
            "Content: What this alert means: A service technician is remotely logged into your vehicle for diagnosis or repair. You may notice some loss of Infotainment functionality while the connection persists, but this alert does not indicate an issue with your vehicle. Your vehicle is OK to drive. What to do: This alert should clear automatically after the technician completes vehicle diagnosis or repair. You may find it necessary to restart your touchscreen to restore full Infotainment functionality after the alert has cleared.For more information, see Restarting the Touchscreen in your vehicle's Do It Yourself Guide. If this alert does not clear after 24 hours, it is recommended that you schedule service via your Tesla Mobile App or with an independent service provider. Please note that independent service provider options may vary, based on your vehicle configuration and your location.\n",
            "Semantic score: 0.5868995189666748\n",
            "Page: 248 - 249\n",
            "\n",
            "\n",
            "Document: MODEL S 2021 + OWNER'S MANUAL\n",
            "Subject: Smart Garage\n",
            "Section: Troubleshooting HomeLink Standard Mode\n",
            "Content: In Standard Mode, Model S records the RF signal from your HomeLink device's remote control. The touchscreen instructs you to stand in front of the vehicle, point the device's remote control at the front bumper, and press and hold the button until the headlights flash. When the headlights flash, Model S has learned the remote control and you can touch Continue on the touchscreen. If the headlights do not flash:\n",
            "• Check the batteries in the remote control. It is a good idea to replace the batteries before you start programming.\n",
            "• Ensure you are standing in front of Model S with the device's remote control positioned within two inches (five cm) of the Tesla emblem.\n",
            "• Press and hold the button on your device's remote control until the headlights flash. In some cases you must hold the button on the remote control for up to three minutes.\n",
            "NOTE: Some HomeLink remote controls require multiple short presses (approximately one second each press) instead of one long duration press. If you are unsuccessful after multiple attempts of using long presses, try repeated presses of one second each.\n",
            "Semantic score: 0.5818955302238464\n",
            "Page: 65 - 66\n",
            "\n",
            "\n"
          ]
        }
      ],
      "source": [
        "question = \"What should I do if the touchscreen is not responding on my Tesla?\"\n",
        "find_top_matches(question)"
      ]
    },
    {
      "cell_type": "code",
      "execution_count": 8,
      "metadata": {},
      "outputs": [
        {
          "name": "stdout",
          "output_type": "stream",
          "text": [
            "Document: MODEL S 2021 + OWNER'S MANUAL\n",
            "Subject: Doors\n",
            "Section: Replacing Key cards\n",
            "Content: If you lose a key card, you can purchase replacement ones on the Tesla Shop. When ready to pair, simply follow the steps in Adding and Removing Keys on page 25. Remember to remove your old key cards from Controls > Locks > Keys for security purposes. In the event you lose both keys cards, schedule a service appointment through the mobile app to replace and pair them.\n",
            "Semantic score: 0.6902225613594055\n",
            "Page: 28 - 29\n",
            "\n",
            "\n",
            "Document: MODEL S 2021 + OWNER'S MANUAL\n",
            "Subject: Keys\n",
            "Section: Key Card\n",
            "Content: Tesla provides you with two Model S key cards, designed to fit in your wallet. To use a key card to unlock or lock Model S, position the card as shown and tap it against the card reader located approximately one third the way up of the driver's side door pillar. When Model S detects the key card, the exterior lights flash, the mirrors unfold or fold (if Fold Mirrors is on), the horn sounds (if Lock Confirmation Sound is on), and the doors unlock or lock.\n",
            "NOTE: You may need to physically touch the wireless phone charger or driver's side door pillar with the key card, and you may need to hold it against the transmitter for one or two seconds.\n",
            "Once inside, power up Model S by pressing the brake pedal within two minutes of scanning the key card (see Starting and Powering Off on page 65). If you wait longer than two minutes, you must re-authenticate by placing the key card near the card reader located in the wireless phone charger on the center console. When your key card is detected, your two minute authentication period restarts.\n",
            "NOTE: If enabled, Walk-Away Door Lock (see Walk-Away Door Lock on page 27) operates only when you walk away using a phone key or passive key fob. When you walk away carrying your key card, Model S does not automatically unlock/lock.\n",
            "Semantic score: 0.6901069283485413\n",
            "Page: 25\n",
            "\n",
            "\n",
            "Document: MODEL S 2021 + OWNER'S MANUAL\n",
            "Subject: Keys\n",
            "Section: Types of Keys\n",
            "Content: Model S supports the following types of keys:\n",
            "• Phone key - You can set up your personal phone as a \"phone key\" that communicate with Model S using Bluetooth. A phone key supports automatic locking and unlocking.\n",
            "• Key card - Tesla provides two key cards that communicates with Model S using short range radio-frequency identification (RFID) signals. The key card is used to \"authenticate\" phone keys to work with Model S and to add or remove other keys. Unlike the phone key and key fobs, the key card does not support automatic locking and unlocking. In situations where your phone key has a dead battery, or is lost or stolen, use your key card to unlock, drive, and lock Model S.\n",
            "• Key fob - The key fob (if equipped) allows you to press buttons to open the front and rear trunks, and unlock, lock, and drive Model S. The key fob also supports automatic locking and unlocking, if available in your region (see Walk-Away Door Lock on page 27Passive Locking and Unlocking on page 24) and can be used as a backup to your phone key.\n",
            "Model S supports a total of 19 keys, which can include phone keys, key cards, and up to four key fobs.\n",
            "CAUTION: Remember to bring a key with you when you drive. Although you can drive Model S away from its key, you will be unable to power it back on after it powers off.\n",
            "Semantic score: 0.6842570900917053\n",
            "Page: 24\n",
            "\n",
            "\n",
            "Document: MODEL S 2021 + OWNER'S MANUAL\n",
            "Subject: Keys\n",
            "Section: Phone Key - part 2\n",
            "Content: Keep in mind that your phone must have enough battery power to run Bluetooth and that many phones disable Bluetooth when the battery is low. 4. While inside or near the vehicle, open the Tesla mobile app and touch Set Up Phone Key on the main screen, or navigate to Security > Set Up Phone Key. Follow the prompts on the mobile app and vehicle touchscreen to set up your phone key. To view a list of keys that can currently access Model S, or to remove a phone key, touch Controls > Locks (see Managing Keys on page 25). Model S can connect to three phone keys simultaneously. Therefore, if more than three phone keys are detected and you want to authenticate or pair a different phone, move the other connected phone key(s) out of range or turn off its Bluetooth setting. Once a phone has been authenticated, it no longer requires an internet connection to be used as a phone key for Model S. However, to use the phone hands-free, access your phone's contacts, play media from it, etc., you must also pair it and connect it as a Bluetooth device (see Bluetooth on page 57). Some smartphones with NFC capability can be used to lock/unlock your vehicle, just like using a key card. Ensure the Tesla mobile app is correctly paired to your vehicle and enable the NFC function on your phone. Once enabled, simply hold the phone to the driver's side door pillar to lock or unlock the door. Refer to your smartphone's instructions for specific information on how to do this.\n",
            "Semantic score: 0.5990892052650452\n",
            "Page: 24 - 25\n",
            "\n",
            "\n",
            "Document: MODEL S 2021 + OWNER'S MANUAL\n",
            "Subject: Safety & Security Settings\n",
            "Section: Glovebox PIN\n",
            "Content: Protect the contents in your glovebox with a 4-digit PIN (not related to PIN to Drive). To enable, touch Controls > Safety > Glovebox PIN and follow the directions on the touchscreen. When enabled, you are prompted to enter the PIN to open the glovebox. Select the toggle to disable and then enter the PIN to remove this added security protection. If you forget your glovebox PIN, reset it by entering your Tesla login credentials, then follow the directions on the touchscreen.\n",
            "NOTE: Using a Glovebox PIN allows the glovebox to be opened even when Model S is in Valet mode.\n",
            "Semantic score: 0.5941344499588013\n",
            "Page: 141 - 142\n",
            "\n",
            "\n"
          ]
        }
      ],
      "source": [
        "question = \"How can I use a key card to open my Tesla?\"\n",
        "find_top_matches(question)"
      ]
    },
    {
      "cell_type": "code",
      "execution_count": 9,
      "metadata": {},
      "outputs": [
        {
          "name": "stdout",
          "output_type": "stream",
          "text": [
            "Document: MODEL S 2021 + OWNER'S MANUAL\n",
            "Subject: Keys\n",
            "Section: Keeping Cameras Free of Obstructions\n",
            "Content: Ensure all cameras are clean and free of obstructions before each drive and before using Autopilot features (see Cleaning a Camera on page 192). Dirty cameras and sensors (if equipped), as well as environmental conditions such as rain and faded lane markings, can affect Autopilot performance. If a camera is obstructed or blinded, Model S displays a message on the instrument cluster and Autopilot features may not be available. For more information on specific alerts, see Troubleshooting Alerts on page 225. Condensation can form inside the camera enclosures, especially if you park your vehicle outside in cold or wet conditions. The instrument cluster may display an alert stating that a camera is blocked and that some or all Autopilot features may be temporarily restricted until the camera vision is clear. To proactively dry the condensation, precondition the cabin by setting it to a warm temperature, turning the windshield defroster on, and directing the front air vents toward the door pillars (see Mobile App on page 54).\n",
            "Semantic score: 0.4698280692100525\n",
            "Page: 22 - 24\n",
            "\n",
            "\n",
            "Document: MODEL S 2012–2020 OWNER'S MANUAL\n",
            "Subject: Keys and Doors\n",
            "Section: Keeping Cameras Free of Obstructions\n",
            "Content: Ensure all cameras are clean and free of obstructions before each drive and before using Autopilot features (see Cleaning a Camera on page 182). Dirty cameras and sensors (if equipped), as well as environmental conditions such as rain and faded lane markings, can affect Autopilot performance. If a camera is obstructed or blinded, Model S displays a message on the instrument cluster and Autopilot features may not be available. For more information on specific alerts, see Troubleshooting Alerts on page 212. Condensation can form inside the camera enclosures, especially if you park your vehicle outside in cold or wet conditions. The instrument cluster may display an alert stating that a camera is blocked and that some or all Autopilot features may be temporarily restricted until the camera vision is clear. To proactively dry the condensation, precondition the cabin by setting it to a warm temperature, turning the windshield defroster on, and directing the front air vents toward the door pillars (see Mobile App on page 51).\n",
            "Semantic score: 0.45035845041275024\n",
            "Page: 21 - 22\n",
            "\n",
            "\n",
            "Document: MODEL S 2021 + OWNER'S MANUAL\n",
            "Subject: Cold Weather Best Practices\n",
            "Section: Wipers\n",
            "Content: If you expect snow or ice to build up when parked, touch Controls > Service > Wiper Service Mode. This raises the wipers against the windshield so they can defrost when the windshield defrosts (see Wipers and Washers on page 77). You can also turn on wiper defrosters (if equipped). See Operating Climate Controls on page 146.\n",
            "Semantic score: 0.4079367518424988\n",
            "Page: 155 - 156\n",
            "\n",
            "\n",
            "Document: MODEL S 2012–2020 OWNER'S MANUAL\n",
            "Subject: Summon\n",
            "Section: Limitations - part 1\n",
            "Content: Autopark is particularly unlikely to operate as intended in these situations:\n",
            "• The road is sloped. Autopark is designed to operate on flat roads only. • Visibility is poor (due to heavy rain, snow, fog, etc.). • The curb is constructed of material other than stone, or the curb cannot be detected. • The target parking space is directly adjacent to a wall or pillar (for example, the last parking space of a row in an underground parking structure). • One or more of the sensors (if equipped) or cameras is damaged, dirty, or obstructed (such as by mud, ice, or snow, or by a vehicle bra, excessive paint, or adhesive products such as wraps, stickers, rubber coating, etc.). • Weather conditions (heavy rain, snow, fog, or extremely hot or cold temperatures) are interfering with sensor (if equipped) operation. • The sensors (if equipped) are affected by other electrical equipment or devices that generate ultrasonic waves. WARNING: Many unforeseen circumstances can impair Autopark's ability to park Model S. Keep this in mind and remember that as a result, Autopark may not steer Model S appropriately. Pay attention when parking Model S and stay prepared to immediately take control. NOTE: Depending on market region, vehicle configuration, options purchased, and software version, your vehicle may not be equipped with Summon, or the feature may not operate exactly as described. Summon allows you to automatically park and retrieve Model S while you are standing outside the vehicle. Summon moves Model S forward and reverse up to 39 ft. (12 meters) in, or out of, a parking space. To move Model S a longer distance while steering around objects, you can use Smart Summon (if equipped) and your mobile phone.\n",
            "Semantic score: 0.40788504481315613\n",
            "Page: 120 - 121\n",
            "\n",
            "\n",
            "Document: MODEL S 2012–2020 OWNER'S MANUAL\n",
            "Subject: Cold Weather Best Practices\n",
            "Section: Windows\n",
            "Content: In the mobile app, go to Climate and select Defrost Car, which helps melt snow, ice, and frost on the windshield, windows, and mirrors. Use the mobile app to schedule a service appointment for Tesla to provide hydrophobic coating to the side and rear windows (not the front windshield) for a nominal fee.\n",
            "Semantic score: 0.4008813798427582\n",
            "Page: 147\n",
            "\n",
            "\n"
          ]
        }
      ],
      "source": [
        "question = \"Should I use autopilot in raining or snowing conditions?\"\n",
        "find_top_matches(question)"
      ]
    }
  ],
  "metadata": {
    "kernelspec": {
      "display_name": "Python 3",
      "language": "python",
      "name": "python3"
    },
    "language_info": {
      "codemirror_mode": {
        "name": "ipython",
        "version": 3
      },
      "file_extension": ".py",
      "mimetype": "text/x-python",
      "name": "python",
      "nbconvert_exporter": "python",
      "pygments_lexer": "ipython3",
      "version": "3.11.8"
    }
  },
  "nbformat": 4,
  "nbformat_minor": 2
}
