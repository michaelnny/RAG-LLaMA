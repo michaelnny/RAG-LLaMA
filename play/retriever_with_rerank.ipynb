{
  "cells": [
    {
      "cell_type": "markdown",
      "metadata": {},
      "source": [
        "Naive retrieval without reranking"
      ]
    },
    {
      "cell_type": "code",
      "execution_count": 1,
      "metadata": {},
      "outputs": [],
      "source": [
        "# simple hack to support import module from parent directory\n",
        "import sys\n",
        "sys.path.append('../')\n",
        "\n",
        "from rag_llama.core.retrievers import RerankRetriever"
      ]
    },
    {
      "cell_type": "code",
      "execution_count": 2,
      "metadata": {},
      "outputs": [
        {
          "name": "stdout",
          "output_type": "stream",
          "text": [
            "Loading sentence-transformers/all-MiniLM-L6-v2 model and tokenizer from HuggingFace...\n",
            "Loading cross-encoder/ms-marco-MiniLM-L-6-v2 model and tokenizer from HuggingFace...\n"
          ]
        }
      ],
      "source": [
        "rerank_retriever = RerankRetriever(embed_file='../data/Tesla_manual_embeddings.pk')"
      ]
    },
    {
      "cell_type": "code",
      "execution_count": 3,
      "metadata": {},
      "outputs": [],
      "source": [
        "def find_top_matches(question: str, top_k=25, top_n=3):\n",
        "    top_matches = rerank_retriever.retrieve(question, top_k, top_n)\n",
        "\n",
        "    for item in top_matches:\n",
        "        print(f'Document: {item[\"document_title\"]}')\n",
        "        print(f'Subject: {item[\"subject\"]}')\n",
        "        print(f'Section: {item[\"section\"]}')\n",
        "        print(f'Content: {item[\"content\"]}')\n",
        "        print(f'Score: {item[\"score\"]}')\n",
        "        print(f'Rerank score: {item[\"rerank_score\"]}')\n",
        "        print('\\n')"
      ]
    },
    {
      "cell_type": "code",
      "execution_count": 4,
      "metadata": {},
      "outputs": [
        {
          "name": "stdout",
          "output_type": "stream",
          "text": [
            "Document: MODEL S 2021 + OWNER'S MANUAL\n",
            "Subject: USB Drive Requirements for Recording Videos\n",
            "Section: Sentry Mode Settings - part 1\n",
            "Content: • Exclude specific locations In Controls > Safety > Sentry Mode, you can determine if you want Sentry Mode to not enable in certain locations (see Home, Work, and Favorite Destinations on page 158 for more information):\n",
            "◦ Exclude Home: Sentry Mode does not automatically enable at the location set as Home in your Favorites list. ◦ Exclude Work: Sentry Mode does not automatically enable at the location set as Work in your Favorites list. ◦ Exclude Favorites: Sentry Mode does not automatically enable at any location in your Favorites list. NOTE: To recognize a location listed as Home, Work, or a Favorite, Model S must be parked within approximately 1,640 feet (500 meters) of the saved location. To set up your Home or Work location, touch Navigate > Set Home/Set Work. To set up a Favorite, touch the star when viewing an address on the map. Manually turning Sentry Mode on or off using the touchscreen or the mobile app overrides your Home, Work, or Favorite exclusion preferences until the next time you drive. • Set Camera-Based Detection When Camera-Based Detection is enabled, Sentry Mode uses the vehicle’s external cameras in addition to vehicle sensors to detect a security event while parked. If disabled, your vehicle only saves clips to the USB drive if a physical threat is detected. To adjust, touch Controls > Safety > Sentry Mode > Camera-Based Detection. • View Live Camera\n",
            "NOTE: View Live Camera requires premium connectivity and version 4.2.1 (or newer) of the Tesla mobile app installed on a phone that has been paired as a key to Model S. When Sentry Mode is enabled, use the mobile app to remotely view the area surrounding Model S as seen through the exterior cameras. To enable, touch Controls > Safety > Sentry Mode > View Live Camera via Mobile App on the touchscreen to see what Sentry Mode records in real-time. Ensure there are no occupants in the vehicle and all doors are locked. Then, on the mobile app, navigate to Safety > Sentry Mode > View Live Camera.\n",
            "Score: 0.5960049629211426\n",
            "Rerank score: 7.488457679748535\n",
            "\n",
            "\n",
            "Document: MODEL S 2021 + OWNER'S MANUAL\n",
            "Subject: Sentry Mode\n",
            "Section: How to Use Dashcam - part 2\n",
            "Content: While dashcam is busy, footage is not being captured and recorded. SAVED: Footage is saved. You can also save Dashcam clips by touching the Dashcam icon in the app launcher while Driving. NOTE: Once saved, Dashcam saves the last 10 minutes of footage. 5. When your desired footage is saved, view the clips on the touchscreen or a computer:\n",
            "◦ Touchscreen: Ensure Model S is in Park and touch the Dashcam icon in the app launcher. Videos are organized by timestamp. See Viewing Video Recordings on page 145 for more information. ◦ Computer: Insert the USB flash drive into a computer and navigate to the TeslaCam folder. Videos are organized by timestamp. See Viewing Video Recordings on page 145 for more information. 6. To turn Dashcam off, navigate to Controls > Dash cam > Off. If set to Auto, Manual, or On Honk, Dashcam automatically enables (but may not be actively saving footage, depending on your preferences) every time you drive. NOTE: Depending on market region, vehicle configuration, options purchased, and software version, your vehicle may not be equipped with Sentry Mode or the features may not operate exactly as described. It is your sole responsibility to consult and comply with all local regulations and property restrictions regarding the use of cameras. When enabled, your vehicle's cameras and sensors (if equipped) remain powered on and ready to record suspicious activity around your vehicle when Model S is locked and in Park. Think of Sentry Mode as an intelligent vehicle security system that alerts you when it detects possible threats nearby. If a threat is detected, Sentry Mode pulses the headlights, sounds the alarm, and displays a message on the touchscreen indicating that the cameras may be recording to inform individuals outside of the vehicle. The mobile app alerts you of the alarm and footage of the event is saved to USB drive (if installed). Sentry Mode is disabled by default. You can use voice commands or the Tesla mobile app to easily enable or disable Sentry Mode. To enable Sentry Mode using voice commands, say \"Keep Tesla safe,\" \"Keep my car safe,\" \"Sentry on,\" or \"Enable Sentry\" (see Voice Commands on page 18). Sentry Mode requires your Battery to be at least 20% charged.\n",
            "Score: 0.6035290956497192\n",
            "Rerank score: 6.154662609100342\n",
            "\n",
            "\n",
            "Document: MODEL S 2012–2020 OWNER'S MANUAL\n",
            "Subject: Sentry Mode\n",
            "Section: How to Use Dashcam - part 2\n",
            "Content: While dashcam is busy, footage is not being captured and recorded. SAVED: Footage is saved. NOTE: Once saved, Dashcam saves the last 10 minutes of footage. 5. When your desired footage is saved, view the clips on the touchscreen or a computer:\n",
            "◦ Touchscreen: Ensure Model S is in Park and touch the Dashcam icon in the app launcher. Videos are organized by timestamp. See Viewing Video Recordings on page 139 for more information. ◦ Computer: Insert the USB flash drive into a computer and navigate to the TeslaCam folder. Videos are organized by timestamp. See Viewing Video Recordings on page 139 for more information. 6. To turn Dashcam off, navigate to Controls > Safety > Dash cam > Off. If set to Auto, Manual, or On Honk, Dashcam automatically enables (but may not be actively saving footage, depending on your preferences) every time you drive. NOTE: Depending on market region, vehicle configuration, options purchased, and software version, your vehicle may not be equipped with Sentry Mode or the features may not operate exactly as described. It is your sole responsibility to consult and comply with all local regulations and property restrictions regarding the use of cameras. When enabled, your vehicle's cameras and sensors (if equipped) remain powered on and ready to record suspicious activity around your vehicle when Model S is locked and in Park. Think of Sentry Mode as an intelligent vehicle security system that alerts you when it detects possible threats nearby. If a threat is detected, Sentry Mode pulses the headlights, sounds the alarm, and displays a message on the touchscreen indicating that the cameras may be recording to inform individuals outside of the vehicle. The mobile app alerts you of the alarm and footage of the event is saved to USB drive (if installed). Sentry Mode is disabled by default. You can use voice commands or the Tesla mobile app to easily enable or disable Sentry Mode. To enable Sentry Mode using voice commands, say \"Keep Tesla safe,\" \"Keep my car safe,\" \"Sentry on,\" or \"Enable Sentry\" (see Voice Commands on page 17). Sentry Mode requires your Battery to be at least 20% charged. If the Battery falls below 20%, Sentry Mode turns off and the mobile app sends you a notification.\n",
            "Score: 0.6006901860237122\n",
            "Rerank score: 6.152093410491943\n",
            "\n",
            "\n"
          ]
        }
      ],
      "source": [
        "question = \"How to enable Sentry Mode on my Tesla model S?\"\n",
        "find_top_matches(question)"
      ]
    },
    {
      "cell_type": "code",
      "execution_count": 5,
      "metadata": {},
      "outputs": [
        {
          "name": "stdout",
          "output_type": "stream",
          "text": [
            "Document: MODEL S 2021 + OWNER'S MANUAL\n",
            "Subject: Limitations and Warnings\n",
            "Section: Autosteer on City Streets (Full Self- Driving (Beta)) - part 1\n",
            "Content: WARNING: Always remember that Full Self-Driving (Beta) (also known as Autosteer on City Streets) does not make Model S autonomous and requires a fully attentive driver who is ready to take immediate action at all times. WARNING: Full Self-Driving (Beta) is a hands-on feature. Keep your hands on the steering yoke (or steering wheel) at all times, be mindful of road conditions and surrounding traffic, and always be prepared to take immediate action. Failure to follow these instructions could cause damage, serious injury or death. It is your responsibility to familiarize yourself with the limitations of Full Self-Driving (Beta) and the situations in which it may not work as expected. WARNING: Failure to follow all warnings and instructions can result in property damage, serious injury or death. CAUTION: Full Self-Driving (Beta) and its associated functions may not operate as intended and there are numerous situations in which driver intervention may be needed. Examples include (but are not limited to):\n",
            "• Interactions with pedestrians, bicyclists, and other road users. • Unprotected turns with high-speed cross traffic. • Multi-lane turns. • Simultaneous lane changes. • Narrow roads with oncoming cars or double-parked vehicles. • Rare objects such as trailers, ramps, cargo, open doors, etc. protruding from vehicles. • Merges onto high-traffic, high-speed roads. • Debris in the road. • Construction zones. • High curvature roads, particularly at fast driving speeds. Visibility is critical for Full Self-Driving (Beta) to operate. Low visibility, such as low light or poor weather conditions (rain, snow, direct sun, fog, etc.) can significantly degrade performance. WARNING: Model S may quickly and suddenly make unexpected maneuvers or mistakes that require immediate driver intervention. The list above represents only a fraction of the possible scenarios that can cause Full Self-Driving (Beta) to make sudden maneuvers and behave unexpectedly. In fact, Model S can suddenly swerve even when driving conditions appear normal and straight-forward. Stay alert and always pay attention to the roadway so you can anticipate the need to take corrective action as early as possible. Remember that this is an early access feature that must be used with extra caution. CAUTION: As Full Self-Driving (Beta) deployment expands, Tesla will gradually make it available to eligible customers in select countries outside the United States.\n",
            "Score: 0.4427620768547058\n",
            "Rerank score: 5.920261859893799\n",
            "\n",
            "\n",
            "Document: MODEL S 2021 + OWNER'S MANUAL\n",
            "Subject: Full Self-Driving (Beta)\n",
            "Section: Limitations - part 2\n",
            "Content: Unlike Traffic-Aware Cruise Control, Autosteer, and Navigate on Autopilot, which are intended for use on multi-lane roadways with clear lane markings, Full Self-Driving (Beta) is meant to work in a variety of driving scenarios. You can use Full Self-Driving (Beta) on any type of roadway, including residential and city streets. Always remember that Full Self-Driving (Beta) does not make Model S autonomous and requires a fully attentive driver who is ready to take immediate action at all times. While Full Self-Driving (Beta) is engaged, you must monitor your surroundings and other road users at all times. Driver intervention may be required in certain situations, such as on narrow roads with oncoming cars, in construction zones, or while going through complex intersections. For more examples of scenarios in which driver intervention might be required, see Limitations and Warnings on page 125. Full Self-Driving (Beta) uses inputs from cameras mounted at the front, rear, left, and right of Model S to build a model of the area surrounding Model S (see Cameras on page 20). The Full Self-Driving computer installed in Model S is designed to use this input, rapidly process neural networks, and make decisions to safely guide you to your destination. NOTE: Full Self-Driving (Beta) is a beta feature. As Tesla’s Full Self-Driving (Beta) capabilities evolve, Model S is upgraded through over-the-air software updates. Download updates as soon as they become available. Like other Autopilot features, Full Self-Driving (Beta) requires a fully attentive driver and will display a series of escalating warnings requiring driver response. You must keep your hands on the steering yoke (or steering wheel) while Full Self-Driving (Beta) is engaged. In addition, the cabin camera monitors driver attentiveness (see Cabin Camera on page 20). Use Full Self-Driving (Beta) in limited Beta only if you will pay constant attention to the road and be prepared to act immediately, especially around blind corners, crossing intersections, and in narrow driving situations. For more information, see Limitations and Warnings on page 125.\n",
            "CAUTION: As Full Self-Driving (Beta) deployment expands, Tesla will gradually make it available to eligible customers in select countries outside of the United States and Canada.\n",
            "Score: 0.5320783257484436\n",
            "Rerank score: 5.064098834991455\n",
            "\n",
            "\n",
            "Document: MODEL S 2012–2020 OWNER'S MANUAL\n",
            "Subject: Full Self-Driving (Beta)\n",
            "Section: How to Use Full Self-Driving (Beta)\n",
            "Content: To indicate that Full Self-Driving (Beta) is available but not engaged, the top corner of the touchscreen displays a gray steering wheel icon next to the driving gear. To engage Full-Self Driving (Beta), enter a destination (if desired) and pull the Autopilot stalk toward you twice in quick succession. If you do not enter a destination, Model S chooses the most probable driving path or suggests a destination based on your driving.\n",
            "NOTE: If the setting for Autopilot Activation is set to Single Pull (touch Controls > Autopilot > Autopilot Activation), Autosteer engages when you pull the Autopilot stalk toward you once. While Full Self-Driving (Beta) is engaged:\n",
            "1. The steering wheel icon next to the driving gear is blue and a blue line represents your driving path.\n",
            "2. The instrument panel displays a visualization of the environment surrounding Model S, including the roadway and detected objects such as vehicles, pedestrians, curbs, etc.\n",
            "3. Be ready to take over: There may be occasions where driver intervention is required and you must take over immediately to maintain safe driving. For example, the vehicle may alert you or the visualization may indicate indecisiveness by incessant flickering.\n",
            "NOTE: Practicing a safe disengage before it is necessary is ideal. In addition, like Autosteer, Full Self-Driving (Beta) checks for driver attentiveness and requires your hands on the steering wheel at all times. If your hands are not detected, the instrument panel displays escalating warnings and failure to respond to these warnings cancels Full Self-Driving (Beta) until your next drive.\n",
            "NOTE: Failure to use Full Self-Driving (Beta) appropriately may cause the feature to be disabled.\n",
            "4. Safe disengage: To disengage Full Self-Driving (Beta) safely, be aware of your surroundings and push the Autopilot stalk away from you once, press the brake pedal, or take over and steer manually.\n",
            "When arriving at a chosen destination, Full Self-Driving (Beta) stops Model S and displays a message indicating that navigation is complete.\n",
            "NOTE: Full Self-Driving (Beta) uses Tesla's vision-based system and therefore radar (if equipped) is disabled.\n",
            "Score: 0.4445456266403198\n",
            "Rerank score: 4.464433670043945\n",
            "\n",
            "\n"
          ]
        }
      ],
      "source": [
        "question = \"Under what circumstances that I should not use full self-driving on my Tesla?\"\n",
        "find_top_matches(question)"
      ]
    },
    {
      "cell_type": "code",
      "execution_count": 6,
      "metadata": {},
      "outputs": [
        {
          "name": "stdout",
          "output_type": "stream",
          "text": [
            "Document: MODEL S 2012–2020 OWNER'S MANUAL\n",
            "Subject: Touchscreen\n",
            "Section: Restarting the Touchscreen or Instrument Panel\n",
            "Content: You can restart your touchscreen if it is unresponsive or demonstrates unusual behavior.\n",
            "NOTE: To ensure the safety of occupants as well as other road users, restart the touchscreen only when the vehicle is in Park.\n",
            "1. Shift into Park.\n",
            "2. Hold down both scroll buttons on the steering wheel until the touchscreen turns black. Pressing the brake pedal while holding down the scroll buttons does not have any impact and is not required.\n",
            "3. After a few seconds, the Tesla logo appears. Wait approximately 30 seconds for the touchscreen to restart. If the touchscreen is still unresponsive or demonstrating unusual behavior after a few minutes, try power cycling the vehicle (if possible). See Power Cycling the Vehicle on page 62.\n",
            "To reset the instrument panel, shift into Park and press the top two buttons on the steering wheel ( Voice Commands and Next) for 15-30 seconds, or until the screen turns black. A few seconds later, a Tesla logo appears. Wait approximately 30 seconds for the instrument panel to restart.\n",
            "NOTE: Pressing the scroll buttons only restarts the touchscreen. It does not restart any other vehicle component and does not power Model S off and on.\n",
            "Score: 0.7273500561714172\n",
            "Rerank score: 6.182755470275879\n",
            "\n",
            "\n",
            "Document: MODEL S 2021 + OWNER'S MANUAL\n",
            "Subject: Touchscreen\n",
            "Section: Restarting the Touchscreen\n",
            "Content: You can restart your touchscreen if it is unresponsive or demonstrates unusual behavior.\n",
            "NOTE: To ensure the safety of occupants as well as other road users, restart the touchscreen only when the vehicle is in Park.\n",
            "1. Shift into Park.\n",
            "2. Hold down both scroll buttons on the steering yoke (or steering wheel) until the touchscreen turns black. Pressing the brake pedal while holding down the scroll buttons does not have any impact and is not required.\n",
            "3. After a few seconds, the Tesla logo appears. Wait approximately 30 seconds for the touchscreen to restart. If the touchscreen is still unresponsive or demonstrating unusual behavior after a few minutes, try power cycling the vehicle (if possible). See Power Cycling the Vehicle on page 65.\n",
            "NOTE: Restarting the touchscreen also activates the drive mode selector on the center console.\n",
            "NOTE: Pressing the scroll buttons only restarts the touchscreen. It does not restart any other vehicle component and does not power Model S off and on.\n",
            "Score: 0.7300341129302979\n",
            "Rerank score: 5.947696208953857\n",
            "\n",
            "\n",
            "Document: MODEL S 2012–2020 OWNER'S MANUAL\n",
            "Subject: Smart Garage\n",
            "Section: Troubleshooting HomeLink Standard Mode\n",
            "Content: In Standard Mode, Model S records the RF signal from your HomeLink device's remote control. The touchscreen instructs you to stand in front of the vehicle, point the device's remote control at the front bumper, and press and hold the button until the headlights flash. When the headlights flash, Model S has learned the remote control and you can touch Continue on the touchscreen. If the headlights do not flash:\n",
            "• Check the batteries in the remote control. It is a good idea to replace the batteries before you start programming.\n",
            "• Ensure you are standing in front of Model S with the device's remote control positioned within two inches (five cm) of the Tesla emblem.\n",
            "• Press and hold the button on your device's remote control until the headlights flash. In some cases you must hold the button on the remote control for up to three minutes.\n",
            "NOTE: Some HomeLink remote controls require multiple short presses (approximately one second each press) instead of one long duration press. If you are unsuccessful after multiple attempts of using long presses, try repeated presses of one second each.\n",
            "Score: 0.5818719863891602\n",
            "Rerank score: 4.676850318908691\n",
            "\n",
            "\n"
          ]
        }
      ],
      "source": [
        "question = \"What should I do if the touchscreen is not responding on my Tesla?\"\n",
        "find_top_matches(question)"
      ]
    },
    {
      "cell_type": "code",
      "execution_count": 7,
      "metadata": {},
      "outputs": [
        {
          "name": "stdout",
          "output_type": "stream",
          "text": [
            "Document: MODEL S 2021 + OWNER'S MANUAL\n",
            "Subject: Keys\n",
            "Section: Key Card\n",
            "Content: Tesla provides you with two Model S key cards, designed to fit in your wallet. To use a key card to unlock or lock Model S, position the card as shown and tap it against the card reader located approximately one third the way up of the driver's side door pillar. When Model S detects the key card, the exterior lights flash, the mirrors unfold or fold (if Fold Mirrors is on), the horn sounds (if Lock Confirmation Sound is on), and the doors unlock or lock.\n",
            "NOTE: You may need to physically touch the wireless phone charger or driver's side door pillar with the key card, and you may need to hold it against the transmitter for one or two seconds.\n",
            "Once inside, power up Model S by pressing the brake pedal within two minutes of scanning the key card (see Starting and Powering Off on page 65). If you wait longer than two minutes, you must re-authenticate by placing the key card near the card reader located in the wireless phone charger on the center console. When your key card is detected, your two minute authentication period restarts.\n",
            "NOTE: If enabled, Walk-Away Door Lock (see Walk-Away Door Lock on page 27) operates only when you walk away using a phone key or passive key fob. When you walk away carrying your key card, Model S does not automatically unlock/lock.\n",
            "Score: 0.7043730020523071\n",
            "Rerank score: 8.174359321594238\n",
            "\n",
            "\n",
            "Document: MODEL S 2021 + OWNER'S MANUAL\n",
            "Subject: Keys\n",
            "Section: Types of Keys\n",
            "Content: Model S supports the following types of keys:\n",
            "• Phone key - You can set up your personal phone as a \"phone key\" that communicate with Model S using Bluetooth. A phone key supports automatic locking and unlocking.\n",
            "• Key card - Tesla provides two key cards that communicates with Model S using short range radio-frequency identification (RFID) signals. The key card is used to \"authenticate\" phone keys to work with Model S and to add or remove other keys. Unlike the phone key and key fobs, the key card does not support automatic locking and unlocking. In situations where your phone key has a dead battery, or is lost or stolen, use your key card to unlock, drive, and lock Model S.\n",
            "• Key fob - The key fob (if equipped) allows you to press buttons to open the front and rear trunks, and unlock, lock, and drive Model S. The key fob also supports automatic locking and unlocking, if available in your region (see Walk-Away Door Lock on page 27Passive Locking and Unlocking on page 24) and can be used as a backup to your phone key.\n",
            "Model S supports a total of 19 keys, which can include phone keys, key cards, and up to four key fobs.\n",
            "CAUTION: Remember to bring a key with you when you drive. Although you can drive Model S away from its key, you will be unable to power it back on after it powers off.\n",
            "Score: 0.6864175200462341\n",
            "Rerank score: 6.134818077087402\n",
            "\n",
            "\n",
            "Document: MODEL S 2021 + OWNER'S MANUAL\n",
            "Subject: Keys\n",
            "Section: Key Fob - part 1\n",
            "Content: NOTE: Depending on market region, vehicle configuration, or date of manufacture, your vehicle may not come with a key fob. Go to http://shop.tesla.com for more information. You can quickly familiarize yourself with the key fob by thinking of it as a miniature version of Model S, with the Tesla badge representing the front. The key has buttons that feel like softer areas on the surface. 1. Rear trunk - Double-click to open or close the rear trunk. Hold down for one to two seconds to open the charge port door. 2. Lock/Unlock All - Single-click to lock doors and trunks (all doors and trunks must be closed). Double-click to unlock doors and trunks. 3. Front trunk - Double-click to unlatch the front trunk. Once inside, power up Model S by pressing the brake pedal within two minutes of pressing the unlock button on the key fob (see #unique_104 on page ). If you wait longer than two minutes, you must press the unlock button again, or place the key fob near the card reader located in the lower half of the left wireless phone charger, facing downward, on the center console. When your key fob is detected, the two minute authentication period restarts. When approaching or leaving Model S carrying the key fob, you do not need to point the key fob at Model S as you press a button, but you must be within operating range. Radio equipment on a similar frequency can affect the key. If this happens, move the key at least one foot (30 cm) away from other electronic devices (phones, laptops, etc.). In the event that the key fob's battery is dead, you can still use it. To unlock the vehicle, scan the key fob on the card reader located on the driver's side door pillar (like the key card). To drive the vehicle, scan the key fob on the phone charger. 1. Place it at the top of the left phone charger, against the center divider. 2. Point the front of the key fob down. 3. Swipe downwards.\n",
            "Score: 0.6208959817886353\n",
            "Rerank score: 5.5700788497924805\n",
            "\n",
            "\n"
          ]
        }
      ],
      "source": [
        "question = \"How can I use a key card to open my Tesla?\"\n",
        "find_top_matches(question)"
      ]
    },
    {
      "cell_type": "code",
      "execution_count": 8,
      "metadata": {},
      "outputs": [
        {
          "name": "stdout",
          "output_type": "stream",
          "text": [
            "Document: MODEL S 2012–2020 OWNER'S MANUAL\n",
            "Subject: Collision Avoidance Assist\n",
            "Section: Limitations and Inaccuracies - part 2\n",
            "Content: • One or more of the sensors (if equipped) is damaged, dirty, or obstructed (such as by mud, ice, or snow, or by a vehicle bra, excessive paint, or adhesive products such as wraps, stickers, rubber coating, etc.). • Weather conditions (heavy rain, snow, fog, or extremely hot or cold temperatures) are interfering with sensor operation. • The sensors (if equipped) are affected by other electrical equipment or devices that generate ultrasonic waves. • An object mounted to Model S (such as a bike rack or a bumper sticker) is interfering with or obstructing a sensor. • Visibility is poor and lane markings are not clearly visible (due to heavy rain, snow, fog, etc.). • Lane markings are excessively worn, have visible previous markings, have been adjusted due to road construction or are changing quickly (for example, lanes branching off, crossing over, or merging). WARNING: The lists above do not represent every possible situation that may interfere with Lane Assist features. There are many reasons why Lane Assist may not operate as intended. To avoid a collision, stay alert and always pay attention to the road so you can anticipate the need to take corrective action as early as possible. If your Model S is equipped with Autopilot components (see Cameras on page 19), the following collision avoidance features are designed to increase the safety of you and your passengers: The following collision avoidance features are designed to increase the safety of you and your passengers:\n",
            "• Forward Collision Warning - provides visual, audible, and haptic feedback warnings in situations when Model S detects that there is a high risk of a frontal collision (see Forward Collision Warning on page 128). • Automatic Emergency Braking - automatically applies braking to reduce the impact of a collision (see Automatic Emergency Braking on page 129). • Obstacle-Aware Acceleration - reduces acceleration if Model S detects an object in its immediate driving path (see Obstacle-Aware Acceleration on page 129). CAUTION: Ensure all cameras are clean and free of obstructions before each drive and before using Autopilot features (see Cleaning a Camera on page 182). Dirty cameras and sensors (if equipped), as well as environmental conditions such as rain and faded lane markings, can affect Autopilot performance.\n",
            "Score: 0.36746731400489807\n",
            "Rerank score: 2.989569902420044\n",
            "\n",
            "\n",
            "Document: MODEL S 2021 + OWNER'S MANUAL\n",
            "Subject: Collision Avoidance Assist\n",
            "Section: Limitations and Inaccuracies - part 2\n",
            "Content: • One or more of the sensors (if equipped) is damaged, dirty, or obstructed (such as by mud, ice, or snow, or by a vehicle bra, excessive paint, or adhesive products such as wraps, stickers, rubber coating, etc.). • Weather conditions (heavy rain, snow, fog, or extremely hot or cold temperatures) are interfering with sensor operation. • The sensors (if equipped) are affected by other electrical equipment or devices that generate ultrasonic waves. • An object mounted to Model S (such as a bike rack or a bumper sticker) is interfering with or obstructing a sensor. • Visibility is poor and lane markings are not clearly visible (due to heavy rain, snow, fog, etc.). • Lane markings are excessively worn, have visible previous markings, have been adjusted due to road construction or are changing quickly (for example, lanes branching off, crossing over, or merging). WARNING: The lists above do not represent every possible situation that may interfere with Lane Assist features. There are many reasons why Lane Assist may not operate as intended. To avoid a collision, stay alert and always pay attention to the road so you can anticipate the need to take corrective action as early as possible. The following collision avoidance features are designed to increase the safety of you and your passengers:\n",
            "• Forward Collision Warning - provides visual, audible, and haptic feedback warnings in situations when Model S detects that there is a high risk of a frontal collision (see Forward Collision Warning on page 134). • Automatic Emergency Braking - automatically applies braking to reduce the impact of a collision (see Automatic Emergency Braking on page 135). • Obstacle-Aware Acceleration - reduces acceleration if Model S detects an object in its immediate driving path (see Obstacle-Aware Acceleration on page 135). CAUTION: Ensure all cameras are clean and free of obstructions before each drive and before using Autopilot features (see Cleaning a Camera on page 192). Dirty cameras and sensors (if equipped), as well as environmental conditions such as rain and faded lane markings, can affect Autopilot performance. If a camera is obstructed or blinded, Model S displays a message on the instrument cluster and Autopilot features may not be available.\n",
            "Score: 0.3464154601097107\n",
            "Rerank score: 2.444737434387207\n",
            "\n",
            "\n",
            "Document: MODEL S 2021 + OWNER'S MANUAL\n",
            "Subject: Autopilot Features\n",
            "Section: Autopilot Conditions - part 1\n",
            "Content: Ensure all cameras are clean and free of obstructions before each drive and before using Autopilot features (see Cleaning a Camera on page 192). Dirty cameras and sensors (if equipped), as well as environmental conditions such as rain and faded lane markings, can affect Autopilot performance. If a camera is obstructed or blinded, Model S displays a message on the instrument cluster and Autopilot features may not be available. For more information on specific alerts, see Troubleshooting Alerts on page 225. Before you can use Autopilot features, and after some Service visits, you must drive a short distance to calibrate cameras. For more information, see Drive to Calibrate Cameras on page 20. In addition, these features may not work as intended when:\n",
            "• The road has sharp curves or significant changes in elevation. • Road signs and signals are unclear, ambiguous, or poorly maintained. • Visibility is poor (due to heavy rain, snow, hail, etc. or poorly lit roadways at night)\n",
            "• You are driving in a tunnel or next to a highway divider that interferes with the view of the camera(s)\n",
            "• Bright light (such as from oncoming headlights or direct sunlight) interferes with the view of the camera(s). The list above does not represent an exhaustive list of situations that may interfere with proper operation of Autopilot features. For more information, see Limitations and Warnings on page 125.\n",
            "NOTE: Depending on market region, vehicle configuration, options purchased, and software version, your vehicle may not be equipped with the following features, or a feature may not operate exactly as described. Autopilot Feature Available When\n",
            "Traffic-Aware Cruise Control\n",
            "• You are driving between 18 mph (30 km/h) and 85 mph (140 km/h)\n",
            "NOTE: You can activate Traffic-Aware Cruise Control at lower speeds if there is a vehicle detected at least 5 feet (1.5 meters) ahead of Model S. Autosteer\n",
            "• You are driving between 18 mph (30 km/h) and 85 mph (140 km/h)\n",
            "NOTE: You can activate Autosteer at lower speeds if there is a vehicle detected at least 5 feet (1.5 meters) ahead of Model S. NOTE: On a residential road, a road without a center divider, or a road that is not controlled access, the maximum allowed cruising speed is limited and the instrument panel displays a message.\n",
            "Score: 0.3776721656322479\n",
            "Rerank score: 1.7474069595336914\n",
            "\n",
            "\n"
          ]
        }
      ],
      "source": [
        "question = \"Should I use autopilot in raining or snowing conditions?\"\n",
        "find_top_matches(question)"
      ]
    }
  ],
  "metadata": {
    "kernelspec": {
      "display_name": "Python 3",
      "language": "python",
      "name": "python3"
    },
    "language_info": {
      "codemirror_mode": {
        "name": "ipython",
        "version": 3
      },
      "file_extension": ".py",
      "mimetype": "text/x-python",
      "name": "python",
      "nbconvert_exporter": "python",
      "pygments_lexer": "ipython3",
      "version": "3.11.8"
    }
  },
  "nbformat": 4,
  "nbformat_minor": 2
}
