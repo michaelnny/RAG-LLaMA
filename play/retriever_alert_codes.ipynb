{
  "cells": [
    {
      "cell_type": "markdown",
      "metadata": {},
      "source": [
        "Naive retrieval without reranking"
      ]
    },
    {
      "cell_type": "code",
      "execution_count": 1,
      "metadata": {},
      "outputs": [],
      "source": [
        "# simple hack to support import module from parent directory\n",
        "import sys\n",
        "sys.path.append('../')\n",
        "\n",
        "from rag_llama.core.retrievers import StandardRetriever"
      ]
    },
    {
      "cell_type": "code",
      "execution_count": 2,
      "metadata": {},
      "outputs": [
        {
          "name": "stdout",
          "output_type": "stream",
          "text": [
            "Loading sentence-transformers/all-MiniLM-L6-v2 tokenizer from HuggingFace...\n",
            "Loading sentence-transformers/all-MiniLM-L6-v2 model from HuggingFace...\n"
          ]
        },
        {
          "name": "stderr",
          "output_type": "stream",
          "text": [
            "Special tokens have been added in the vocabulary, make sure the associated word embeddings are fine-tuned or trained.\n"
          ]
        },
        {
          "name": "stdout",
          "output_type": "stream",
          "text": [
            "Loading tokenizer from ../checkpoints/finetune_embedding/tokenizer...\n",
            "Loading model from ../checkpoints/finetune_embedding/epoch-50...\n"
          ]
        }
      ],
      "source": [
        "knowledge_base = '../data/Tesla_manual_embeddings.pk'\n",
        "standard_retriever = StandardRetriever(knowledge_embed=knowledge_base)\n",
        "\n",
        "model_ckpt_dir = '../checkpoints/finetune_embedding/epoch-50'\n",
        "tokenizer_ckpt_dir = '../checkpoints/finetune_embedding/tokenizer'\n",
        "finetuned_knowledge_base = '../data/Tesla_manual_embeddings_finetuned.pk'\n",
        "finetuned_retriever = StandardRetriever(knowledge_embed=finetuned_knowledge_base, model_ckpt_dir=model_ckpt_dir, tokenizer_ckpt_dir=tokenizer_ckpt_dir)\n"
      ]
    },
    {
      "cell_type": "code",
      "execution_count": 3,
      "metadata": {},
      "outputs": [],
      "source": [
        "from IPython.display import HTML, display\n",
        "\n",
        "def display_in_columns(query: str, standard_result: str, finetuned_result: str) -> None:\n",
        "    \"\"\"\n",
        "    Display content in columns side-by-side.\n",
        "    \n",
        "    Parameters:\n",
        "    query (str): user query\n",
        "    standard_result (str): response for left column.\n",
        "    finetuned_result (str): response for right column.\n",
        "\n",
        "    \"\"\"\n",
        "\n",
        "    # Convert newlines to HTML line breaks and bulleted lists to HTML list items\n",
        "    def handle_newline(input_strings) -> str:\n",
        "        if input_strings is None:\n",
        "            return\n",
        "        return input_strings.replace('\\n', '<br>')\n",
        "    \n",
        "    standard_result = handle_newline(standard_result)\n",
        "    finetuned_result = handle_newline(finetuned_result)\n",
        "\n",
        "    html_content = f'''\n",
        "    <div>\n",
        "        <div style=\"padding: 20px 0; font-weight: bold;\">User: {query}</div>\n",
        "        <div style=\"display: grid; grid-template-columns: repeat(2, 1fr); gap: 20px;\">\n",
        "            <div>\n",
        "                <div style=\"font-weight: bold;\">Standard Retrieval:</div>\n",
        "                {standard_result}\n",
        "            </div>\n",
        "\n",
        "            <div>\n",
        "                <div style=\"font-weight: bold;\">Retrieval with fine-tuned embedding:</div>\n",
        "                {finetuned_result}\n",
        "            </div>\n",
        "        </div>\n",
        "    <div>\n",
        "    '''\n",
        "    display(HTML(html_content))\n",
        "\n",
        "\n",
        "def format_document_str(data):\n",
        "\n",
        "    formatted_text = f\"Document: {data['document_title']}\\nCar model: {data['car_model']}\\nSubject: {data['subject']} - {data['section']}\\nContent: {data['content']}\\nPage: {data['page']}\"\n",
        "    return formatted_text\n",
        "\n",
        "\n",
        "def find_top_matches(question: str, top_k=1):\n",
        "    standard_top_matches = standard_retriever.retrieve(question, top_k)\n",
        "    finetuned_top_matches = finetuned_retriever.retrieve(question, top_k)\n",
        "\n",
        "    standard_result = format_document_str(standard_top_matches[0])\n",
        "    finetuned_result = format_document_str(finetuned_top_matches[0])\n",
        "\n",
        "    display_in_columns(question, standard_result, finetuned_result)\n",
        "\n"
      ]
    },
    {
      "cell_type": "markdown",
      "metadata": {},
      "source": [
        "The following alert codes are in the training datasets"
      ]
    },
    {
      "cell_type": "code",
      "execution_count": 4,
      "metadata": {},
      "outputs": [
        {
          "data": {
            "text/html": [
              "\n",
              "    <div>\n",
              "        <div style=\"padding: 20px 0; font-weight: bold;\">User: what does CP_a055 mean?</div>\n",
              "        <div style=\"display: grid; grid-template-columns: repeat(2, 1fr); gap: 20px;\">\n",
              "            <div>\n",
              "                <div style=\"font-weight: bold;\">Standard Retrieval:</div>\n",
              "                Document: MODEL S 2021 + OWNER'S MANUAL<br>Car model: MODEL S 2021 +<br>Subject: Troubleshooting Alerts - CP_a066 Charging equipment not ready See equipment instructions to start charging - part 2<br>Content: For more information on charging, see Charging Instructions on page 172.<br>Page: 249\n",
              "            </div>\n",
              "\n",
              "            <div>\n",
              "                <div style=\"font-weight: bold;\">Retrieval with fine-tuned embedding:</div>\n",
              "                Document: MODEL S 2021 + OWNER'S MANUAL<br>Car model: MODEL S 2021 +<br>Subject: Troubleshooting Alerts - CP_a055 Charging equipment communication lost Check power source and charging equipment<br>Content: What this alert means: Charging stopped because communication between the vehicle and the external charging equipment was interrupted. This alert is usually specific to external charging equipment and power sources and does not typically indicate an issue with your vehicle that can be resolved by scheduling service. What to do: Confirm whether the external charging equipment is powered by looking for any status lights, displays, or other indicators on the equipment. For more information on troubleshooting Mobile Connector or Wall Connector status lights, refer to the product's Owner's Manual at Charging & Adapter Product Guides. If the equipment is not powered, try to restore the external charging equipment’s power source.<br>• If attempting to charge at a public station and power is unable to be restored, contact the station operator.<br>• If attempting to charge at a private station (for example: charging at home) and power is unable to be restored, contact an electrician.<br>If the equipment is powered, try charging the vehicle using different external charging equipment.<br>• If the vehicle begins charging, the issue was likely with the equipment.<br>• If the vehicle still does not charge, the issue may be with the vehicle.<br>You can also try charging your vehicle using a Tesla Supercharger or Destination Charging location, all of which can be located through the map on your vehicle's touchscreen display. See Maps and Navigation on page 156 for more details.<br>Page: 247 - 248\n",
              "            </div>\n",
              "        </div>\n",
              "    <div>\n",
              "    "
            ],
            "text/plain": [
              "<IPython.core.display.HTML object>"
            ]
          },
          "metadata": {},
          "output_type": "display_data"
        }
      ],
      "source": [
        "question = \"what does CP_a055 mean?\"\n",
        "find_top_matches(question)"
      ]
    },
    {
      "cell_type": "code",
      "execution_count": 5,
      "metadata": {},
      "outputs": [
        {
          "data": {
            "text/html": [
              "\n",
              "    <div>\n",
              "        <div style=\"padding: 20px 0; font-weight: bold;\">User: I see UMC_a008 on my dashboard what should I do</div>\n",
              "        <div style=\"display: grid; grid-template-columns: repeat(2, 1fr); gap: 20px;\">\n",
              "            <div>\n",
              "                <div style=\"font-weight: bold;\">Standard Retrieval:</div>\n",
              "                Document: MODEL S 2021 + OWNER'S MANUAL<br>Car model: MODEL S 2021 +<br>Subject: Troubleshooting Alerts - VCFRONT_a192 Electrical system is unable to support all features Switching off features to conserve energy<br>Content: What this alert means: The electrical system cannot support all vehicle features. Your vehicle is shutting down nonessential features to preserve energy for essential functions. If you are driving when this alert is present, it is possible your vehicle may shut down unexpectedly. It is also possible that your vehicle will not restart once parked. Nonessential features may be unavailable, including seat heaters, cabin climate control, and in-vehicle entertainment. This is expected behavior intended to help your vehicle maintain adequate electrical power for essential functions, including the ability to operate headlights, windows and doors, hazard lights, and the front trunk (frunk). It is possible your vehicle may lose all electrical power. If this occurs, you can still use the manual door releases to exit the vehicle if necessary. For more information, see Opening Doors from the Interior on page 27. What to do: This alert may be present due to various vehicle conditions. For more information and further recommended actions, check for other active vehicle alerts.<br>Page: 275 - 276\n",
              "            </div>\n",
              "\n",
              "            <div>\n",
              "                <div style=\"font-weight: bold;\">Retrieval with fine-tuned embedding:</div>\n",
              "                Document: MODEL S 2021 + OWNER'S MANUAL<br>Car model: MODEL S 2021 +<br>Subject: Troubleshooting Alerts - UMC_a008 Unable to charge - Wall plug temperature high Wall outlet and wiring inspection recommended<br>Content: What this alert means: High temperature detected by Mobile Connector alerts indicate the outlet used to charge is becoming too warm, so charging has stopped to protect the outlet. This does not indicate an issue with your Mobile Connector or vehicle, but instead points to an issue with the wall outlet / electrical installation the Mobile Connector is connected to. A warm outlet may be caused by a plug that is not fully inserted, a loose building wiring connection to the outlet, or an outlet that is beginning to wear out. What to do: Make sure your adapter is fully plugged into the outlet. If charging speed does not return to normal, contact an electrician to inspect the outlet and building wiring connections to the outlet and complete any repairs needed. If the outlet is worn, it should be replaced with a high-quality outlet. Consider upgrading to a Tesla Wall Connector for greater convenience and highest charging speed.<br>Page: 268\n",
              "            </div>\n",
              "        </div>\n",
              "    <div>\n",
              "    "
            ],
            "text/plain": [
              "<IPython.core.display.HTML object>"
            ]
          },
          "metadata": {},
          "output_type": "display_data"
        }
      ],
      "source": [
        "question = \"I see UMC_a008 on my dashboard what should I do\"\n",
        "find_top_matches(question)"
      ]
    },
    {
      "cell_type": "code",
      "execution_count": 6,
      "metadata": {},
      "outputs": [
        {
          "data": {
            "text/html": [
              "\n",
              "    <div>\n",
              "        <div style=\"padding: 20px 0; font-weight: bold;\">User: Why do I see code APP_w224 on the screen</div>\n",
              "        <div style=\"display: grid; grid-template-columns: repeat(2, 1fr); gap: 20px;\">\n",
              "            <div>\n",
              "                <div style=\"font-weight: bold;\">Standard Retrieval:</div>\n",
              "                Document: MODEL S 2021 + OWNER'S MANUAL<br>Car model: MODEL S 2021 +<br>Subject: Touchscreen - Overview - part 3<br>Content: The number of recent apps displayed here depends on how many apps have been added to My Apps. If you add the maximum number of apps to My Apps, only the most recent app displays. 9. Climate controls (passenger): Displays when temperature controls have been Split to provide separate controls for the driver and passenger. 10. Volume Control: Controls the volume of media player and phone calls (see Volume Controls on page 162). The volume of navigation instructions is controlled separately (see Maps and Navigation on page 156). 11. Media Player: See Media on page 162.<br>Page: 8 - 9\n",
              "            </div>\n",
              "\n",
              "            <div>\n",
              "                <div style=\"font-weight: bold;\">Retrieval with fine-tuned embedding:</div>\n",
              "                Document: MODEL S 2021 + OWNER'S MANUAL<br>Car model: MODEL S 2021 +<br>Subject: Troubleshooting Alerts - APP_w224 Cruise control unavailable Continue driving to allow cameras to calibrate<br>Content: What this alert means: Traffic-Aware Cruise Control and Autosteer are unavailable because the cameras on your vehicle are not fully calibrated. Your vehicle must maneuver with great precision when features like Traffic-Aware Cruise Control and Autosteer are active. Before these features can be used for the first time, the cameras must complete an initial self-calibration. Occasionally, one or more cameras can become uncalibrated. What to do: Continue to your destination. Your vehicle is OK to drive. Traffic-Aware Cruise Control and Autosteer will remain unavailable until camera calibration is complete. When calibration is complete, Traffic-Aware Cruise Control and Autosteer should be available. For your convenience, a calibration progress indicator is displayed on the touchscreen. Calibration typically completes after your vehicle has driven 20-25 miles (32-40 km), but the distance varies depending on road and environmental conditions. For example, driving on a straight road with highly visible lane markings helps the cameras calibrate quicker. If the alert persists and camera calibration has not completed after your vehicle has driven 100 miles (160 km) or more, or Traffic-Aware Cruise Control and Autosteer remain unavailable despite successful camera calibration, schedule service at your earliest convenience. Your vehicle is OK to drive in the meantime.<br>Page: 229 - 230\n",
              "            </div>\n",
              "        </div>\n",
              "    <div>\n",
              "    "
            ],
            "text/plain": [
              "<IPython.core.display.HTML object>"
            ]
          },
          "metadata": {},
          "output_type": "display_data"
        }
      ],
      "source": [
        "question = \"Why do I see code APP_w224 on the screen\"\n",
        "find_top_matches(question)"
      ]
    },
    {
      "cell_type": "code",
      "execution_count": 7,
      "metadata": {},
      "outputs": [
        {
          "data": {
            "text/html": [
              "\n",
              "    <div>\n",
              "        <div style=\"padding: 20px 0; font-weight: bold;\">User: How to fix error BMS_a068 on my car</div>\n",
              "        <div style=\"display: grid; grid-template-columns: repeat(2, 1fr); gap: 20px;\">\n",
              "            <div>\n",
              "                <div style=\"font-weight: bold;\">Standard Retrieval:</div>\n",
              "                Document: MODEL S 2021 + OWNER'S MANUAL<br>Car model: MODEL S 2021 +<br>Subject: Troubleshooting Alerts - BMS_a069 Battery charge level low Charge now<br>Content: What this alert means: Your vehicle has detected that the high voltage battery does not have enough energy remaining to support driving. This alert is usually present because your vehicle's high voltage battery charge level has been reduced through normal operation. Your vehicle will be unable to drive or continue driving until charged. If this alert is present while you are driving, your vehicle needs to shut down. A separate vehicle alert should be present to indicate this condition. It is also possible your vehicle may shut down unexpectedly. If this alert is present when your vehicle is parked, you may be unable to drive. What to do: Charge your vehicle immediately. Charging your vehicle should restore your vehicle's ability to drive. If this alert occurs during subsequent drives, despite a displayed battery charge level of 5% or higher, schedule service at your earliest convenience. For more information on the high voltage battery, see High Voltage Battery Information on page 170. For more information on charging, see Charging Instructions on page 172.<br>Page: 232\n",
              "            </div>\n",
              "\n",
              "            <div>\n",
              "                <div style=\"font-weight: bold;\">Retrieval with fine-tuned embedding:</div>\n",
              "                Document: MODEL S 2021 + OWNER'S MANUAL<br>Car model: MODEL S 2021 +<br>Subject: Troubleshooting Alerts - BMS_a068 High voltage battery requires service Acceleration and charging performance reduced<br>Content: What this alert means: Your vehicle has detected a condition internal to the high voltage battery that is limiting the battery’s performance. You may notice that your vehicle's top speed is reduced and it responds slower than previously to acceleration requests. Your vehicle's maximum range may be reduced, and your vehicle may take longer to charge than before. Maximum charge rate varies, as always, based on location, power source, and charging equipment. Service is required to restore full performance. What to do: Your vehicle is OK to drive. It is recommended that you schedule service at your earliest opportunity. Without service, your vehicle may continue to show reduced power, acceleration, range, and charging performance. While this alert remains present, keep your vehicle charged to 30% capacity or higher to avoid any discrepancy between the estimated range displayed on your vehicle's touchscreen and the actual high voltage battery charge level. For more information on the high voltage battery, see High Voltage Battery Information on page 170.<br>Page: 231 - 232\n",
              "            </div>\n",
              "        </div>\n",
              "    <div>\n",
              "    "
            ],
            "text/plain": [
              "<IPython.core.display.HTML object>"
            ]
          },
          "metadata": {},
          "output_type": "display_data"
        }
      ],
      "source": [
        "question = \"How to fix error BMS_a068 on my car\"\n",
        "find_top_matches(question)"
      ]
    },
    {
      "cell_type": "markdown",
      "metadata": {},
      "source": [
        "However, the following alert codes are only in the validation dataset, never seen by the model during training."
      ]
    },
    {
      "cell_type": "code",
      "execution_count": 8,
      "metadata": {},
      "outputs": [
        {
          "data": {
            "text/html": [
              "\n",
              "    <div>\n",
              "        <div style=\"padding: 20px 0; font-weight: bold;\">User: what does BMS_a067 mean?</div>\n",
              "        <div style=\"display: grid; grid-template-columns: repeat(2, 1fr); gap: 20px;\">\n",
              "            <div>\n",
              "                <div style=\"font-weight: bold;\">Standard Retrieval:</div>\n",
              "                Document: MODEL S 2021 + OWNER'S MANUAL<br>Car model: MODEL S 2021 +<br>Subject: Troubleshooting Alerts - BMS_a066 Maximum charge level and range may be reduced OK to drive - Schedule service soon<br>Content: What this alert means: Your vehicle has detected a condition internal to the high voltage battery that is limiting the battery’s performance. As a result, maximum charge level and range may be reduced. Service is required to restore full performance. What to do: Your vehicle is OK to drive. If this alert persists, schedule service at your earliest convenience. Without service, you may notice further reductions in your vehicle's maximum charge level and range. For more information on the high voltage battery, see High Voltage Battery Information on page 170.<br>Page: 230 - 231\n",
              "            </div>\n",
              "\n",
              "            <div>\n",
              "                <div style=\"font-weight: bold;\">Retrieval with fine-tuned embedding:</div>\n",
              "                Document: MODEL S 2021 + OWNER'S MANUAL<br>Car model: MODEL S 2021 +<br>Subject: Troubleshooting Alerts - BMS_a067 High voltage battery performance limited OK to drive - Schedule service soon<br>Content: What this alert means: Your vehicle has detected a condition internal to the high voltage battery that is limiting the battery’s performance. Service is required to restore full performance. Your vehicle's maximum range may be reduced, and your vehicle may take longer to charge than before. Maximum charge rate varies, as always, based on location, power source, and charging equipment. What to do: Your vehicle is OK to drive. It is recommended that you schedule service at your earliest convenience. Without service, your vehicle may continue to show further reductions in maximum range and charging performance and may also begin to show reduced power and acceleration when driving. While this alert remains present, keep your vehicle charged to 30% capacity or higher to avoid any discrepancy between the estimated range displayed on your vehicle's touchscreen and the actual high voltage battery charge level. For more information on the high voltage battery, see High Voltage Battery Information on page 170.<br>Page: 231\n",
              "            </div>\n",
              "        </div>\n",
              "    <div>\n",
              "    "
            ],
            "text/plain": [
              "<IPython.core.display.HTML object>"
            ]
          },
          "metadata": {},
          "output_type": "display_data"
        }
      ],
      "source": [
        "question = \"what does BMS_a067 mean?\"\n",
        "find_top_matches(question)"
      ]
    },
    {
      "cell_type": "code",
      "execution_count": 9,
      "metadata": {},
      "outputs": [
        {
          "data": {
            "text/html": [
              "\n",
              "    <div>\n",
              "        <div style=\"padding: 20px 0; font-weight: bold;\">User: I see DI_a175 on my dashboard what should I do?</div>\n",
              "        <div style=\"display: grid; grid-template-columns: repeat(2, 1fr); gap: 20px;\">\n",
              "            <div>\n",
              "                <div style=\"font-weight: bold;\">Standard Retrieval:</div>\n",
              "                Document: MODEL S 2021 + OWNER'S MANUAL<br>Car model: MODEL S 2021 +<br>Subject: Instrument Panel - Instrument Panel - Driving - part 1<br>Content: When Model S is driving (or ready to drive), the instrument panel shows your current driving status and a real-time visualization of the road as detected by the Autopilot components. The visualization automatically zooms in and out based on the detected road type. NOTE: Touch Controls > Autopilot > Full Self-Driving Visualization Preview (if equipped) to display more details about the roadway and its surroundings, such as road markings, stop lights, objects (such as trash cans and poles), etc. 1. The instrument panel displays your location on a map, a wiper menu, Auto Shift out of Park instructions, etc. When a navigation route is active, the upcoming portion of the route displays. 2. The speed limit (if available) that is currently being detected by Speed Assist (see Speed Assist on page 137). 3. Current driving speed. 4. The currently set cruising speed. When Traffic-Aware Cruise Control is available but you haven't set a cruising speed by engaging Traffic-Aware Cruise Control or Autosteer, the icon is gray (see Autopilot Features on page 100). 5. Autosteer is actively steering Model S. When Autosteer is available but you haven't activated it, the icon is gray (see Autosteer on page 101). 6. When navigating, upcoming instructions in the navigation route appear here. 7. Total estimated driving distance (or energy) available. Instead of driving distance, you can display the percentage of battery energy remaining (touch Controls > Display > Energy Display). NOTE: When anticipating when you need to charge, use estimates as a general guideline only. 8. Surrounding road users are shown in their corresponding locations. WARNING: Although the instrument panel shows surrounding traffic, some vehicles may not be displayed. Never rely on the instrument panel to determine if a vehicle is present (for example, in your blind spot).<br>Page: 17 - 18\n",
              "            </div>\n",
              "\n",
              "            <div>\n",
              "                <div style=\"font-weight: bold;\">Retrieval with fine-tuned embedding:</div>\n",
              "                Document: MODEL S 2021 + OWNER'S MANUAL<br>Car model: MODEL S 2021 +<br>Subject: Troubleshooting Alerts - UI_a137 Active service connection to vehicle Service performing remote diagnostics<br>Content: What this alert means: A service technician is remotely logged into your vehicle for diagnosis or repair. You may notice some loss of Infotainment functionality while the connection persists, but this alert does not indicate an issue with your vehicle. Your vehicle is OK to drive. What to do: This alert should clear automatically after the technician completes vehicle diagnosis or repair. You may find it necessary to restart your touchscreen to restore full Infotainment functionality after the alert has cleared. For more information, see Restarting the Touchscreen in your vehicle's Do It Yourself Guide. If this alert does not clear after 24 hours, it is recommended that you schedule service via your Tesla Mobile App or with an independent service provider. Please note that independent service provider options may vary, based on your vehicle configuration and your location.<br>Page: 265 - 266\n",
              "            </div>\n",
              "        </div>\n",
              "    <div>\n",
              "    "
            ],
            "text/plain": [
              "<IPython.core.display.HTML object>"
            ]
          },
          "metadata": {},
          "output_type": "display_data"
        }
      ],
      "source": [
        "question = \"I see DI_a175 on my dashboard what should I do?\"\n",
        "find_top_matches(question)"
      ]
    },
    {
      "cell_type": "code",
      "execution_count": 10,
      "metadata": {},
      "outputs": [
        {
          "data": {
            "text/html": [
              "\n",
              "    <div>\n",
              "        <div style=\"padding: 20px 0; font-weight: bold;\">User: How to fix error CC_a005 on the screen</div>\n",
              "        <div style=\"display: grid; grid-template-columns: repeat(2, 1fr); gap: 20px;\">\n",
              "            <div>\n",
              "                <div style=\"font-weight: bold;\">Standard Retrieval:</div>\n",
              "                Document: MODEL S 2021 + OWNER'S MANUAL<br>Car model: MODEL S 2021 +<br>Subject: Troubleshooting Alerts - CC_a026 Unable to charge - Wall Connector issue Wall Connector needs service<br>Content: What this alert means: Wall Connector hardware issue. Possible issues include:<br>1. Contactor not working<br>2. Self-test of internal ground fault monitoring circuit failed<br>3. Thermal sensor disconnected<br>4. Other hardware component issues<br>What to do: An internal issue was detected by the Wall Connector.<br>1. Try charging again by disconnecting the Wall Connector from the vehicle and reconnecting.<br>2. If the issue persists, turn OFF the circuit breaker for the Wall Connector, wait 10 seconds, and turn the circuit breaker ON again. Then try reconnecting the Wall Connector to the vehicle.<br>3. If the issue persists, have an electrician make sure all wires are properly connected and torqued according to the instructions in the Wall Connector Installation Manual.<br>4. Once your electrician has completed all work and restored power to the Wall Connector, try charging again by reconnecting the Wall Connector to the vehicle.<br>5. If the issue persists, the Wall Connector requires service.<br>For more information, see the installation guide for your Wall Connector.<br>Page: 241\n",
              "            </div>\n",
              "\n",
              "            <div>\n",
              "                <div style=\"font-weight: bold;\">Retrieval with fine-tuned embedding:</div>\n",
              "                Document: MODEL S 2021 + OWNER'S MANUAL<br>Car model: MODEL S 2021 +<br>Subject: Troubleshooting Alerts - CC_a005 Unable to charge - Wall Connector GFCI tripped Disconnect and retry or use different equipment<br>Content: What this alert means: Ground fault. Current is leaking through an unsafe path. Possible Line to ground or Neutral to ground fault. What to do: Try charging again by disconnecting the Wall Connector from the vehicle and reconnecting. If the issue persists, turn OFF the circuit breaker servicing the Wall Connector, wait 10 seconds, turn the circuit breaker ON again, then try reconnecting the Wall Connector to the vehicle. If the issue persists, consult your electrician or contact Tesla. For more information, see the installation guide for your Wall Connector.<br>Page: 233 - 234\n",
              "            </div>\n",
              "        </div>\n",
              "    <div>\n",
              "    "
            ],
            "text/plain": [
              "<IPython.core.display.HTML object>"
            ]
          },
          "metadata": {},
          "output_type": "display_data"
        }
      ],
      "source": [
        "question = \"How to fix error CC_a005 on the screen\"\n",
        "find_top_matches(question)"
      ]
    },
    {
      "cell_type": "markdown",
      "metadata": {},
      "source": [
        "## Test the fine-tuned model should still perform well on general questions"
      ]
    },
    {
      "cell_type": "code",
      "execution_count": 11,
      "metadata": {},
      "outputs": [
        {
          "data": {
            "text/html": [
              "\n",
              "    <div>\n",
              "        <div style=\"padding: 20px 0; font-weight: bold;\">User: How can I use a key card to open my Tesla?</div>\n",
              "        <div style=\"display: grid; grid-template-columns: repeat(2, 1fr); gap: 20px;\">\n",
              "            <div>\n",
              "                <div style=\"font-weight: bold;\">Standard Retrieval:</div>\n",
              "                Document: MODEL S 2021 + OWNER'S MANUAL<br>Car model: MODEL S 2021 +<br>Subject: Keys - Key Card<br>Content: Tesla provides you with two Model S key cards, designed to fit in your wallet. To use a key card to unlock or lock Model S, position the card as shown and tap it against the card reader located approximately one third the way up of the driver's side door pillar. When Model S detects the key card, the exterior lights flash, the mirrors unfold or fold (if Fold Mirrors is on), the horn sounds (if Lock Confirmation Sound is on), and the doors unlock or lock.<br>NOTE: You may need to physically touch the wireless phone charger or driver's side door pillar with the key card, and you may need to hold it against the transmitter for one or two seconds.<br>Once inside, power up Model S by pressing the brake pedal within two minutes of scanning the key card (see Starting and Powering Off on page 65). If you wait longer than two minutes, you must re-authenticate by placing the key card near the card reader located in the wireless phone charger on the center console. When your key card is detected, your two minute authentication period restarts.<br>NOTE: If enabled, Walk-Away Door Lock (see Walk-Away Door Lock on page 27) operates only when you walk away using a phone key or passive key fob. When you walk away carrying your key card, Model S does not automatically unlock/lock.<br>Page: 25\n",
              "            </div>\n",
              "\n",
              "            <div>\n",
              "                <div style=\"font-weight: bold;\">Retrieval with fine-tuned embedding:</div>\n",
              "                Document: MODEL S 2021 + OWNER'S MANUAL<br>Car model: MODEL S 2021 +<br>Subject: Keys - Key Card<br>Content: Tesla provides you with two Model S key cards, designed to fit in your wallet. To use a key card to unlock or lock Model S, position the card as shown and tap it against the card reader located approximately one third the way up of the driver's side door pillar. When Model S detects the key card, the exterior lights flash, the mirrors unfold or fold (if Fold Mirrors is on), the horn sounds (if Lock Confirmation Sound is on), and the doors unlock or lock.<br>NOTE: You may need to physically touch the wireless phone charger or driver's side door pillar with the key card, and you may need to hold it against the transmitter for one or two seconds.<br>Once inside, power up Model S by pressing the brake pedal within two minutes of scanning the key card (see Starting and Powering Off on page 65). If you wait longer than two minutes, you must re-authenticate by placing the key card near the card reader located in the wireless phone charger on the center console. When your key card is detected, your two minute authentication period restarts.<br>NOTE: If enabled, Walk-Away Door Lock (see Walk-Away Door Lock on page 27) operates only when you walk away using a phone key or passive key fob. When you walk away carrying your key card, Model S does not automatically unlock/lock.<br>Page: 25\n",
              "            </div>\n",
              "        </div>\n",
              "    <div>\n",
              "    "
            ],
            "text/plain": [
              "<IPython.core.display.HTML object>"
            ]
          },
          "metadata": {},
          "output_type": "display_data"
        }
      ],
      "source": [
        "question = \"How can I use a key card to open my Tesla?\"\n",
        "find_top_matches(question)"
      ]
    },
    {
      "cell_type": "markdown",
      "metadata": {},
      "source": []
    }
  ],
  "metadata": {
    "kernelspec": {
      "display_name": "Python 3",
      "language": "python",
      "name": "python3"
    },
    "language_info": {
      "codemirror_mode": {
        "name": "ipython",
        "version": 3
      },
      "file_extension": ".py",
      "mimetype": "text/x-python",
      "name": "python",
      "nbconvert_exporter": "python",
      "pygments_lexer": "ipython3",
      "version": "3.11.8"
    }
  },
  "nbformat": 4,
  "nbformat_minor": 2
}
